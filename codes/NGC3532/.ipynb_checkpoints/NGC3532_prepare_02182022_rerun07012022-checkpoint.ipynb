{
 "cells": [
  {
   "cell_type": "code",
   "execution_count": 1,
   "metadata": {},
   "outputs": [
    {
     "name": "stderr",
     "output_type": "stream",
     "text": [
      "<frozen importlib._bootstrap>:228: RuntimeWarning: scipy._lib.messagestream.MessageStream size changed, may indicate binary incompatibility. Expected 56 from C header, got 64 from PyObject\n",
      "Intel(R) Extension for Scikit-learn* enabled (https://github.com/intel/scikit-learn-intelex)\n"
     ]
    }
   ],
   "source": [
    "import numpy as np\n",
    "import pandas as pd\n",
    "from collections import Counter\n",
    "from astropy.io.fits import getdata\n",
    "from astropy import units as u\n",
    "from astropy.coordinates import SkyCoord, Angle\n",
    "from astroquery.vizier import Vizier\n",
    "from astropy.table import Table\n",
    "from astroquery.xmatch import XMatch\n",
    "import time\n",
    "import pyvo as vo\n",
    "from pathlib import Path\n",
    "import sys  \n",
    "sys.path.insert(0, '../')\n",
    "#from muwclass import datasets, prep, red,  classify, distribution, plots, prepare_data, prepare_cxo\n",
    "\n",
    "from prepare_library import atnf_pos, create_perobs_data, cal_ave, add_MW, confusion_clean, TD_clean_vizier, Gaia_counterparts, CSC_clean_keepcols, vphasp_to_gaia_mags, Gaia_counterparts_update, create_field_csc_data, cal_PU, refsrc_gaia, cal_astrometric_correction\n",
    "\n",
    "from muwclass_library import prepare_cols\n",
    "\n",
    "import warnings\n",
    "warnings.filterwarnings('ignore') \n",
    "\n",
    "Vizier.ROW_LIMIT = -1\n",
    "exnum = -999999."
   ]
  },
  {
   "cell_type": "code",
   "execution_count": 2,
   "metadata": {},
   "outputs": [],
   "source": [
    "data_dir = './data/NGC3532_02182022'\n",
    "field_name = 'NGC3532_02182022'\n",
    "verb = 0\n",
    "\n",
    "query_dir = '../demo/data/query'\n",
    "\n",
    "ref_obsID = 8941\n",
    "ref_mjd = 5.4762887769419E+04\n",
    "ra =166.28875\n",
    "dec =  -58.85\n",
    "radius = 25\n",
    "\n",
    "Path(data_dir).mkdir(parents=True, exist_ok=True)\n"
   ]
  },
  {
   "cell_type": "code",
   "execution_count": 4,
   "metadata": {},
   "outputs": [
    {
     "name": "stdout",
     "output_type": "stream",
     "text": [
      "412 sources in total with 145 sources significance>5.\n"
     ]
    }
   ],
   "source": [
    "cone = vo.dal.SCSService('http://cda.cfa.harvard.edu/csc2scs/coneSearch')\n",
    "\n",
    "field = SkyCoord(ra, dec, unit=\"deg\") \n",
    "results = cone.search(pos=field, radius=radius * u.arcmin, verbosity=2)\n",
    "\n",
    "df_res = results.to_table().to_pandas()\n",
    "\n",
    "df_sig = df_res[df_res.significance>5].reset_index()\n",
    "print(len(df_res), 'sources in total with', len(df_sig), 'sources significance>5.')\n",
    "df_pers = create_perobs_data(df_sig, query_dir, data_dir, name_type='CSCview', name_col='name', ra_col='ra',dec_col='dec',coord_format='deg')\n",
    "    \n",
    "df_pers.to_csv(f'{data_dir}/{field_name}_per.csv', index=False)"
   ]
  },
  {
   "cell_type": "code",
   "execution_count": 5,
   "metadata": {},
   "outputs": [],
   "source": [
    "#df = create_field_csc_data(data_dir, field_name,ra,dec,radius)\n",
    "\n",
    "#df.to_csv(f'{data_dir}/{field_name}_per.csv', index=False)"
   ]
  },
  {
   "cell_type": "code",
   "execution_count": null,
   "metadata": {},
   "outputs": [],
   "source": [
    "\n",
    "df = cal_PU(df_pers, 'theta', 'src_cnts_aper90_b', 'PU_kim95', ver='kim95', sigma=2.)\n",
    "\n",
    "df = cal_PU(df, 'theta', 'src_cnts_aper90_b', 'PU_csc90', ver='csc90', sigma=2.)\n",
    "\n",
    "df = cal_PU(df, 'theta', 'src_cnts_aper90_b', 'PU_kim68', ver='kim68', sigma=1.)\n",
    "\n",
    "df['PU_CSC'] = np.sqrt(df['err_ellipse_r0']**2 - 0.7**2)\n",
    "\n",
    "df['RA'] = Angle(df['ra'], 'hourangle').degree\n",
    "df['DEC'] = Angle(df['dec'], 'deg').degree\n",
    "\n",
    "df.to_csv(f'{data_dir}/{field_name}_PU.csv', index=False)"
   ]
  },
  {
   "cell_type": "code",
   "execution_count": 11,
   "metadata": {},
   "outputs": [
    {
     "name": "stdout",
     "output_type": "stream",
     "text": [
      "               ra           dec          RA        ra_s        DEC      dec_s\n",
      "0     11 03 12.09  -59 01 56.36  165.800375  165.800375 -59.032322 -59.032322\n",
      "1     11 03 34.43  -58 59 26.32  165.893458  165.893458 -58.990644 -58.990644\n",
      "2     11 03 43.69  -58 57 37.09  165.932042  165.932042 -58.960303 -58.960303\n",
      "3     11 03 51.55  -58 57 32.27  165.964792  165.964792 -58.958964 -58.958964\n",
      "4     11 03 53.85  -59 00 05.38  165.974375  165.974375 -59.001494 -59.001494\n",
      "..            ...           ...         ...         ...        ...        ...\n",
      "140   11 06 14.86  -58 52 37.62  166.561917  166.561917 -58.877117 -58.877117\n",
      "141   11 06 21.80  -58 51 33.38  166.590833  166.590833 -58.859272 -58.859272\n",
      "142   11 06 22.28  -58 49 51.13  166.592833  166.592833 -58.830869 -58.830869\n",
      "143   11 06 24.50  -58 52 51.34  166.602083  166.602083 -58.880928 -58.880928\n",
      "144   11 07 27.76  -59 04 52.90  166.865667  166.865667 -59.081361 -59.081361\n",
      "\n",
      "[145 rows x 6 columns]\n"
     ]
    }
   ],
   "source": [
    "#print(df)\n",
    "\n",
    "def hms_to_dec(hms):\n",
    "    h,m,s = pd.to_numeric(hms.split()) # hms will always be between 0 and +24 hours\n",
    "    deg = ((s/60 + m)/60 + h)*15 # 360 degrees/24 hours = 15 deg/hr\n",
    "    return float(deg)\n",
    "    \n",
    "def dms_to_dec(dms):\n",
    "    if dms[0] == \"-\": # since negative degrees are possible\n",
    "        sign = -1\n",
    "    else:\n",
    "        sign = 1\n",
    "    d,m,s = pd.to_numeric(dms.split())    \n",
    "    deg = sign*((s/60 + m)/60 + np.abs(d)) # use magnitudes only and reapply sign after\n",
    "    return float(deg)\n",
    "\n",
    "def round_scientific(number, places):\n",
    "    return float(f\"%.{places}e\"%number)\n",
    "\n",
    "df_pers = pd.read_csv(f'{data_dir}/{field_name}_per.csv')\n",
    "\n",
    "df = cal_PU(df_pers, 'theta', 'src_cnts_aper90_b', 'PU_kim95', ver='kim95', sigma=2.)\n",
    "\n",
    "df = cal_PU(df, 'theta', 'src_cnts_aper90_b', 'PU_csc90', ver='csc90', sigma=2.)\n",
    "\n",
    "df = cal_PU(df, 'theta', 'src_cnts_aper90_b', 'PU_kim68', ver='kim68', sigma=1.)\n",
    "\n",
    "df['PU_CSC'] = np.sqrt(df['err_ellipse_r0']**2 - 0.7**2)\n",
    "\n",
    "df['RA'] = Angle(df['ra'], 'hourangle').degree\n",
    "df['DEC'] = Angle(df['dec'], 'deg').degree\n",
    "\n",
    "df['ra_s'] = df.apply(lambda row: hms_to_dec(row['ra']), axis=1)\n",
    "df['dec_s'] = df.apply(lambda row: dms_to_dec(row['dec']), axis=1)\n",
    "\n",
    "print(df[['ra','dec','RA','ra_s','DEC','dec_s']])\n",
    "\n",
    "#df.to_csv(f'{data_dir}/{field_name}_PU.csv', index=False)"
   ]
  },
  {
   "cell_type": "code",
   "execution_count": 5,
   "metadata": {},
   "outputs": [
    {
     "name": "stdout",
     "output_type": "stream",
     "text": [
      "               ra           dec          RA        DEC\n",
      "0     11 03 12.09  -59 01 56.36  165.800375 -59.032322\n",
      "1     11 03 34.43  -58 59 26.32  165.893458 -58.990644\n",
      "2     11 03 43.69  -58 57 37.09  165.932042 -58.960303\n",
      "3     11 03 51.55  -58 57 32.27  165.964792 -58.958964\n",
      "4     11 03 53.85  -59 00 05.38  165.974375 -59.001494\n",
      "..            ...           ...         ...        ...\n",
      "140   11 06 14.86  -58 52 37.62  166.561917 -58.877117\n",
      "141   11 06 21.80  -58 51 33.38  166.590833 -58.859272\n",
      "142   11 06 22.28  -58 49 51.13  166.592833 -58.830869\n",
      "143   11 06 24.50  -58 52 51.34  166.602083 -58.880928\n",
      "144   11 07 27.76  -59 04 52.90  166.865667 -59.081361\n",
      "\n",
      "[145 rows x 4 columns]\n"
     ]
    }
   ],
   "source": [
    "df_radec = pd.read_csv(f'{data_dir}/{field_name}_PU.csv')\n"
   ]
  },
  {
   "cell_type": "code",
   "execution_count": 7,
   "metadata": {},
   "outputs": [
    {
     "name": "stdout",
     "output_type": "stream",
     "text": [
      "There are 145 per-obs data.\n"
     ]
    }
   ],
   "source": [
    "df['per_remove_code'] = 0\n",
    "\n",
    "df['usrid'] = df.index\n",
    "\n",
    "df_ave, df_obs = cal_ave(df, data_dir, dtype='field',Chandratype='CSC',PU='PU_kim95',cnt=True,verb=verb)\n",
    "\n",
    "df_ave = df_ave[df_ave['remove_code']==0].reset_index(drop=True)\n",
    "\n",
    "df_ave.to_csv(f'{data_dir}/{field_name}_ave.csv', index=False)"
   ]
  },
  {
   "cell_type": "code",
   "execution_count": 29,
   "metadata": {},
   "outputs": [
    {
     "name": "stdout",
     "output_type": "stream",
     "text": [
      "132\n"
     ]
    }
   ],
   "source": [
    "df_ave = pd.read_csv(f'{data_dir}/{field_name}_ave.csv')\n",
    "print(len(df_ave))"
   ]
  },
  {
   "cell_type": "markdown",
   "metadata": {},
   "source": [
    "### this step takes a few minutes to tun "
   ]
  },
  {
   "cell_type": "code",
   "execution_count": 22,
   "metadata": {},
   "outputs": [
    {
     "name": "stdout",
     "output_type": "stream",
     "text": [
      "The 90% percentile of epsi for NGC3532_02182022  field is  1.898 .\n"
     ]
    }
   ],
   "source": [
    "#df_gaia = refsrc_gaia(field_name, data_dir, ref_mjd, ra=ra, dec=dec, R=12., exclude_center=False, Plx_limits=[-2.,2.], e_Plx_limit=1., e_PM_limit=1., PU_limits=1.)\n",
    "\n",
    "df_gaia = refsrc_gaia(field_name, data_dir, ref_mjd, ra=ra, dec=dec, R=25., exclude_center=False, Plx_limits=[-2.,2.], e_Plx_limit=1., e_PM_limit=1., PU_limits=1., PM_limit=20, RUWE_limit=1.4)"
   ]
  },
  {
   "cell_type": "code",
   "execution_count": 3,
   "metadata": {
    "scrolled": true
   },
   "outputs": [
    {
     "name": "stdout",
     "output_type": "stream",
     "text": [
      "NGC3532_02182022 ./data/NGC3532_02182022 0.1 5 20\n",
      "NGC3532_02182022 ./data/NGC3532_02182022 0.2 5 20\n",
      "NGC3532_02182022 ./data/NGC3532_02182022 0.3 5 20\n",
      "NGC3532_02182022 ./data/NGC3532_02182022 0.4 5 20\n"
     ]
    }
   ],
   "source": [
    "from ciao_library import Gaia_CSC_astro\n",
    "\n",
    "\n",
    "data_dir = './data/NGC3532_02182022'\n",
    "field_name = 'NGC3532_02182022'\n",
    "\n",
    "for residlim in [0.1, 0.2, 0.3, 0.4]:\n",
    "\n",
    "    Gaia_CSC_astro(field_name,data_dir,residlim=residlim,sig_astro=5,count_astro=20)"
   ]
  },
  {
   "cell_type": "code",
   "execution_count": 4,
   "metadata": {},
   "outputs": [
    {
     "name": "stdout",
     "output_type": "stream",
     "text": [
      "-0.6596783757734557 0.2477178150443251\n",
      "The correction is 0.63\" in ra and 0.12\" in dec.\n",
      "0.32451849215662026 0.12187758742072674\n",
      "0.12422241219251705 0.1242224121947608\n",
      "0.12422241219363891 0.041238 5\n",
      "I/350/gaiaedr3\n",
      "cross-matching to gaia\n",
      "cross-matching to gaiadist\n",
      "104 counterparts matched for gaia\n",
      "II/246/out\n",
      "cross-matching to 2mass\n",
      "87 counterparts matched for 2mass\n",
      "II/365/catwise\n",
      "cross-matching to catwise\n",
      "53 counterparts matched for catwise\n",
      "II/363/unwise\n",
      "cross-matching to unwise\n",
      "64 counterparts matched for unwise\n",
      "II/328/allwise\n",
      "cross-matching to allwise\n",
      "40 counterparts matched for allwise\n",
      "II/341\n",
      "cross-matching to vphas\n",
      "95 counterparts matched for vphas\n",
      "(90,) (90,) (90,)\n",
      "-0.4735111435578195 0.29793618175057823\n",
      "The correction is 0.45\" in ra and 0.15\" in dec.\n",
      "0.23293637856456081 0.14658481903495613\n",
      "0.09236230984433114 0.0923623098523121\n",
      "0.09236230984832161 0.092417 9\n",
      "I/350/gaiaedr3\n",
      "cross-matching to gaia\n",
      "cross-matching to gaiadist\n",
      "102 counterparts matched for gaia\n",
      "II/246/out\n",
      "cross-matching to 2mass\n",
      "84 counterparts matched for 2mass\n",
      "II/365/catwise\n",
      "cross-matching to catwise\n",
      "52 counterparts matched for catwise\n",
      "II/363/unwise\n",
      "cross-matching to unwise\n",
      "61 counterparts matched for unwise\n",
      "II/328/allwise\n",
      "cross-matching to allwise\n",
      "38 counterparts matched for allwise\n",
      "II/341\n",
      "cross-matching to vphas\n",
      "92 counterparts matched for vphas\n",
      "(90,) (90,) (90,)\n",
      "-0.3839210784349234 0.22685643873421668\n",
      "The correction is 0.37\" in ra and 0.11\" in dec.\n",
      "0.18886400447306542 0.11161351093278427\n",
      "0.08600671998809838 0.08600671999479888\n",
      "0.08600671999144863 0.116598 12\n",
      "I/350/gaiaedr3\n",
      "cross-matching to gaia\n",
      "cross-matching to gaiadist\n",
      "105 counterparts matched for gaia\n",
      "II/246/out\n",
      "cross-matching to 2mass\n",
      "84 counterparts matched for 2mass\n",
      "II/365/catwise\n",
      "cross-matching to catwise\n",
      "53 counterparts matched for catwise\n",
      "II/363/unwise\n",
      "cross-matching to unwise\n",
      "62 counterparts matched for unwise\n",
      "II/328/allwise\n",
      "cross-matching to allwise\n",
      "42 counterparts matched for allwise\n",
      "II/341\n",
      "cross-matching to vphas\n",
      "93 counterparts matched for vphas\n",
      "(90,) (90,) (90,)\n",
      "-0.47708958627169357 -0.06806985526612731\n",
      "The correction is 0.45\" in ra and -0.03\" in dec.\n",
      "0.23469695018837972 -0.033490589757434464\n",
      "0.06191771003187089 0.06191771003141707\n",
      "0.06191771003164398 0.190344 22\n",
      "I/350/gaiaedr3\n",
      "cross-matching to gaia\n",
      "cross-matching to gaiadist\n",
      "105 counterparts matched for gaia\n",
      "II/246/out\n",
      "cross-matching to 2mass\n",
      "89 counterparts matched for 2mass\n",
      "II/365/catwise\n",
      "cross-matching to catwise\n",
      "51 counterparts matched for catwise\n",
      "II/363/unwise\n",
      "cross-matching to unwise\n",
      "63 counterparts matched for unwise\n",
      "II/328/allwise\n",
      "cross-matching to allwise\n",
      "41 counterparts matched for allwise\n",
      "II/341\n",
      "cross-matching to vphas\n",
      "94 counterparts matched for vphas\n",
      "(89,) (89,) (89,)\n"
     ]
    }
   ],
   "source": [
    "from astropy.io import fits \n",
    "from prepare_library import  cal_astrometric_correction, cal_astro_pu, apply_astro_correct, MW_counterpart_confusion, counterpart_clean, CSC_clean\n",
    "import pandas as pd\n",
    "import numpy as np\n",
    "\n",
    "data_dir = './data/NGC3532_02182022'\n",
    "field_name = 'NGC3532_02182022'\n",
    "sig_astro=5\n",
    "count_astro=20\n",
    "#ref_obsID = 8941\n",
    "ref_mjd = 5.4762887769419E+04\n",
    "#ra =166.28875\n",
    "#dec =  -58.85\n",
    "#radius = 25\n",
    "cat = 'gaia'\n",
    "\n",
    "    \n",
    "\n",
    "#residlims = [0.2]# [0.1, 0.2, 0.3, 0.4]\n",
    "residlims = [0.1, 0.2, 0.3, 0.4]\n",
    "del_ras = []\n",
    "del_decs = []\n",
    "astro_pus, rms_ress, num_srcs = [], [], []\n",
    "for residlim in residlims:\n",
    "\n",
    "    del_ra, del_dec = cal_astrometric_correction(fits.open(f'{data_dir}/Astrometry/{field_name}_{residlim}_{sig_astro}_{count_astro}_xfm.fits'))#field_name,data_dir,residlim,sig_astro,count_astro)\n",
    "    print(del_ra*3600*np.cos(dec*np.pi/180), del_dec*3600)\n",
    "    astro_pu, rms_res, num_src = cal_astro_pu(field_name,data_dir,residlim,sig_astro,count_astro)\n",
    "    print(astro_pu, rms_res, num_src)\n",
    "    \n",
    "    del_ras.append(del_ra*3600)\n",
    "    del_decs.append(del_dec*3600)\n",
    "    astro_pus.append(astro_pu)\n",
    "    rms_ress.append(rms_res)\n",
    "    num_srcs.append(num_src)\n",
    "    \n",
    "    apply_astro_correct(field_name,data_dir,del_ra, del_dec, residlim,sig_astro,count_astro, astro_pu)\n",
    "    \n",
    "    df = pd.read_csv(f'{data_dir}/Astrometry/{field_name}_{residlim}_{sig_astro}_{count_astro}_astro_correct.csv')\n",
    "    ras = df['ra_cor'].values\n",
    "    decs = df['dec_cor'].values\n",
    "    Es = df['PU'].values\n",
    "    search_radius, sig_nr = 300, 10 # arcsec\n",
    "    df['_q'] = df.index+1\n",
    "    \n",
    "    for cat, confusion in zip(['gaia','2mass','catwise','unwise','allwise','vphas'], [False]*6 ):\n",
    "    \n",
    "        df_MW = MW_counterpart_confusion(ras, decs, search_radius, Es=Es, N=sig_nr, catalog=cat,ref_mjd=ref_mjd,pm_cor=True,confusion=confusion)\n",
    "        \n",
    "        df_MW.to_csv(f'{data_dir}/Astrometry/{field_name}_{residlim}_{sig_astro}_{count_astro}_{cat}.csv', index=False)\n",
    "\n",
    "        df = pd.merge(df, df_MW, how='outer', on=['_q', '_q'])\n",
    "\n",
    "\n",
    "        df = counterpart_clean(df, X_PU='PU', catalog=cat,X_mjd=ref_mjd,pu_factor=1.5,pm_cor=True,r2=True)\n",
    "        #print(df.columns)\n",
    "    \n",
    "    #,'gaiadist'\n",
    "    \n",
    "    df.to_csv(f'{data_dir}/Astrometry/{field_name}_{residlim}_{sig_astro}_{count_astro}_cp_clean.csv', index=False)\n",
    "    df = pd.read_csv(f'{data_dir}/Astrometry/{field_name}_{residlim}_{sig_astro}_{count_astro}_cp_clean.csv')\n",
    "    df_MW_clean = CSC_clean_keepcols(df, withvphas=True)\n",
    "    df_MW_clean = vphasp_to_gaia_mags(df_MW_clean)\n",
    "    df_MW_clean.to_csv(f'{data_dir}/Astrometry/{field_name}_{residlim}_{sig_astro}_{count_astro}_MW_clean.csv', index=False)\n",
    "    \n",
    "     "
   ]
  },
  {
   "cell_type": "code",
   "execution_count": 51,
   "metadata": {},
   "outputs": [
    {
     "name": "stdout",
     "output_type": "stream",
     "text": [
      "Index(['PU_e_PM_allwise', 'PU_plx_allwise', 'PU_e_plx_allwise',\n",
      "       'PU_epsi_allwise', 'X_PU_allwise', 'cp_flag_allwise', '_r2_allwise',\n",
      "       '_rs_vphas', '_r_vphas', 'sourceID_vphas', 'RAJ2000_vphas',\n",
      "       'DEJ2000_vphas', 'VPHASDR2_vphas', 'PrimaryID_vphas', 'fPrimary_vphas',\n",
      "       'Nobs_vphas', 'clean_vphas', 'u-g_vphas', 'g-r2_vphas', 'r-i_vphas',\n",
      "       'r-ha_vphas', 'cleanu_vphas', 'umag_vphas', 'umagAB_vphas',\n",
      "       'e_umag_vphas', 'chiu_vphas', 'warningu_vphas', 'umagap_vphas',\n",
      "       'umagapAB_vphas', 'e_umagap_vphas', 'snru_vphas', 'umaglim_vphas',\n",
      "       'PSFFWHMu_vphas', 'MJDu_vphas', 'detIDu_vphas', 'cleang_vphas',\n",
      "       'gmag_vphas', 'gmagAB_vphas', 'e_gmag_vphas', 'chig_vphas',\n",
      "       'warningg_vphas', 'gmagap_vphas', 'gmagapAB_vphas', 'e_gmagap_vphas',\n",
      "       'snrg_vphas', 'gmaglim_vphas', 'PSFFWHMg_vphas', 'MJDg_vphas',\n",
      "       'detIDg_vphas', 'cleanr2_vphas', 'r2mag_vphas', 'r2magAB_vphas',\n",
      "       'e_r2mag_vphas', 'chir2_vphas', 'warningr2_vphas', 'r2magap_vphas',\n",
      "       'r2magapAB_vphas', 'e_r2magap_vphas', 'snrr2_vphas', 'r2maglim_vphas',\n",
      "       'PSFFWHMr2_vphas', 'MJDr2_vphas', 'detIDr2_vphas', 'cleanHa_vphas',\n",
      "       'Hamag_vphas', 'e_Hamag_vphas', 'chiHa_vphas', 'warningHa_vphas',\n",
      "       'Hamagap_vphas', 'e_Hamagap_vphas', 'snrHa_vphas', 'Hamaglim_vphas',\n",
      "       'PSFFWHMHa_vphas', 'MJDHa_vphas', 'detIDHa_vphas', 'cleanr_vphas',\n",
      "       'rmag_vphas', 'rmagAB_vphas', 'e_rmag_vphas', 'chir_vphas',\n",
      "       'warningr_vphas', 'rmagap_vphas', 'rmagapAB_vphas', 'e_rmagap_vphas',\n",
      "       'snrr_vphas', 'rmaglim_vphas', 'PSFFWHMr_vphas', 'MJDr_vphas',\n",
      "       'detIDr_vphas', 'cleani_vphas', 'imag_vphas', 'imagAB_vphas',\n",
      "       'e_imag_vphas', 'chii_vphas', 'warningi_vphas', 'imagap_vphas',\n",
      "       'imagapAB_vphas', 'e_imagap_vphas', 'snri_vphas', 'imaglim_vphas'],\n",
      "      dtype='object')\n",
      "132 132\n",
      "_r_gaia 132\n",
      "        _r_gaia_x     _r_gaia_y\n",
      "0    0.2125215570  0.2124746342\n",
      "1    0.2675791687  0.2675457677\n",
      "2    0.2121272171  0.2121631925\n",
      "3    0.4835916023  0.4835462441\n",
      "4    0.0874870318  0.0875320729\n",
      "..            ...           ...\n",
      "127  0.7663694222  0.7663651136\n",
      "128  0.0867997386  0.0868368807\n",
      "129  2.3638400399  2.3638234223\n",
      "130  1.0234297206  1.0234754538\n",
      "131  0.5323894065  0.5323590428\n",
      "\n",
      "[132 rows x 2 columns]\n",
      "_r_2mass 6\n",
      "    _r_2mass_x  _r_2mass_y\n",
      "27       0.191       0.190\n",
      "28       5.258       5.259\n",
      "76       0.413       0.414\n",
      "77       0.870       0.871\n",
      "87       0.158       0.159\n",
      "96       0.298       0.299\n",
      "_r_catwise  same\n",
      "_r_unwise 6\n",
      "     _r_unwise_x  _r_unwise_y\n",
      "24         0.087        0.088\n",
      "25         7.038        7.039\n",
      "28         6.624        6.625\n",
      "44         0.349        0.350\n",
      "62         1.236        1.237\n",
      "100        0.672        0.671\n",
      "_r_allwise 3\n",
      "     _r_allwise_x  _r_allwise_y\n",
      "38          0.484         0.483\n",
      "111         0.834         0.835\n",
      "114         4.510         4.511\n",
      "_r_vphas  same\n"
     ]
    }
   ],
   "source": [
    "pd.set_option(\"display.precision\", 10)\n",
    "df_MW = pd.read_csv(f'{data_dir}/Astrometry/{field_name}_{residlim}_{sig_astro}_{count_astro}_MW_clean.csv')\n",
    "df_MW_pre = pd.read_csv(f'{data_dir}/Astrometry/{field_name}_{residlim}_{sig_astro}_{count_astro}_MW_clean_pre.csv')\n",
    "print(df_MW.columns[500:600])\n",
    "#print(df_MW_pre.columns)\n",
    "print(len(df_MW),len(df_MW_pre))\n",
    "#cols_check = ['ra','dec','ra_cor','PU_kim95','PU','EDR3Name_gaia','cp_flag_gaia','_rs_gaia','X_PU_2mass','_rs_2mass']\n",
    "#cols_check = ['EDR3Name_gaia','cp_flag_gaia','_2MASS_2mass','cp_flag_2mass','objID_catwise','cp_flag_catwise',\\\n",
    "             # 'objID_unwise','cp_flag_unwise','AllWISE_allwise','cp_flag_allwise','VPHASDR2_vphas','cp_flag_vphas']\n",
    "cols_check = ['_r_gaia','_r_2mass','_r_catwise','_r_unwise','_r_allwise','_r_vphas']\n",
    "    \n",
    "for col in cols_check:\n",
    "    \n",
    "    df_comb = pd.merge(df_MW[['name',col]], df_MW_pre[['name',col]], on='name',how='inner')\n",
    "    if len(df_comb[(df_comb[col+'_x']!=df_comb[col+'_y']) & (~df_comb[col+'_x'].isnull()) & (~df_comb[col+'_y'].isnull())])>0:\n",
    "        print(col, len(df_comb[(df_comb[col+'_x']!=df_comb[col+'_y']) & (~df_comb[col+'_x'].isnull()) & (~df_comb[col+'_y'].isnull())]))\n",
    "        print(df_comb[(df_comb[col+'_x']!=df_comb[col+'_y']) & (~df_comb[col+'_x'].isnull()) & (~df_comb[col+'_y'].isnull())][[col+'_x',col+'_y']])\n",
    "    else:\n",
    "        print(col, ' same')"
   ]
  },
  {
   "cell_type": "code",
   "execution_count": 25,
   "metadata": {},
   "outputs": [
    {
     "name": "stdout",
     "output_type": "stream",
     "text": [
      "del_x   -0.234118\n",
      "del_y    0.145588\n",
      "dtype: float64\n",
      "-58.85\n",
      "0.00012508603427363596\n",
      "0.23293637856456081 0.14658481903495613\n"
     ]
    }
   ],
   "source": [
    "lines = open(f'{data_dir}/Astrometry/{field_name}_{residlim}_{sig_astro}_{count_astro}_wcs_Xmatch.log').readlines()\n",
    "num_line = len(lines)\n",
    "line = lines[8]\n",
    "num_src = [int(s) for s in line.split() if s.isdigit()][0]\n",
    "outF = open('test.csv', \"w\")\n",
    "outF.write('#x_p,y_p,x_a,y_a')\n",
    "outF.write('\\n')\n",
    "for li in lines[num_line-13-num_src:num_line-13]:\n",
    "    #if 'Y' in li:\n",
    "        outF.write(li[-48:-43]+','+li[-42:-37]+','+li[-26:-21]+','+li[-20:-15])#li[-10:-4])\n",
    "        #outF.write(li[:-4]) # previous wcs_match version did not produce uncertainty for Prior Resid and Transfm Resid\n",
    "        outF.write('\\n')\n",
    "outF.close()\n",
    "\n",
    "df_test = pd.read_csv('test.csv')\n",
    "\n",
    "df_test['del_x']= df_test['x_a'] - df_test['#x_p']\n",
    "df_test['del_y']= df_test['y_a'] - df_test['y_p']\n",
    "\n",
    "print(df_test[['del_x','del_y']].mean())\n",
    "print(dec)\n",
    "print(del_ra)\n",
    "print(del_ra*3600*np.cos(dec*np.pi/180),del_dec*3600)"
   ]
  },
  {
   "cell_type": "code",
   "execution_count": null,
   "metadata": {},
   "outputs": [],
   "source": []
  },
  {
   "cell_type": "code",
   "execution_count": null,
   "metadata": {},
   "outputs": [],
   "source": []
  },
  {
   "cell_type": "code",
   "execution_count": 5,
   "metadata": {},
   "outputs": [
    {
     "data": {
      "image/png": "[encoded data removed]",
      "text/plain": [
       "<Figure size 432x432 with 1 Axes>"
      ]
     },
     "metadata": {
      "needs_background": "light"
     },
     "output_type": "display_data"
    }
   ],
   "source": [
    "import matplotlib.pyplot as plt\n",
    "#rho = 0.02182363072478699\n",
    "\n",
    "fig, axs = plt.subplots(1,1, figsize=(6,6))\n",
    "#axs = axs.flatten()\n",
    "#for obsid, i, lims in zip(obsids, range(5), [[-1., 0.5 , -1, .5], [0, 1.5, -0.75, 0.75], [0, 1.5, -1.5, 0], [0, 2, -1, 1], [0, 2, 0, 2]]):\n",
    "    \n",
    "    #df_s = df[(df['obsid']==obsid)]\n",
    "    \n",
    "axs.set(xlim=(0, 1), ylim=(-0.2,0.8))\n",
    "\n",
    "colors = iter([plt.cm.tab20(i) for i in range(20)])\n",
    "\n",
    "\n",
    "x0, y0 = 0, 0 \n",
    "\n",
    "del_ras, del_decs, rms_ress, residlims, astro_pus, num_srcs\n",
    "    \n",
    "for d_ra, d_dec, res, rms,pu, num,color in zip(del_ras, del_decs, residlims, rms_ress, astro_pus, num_srcs, colors):\n",
    "    #p = (1.-np.exp(-rho*np.pi*res**2))*tot\n",
    "    axs.arrow(x0, y0, d_ra, d_dec, head_width=0.05, head_length=0.01,fc=color,  ec=color,label=' red:'+str(res)+' num:'+str(num)+' pu:'+str(format(pu, '.3f'))+' rms:'+str(format(rms,'.3f')))\n",
    "    circle = plt.Circle((d_ra, d_dec), pu, fc='none',ec=color, color = color, linewidth=1,alpha=1)\n",
    "    axs.add_artist(circle)  \n",
    "    axs.text(d_ra, d_dec,str(res),color=color,alpha=1.,fontsize=12)\n",
    "\n",
    "axs.legend(fontsize=8)\n",
    "axs.set_title('Astrometric solutions of NGC 3532 \\n Chandra ObsID=8941 using wcs_match \\n with a set of redlim parameter',fontsize=20)\n",
    "axs.set_xlabel('arcsec',fontsize=15)\n",
    "axs.set_ylabel('arcsec',fontsize=15)\n",
    "axs.tick_params(axis='x', labelsize=15)\n",
    "axs.tick_params(axis='y', labelsize=15)\n",
    "#plt.show()\n",
    "#plt.savefig('NGC3532_astro.eps')"
   ]
  },
  {
   "cell_type": "code",
   "execution_count": 5,
   "metadata": {},
   "outputs": [],
   "source": [
    "\n",
    "# compare to previous and other resid results \n",
    "\n",
    "#df_pre = pd.read_csv('/Users/yanghui/Desktop/Research/2019/MUWCLASS_Project/ML/ML_pipelines_merge/MUWCLASS_pipeline_github/MUWCLASS_prepare_NGC3532/data/NGC3532_MW_clean.csv')\n",
    "\n",
    "df = pd.read_csv(f'{data_dir}/Astrometry/{field_name}_0.2_5_20_MW_clean.csv')\n",
    "\n",
    "for cat, iden in zip(['gaia','2mass','catwise','unwise','allwise','vphas'], ['EDR3Name_gaia','_2MASS_2mass','objID_catwise','objID_unwise','AllWISE_allwise','sourceID_vphas']):\n",
    "    \n",
    "    df['flag_cp_compare_'+cat] = ''\n",
    "    \n",
    "    for res2 in [0.1, 0.3, 0.4]:\n",
    "        df2 = pd.read_csv(f'{data_dir}/Astrometry/{field_name}_{res2}_5_20_MW_clean.csv')\n",
    "\n",
    "        #df_compare = pd.merge(df[['name',iden,'cp_flag_'+cat]], df2[['name',iden,'cp_flag_'+cat]], on=['name','name'],how='inner')\n",
    "        \n",
    "        #df_dif = df_compare[((~df_compare[iden+'_x'].isnull()) | (~df_compare[iden+'_y'].isnull()))  & (df_compare[iden+'_x']!=df_compare[iden+'_y'])]\n",
    "        \n",
    "        df_com = df[['name',iden,'cp_flag_'+cat]].merge(df2[['name',iden,'cp_flag_'+cat]], how = 'inner' ,indicator=False)\n",
    "        \n",
    "        df.loc[~df.name.isin(df_com.name), 'flag_cp_compare_'+cat] = df.loc[~df.name.isin(df_com.name), 'flag_cp_compare_'+cat] + str(res2)[-1]\n",
    "        \n",
    "df.to_csv(f'{data_dir}/Astrometry/{field_name}_0.2_5_20_clean_flag.csv', index=False)\n"
   ]
  },
  {
   "cell_type": "code",
   "execution_count": 6,
   "metadata": {},
   "outputs": [
    {
     "name": "stdout",
     "output_type": "stream",
     "text": [
      "132 132\n",
      "EDR3Name_gaia  same\n",
      "cp_flag_gaia  same\n",
      "_2MASS_2mass  same\n",
      "cp_flag_2mass  same\n",
      "objID_catwise  same\n",
      "cp_flag_catwise  same\n",
      "objID_unwise  same\n",
      "cp_flag_unwise  same\n",
      "AllWISE_allwise  same\n",
      "cp_flag_allwise  same\n",
      "VPHASDR2_vphas  same\n",
      "cp_flag_vphas  same\n",
      "Empty DataFrame\n",
      "Columns: [cp_flag_vphas_x, cp_flag_vphas_y, _r_vphas_x, _r_vphas_y, _r2_vphas_x, _r2_vphas_y, X_PU_vphas_x, X_PU_vphas_y]\n",
      "Index: []\n"
     ]
    }
   ],
   "source": [
    "pd.set_option(\"display.precision\", 10)\n",
    "df_MW = pd.read_csv(f'{data_dir}/Astrometry/{field_name}_0.2_5_20_clean_flag.csv')\n",
    "df_MW_pre = pd.read_csv(f'{data_dir}/Astrometry/{field_name}_0.2_5_20_clean_flag_pre.csv')\n",
    "#print(df_MW.columns[500:600])\n",
    "#print(df_MW_pre.columns)\n",
    "print(len(df_MW),len(df_MW_pre))\n",
    "#cols_check = ['ra','dec','ra_cor','PU_kim95','PU','EDR3Name_gaia','cp_flag_gaia','_rs_gaia','X_PU_2mass','_rs_2mass']\n",
    "cols_check = ['EDR3Name_gaia','cp_flag_gaia','_2MASS_2mass','cp_flag_2mass','objID_catwise','cp_flag_catwise',\\\n",
    "              'objID_unwise','cp_flag_unwise','AllWISE_allwise','cp_flag_allwise','VPHASDR2_vphas','cp_flag_vphas']\n",
    "#cols_check = ['_r_gaia','_r_2mass','_r_catwise','_r_unwise','_r_allwise','_r_vphas']\n",
    "#cols_check = ['flag_cp_compare_'+c for c in ['gaia','2mass','catwise','unwise','allwise','vphas']]    \n",
    "#'''\n",
    "for col in cols_check:\n",
    "    \n",
    "    df_comb = pd.merge(df_MW[['name',col]], df_MW_pre[['name',col]], on='name',how='inner')\n",
    "    if len(df_comb[(df_comb[col+'_x']!=df_comb[col+'_y']) & (~df_comb[col+'_x'].isnull()) & (~df_comb[col+'_y'].isnull())])>0:\n",
    "        print(col, len(df_comb[(df_comb[col+'_x']!=df_comb[col+'_y']) & (~df_comb[col+'_x'].isnull()) & (~df_comb[col+'_y'].isnull())]))\n",
    "        print(df_comb[(df_comb[col+'_x']!=df_comb[col+'_y']) & (~df_comb[col+'_x'].isnull()) & (~df_comb[col+'_y'].isnull())][[col+'_x',col+'_y']])\n",
    "    else:\n",
    "        print(col, ' same')\n",
    "#'''\n",
    "df_comb = pd.merge(df_MW, df_MW_pre, on='name',how='inner')\n",
    "\n",
    "#print(df_comb[(df_comb['cp_flag_gaia_x']!=df_comb['cp_flag_gaia_y']) & (~df_comb['cp_flag_gaia_x'].isnull()) & (~df_comb['cp_flag_gaia_y'].isnull())][['cp_flag_gaia_x','cp_flag_gaia_y','_r_gaia_x','_r_gaia_y','_r2_gaia_x','_r2_gaia_y','X_PU_gaia_x','X_PU_gaia_y']])\n",
    "\n",
    "#print(df_comb[(df_comb['cp_flag_gaia_x']==2) & (df_comb['cp_flag_gaia_y']==0) & (~df_comb['cp_flag_gaia_x'].isnull()) & (~df_comb['cp_flag_gaia_y'].isnull())][['cp_flag_gaia_x','cp_flag_gaia_y','_r_gaia_x','_r_gaia_y','_r2_gaia_x','_r2_gaia_y','X_PU_gaia_x','X_PU_gaia_y']])\n",
    "\n",
    "#print(df_comb[(df_comb['cp_flag_vphas_x']!=df_comb['cp_flag_vphas_y']) & (~df_comb['cp_flag_vphas_x'].isnull()) & (~df_comb['cp_flag_vphas_y'].isnull())][['cp_flag_vphas_x','cp_flag_vphas_y','_r_vphas_x','_r_vphas_y','_r2_vphas_x','_r2_vphas_y','X_PU_vphas_x','X_PU_vphas_y']])\n",
    "\n",
    "print(df_comb[(df_comb['cp_flag_vphas_x']==2) & (df_comb['cp_flag_vphas_y']==0) & (~df_comb['cp_flag_vphas_x'].isnull()) & (~df_comb['cp_flag_vphas_y'].isnull())][['cp_flag_vphas_x','cp_flag_vphas_y','_r_vphas_x','_r_vphas_y','_r2_vphas_x','_r2_vphas_y','X_PU_vphas_x','X_PU_vphas_y']])\n",
    "\n",
    "#print(df_comb[(df_comb['cp_flag_unwise_x']==2) & (df_comb['cp_flag_unwise_y']==0) & (~df_comb['cp_flag_unwise_x'].isnull()) & (~df_comb['cp_flag_unwise_y'].isnull())][['cp_flag_unwise_x','cp_flag_unwise_y','_r_unwise_x','_r_unwise_y','_r2_unwise_x','_r2_unwise_y','X_PU_unwise_x','X_PU_unwise_y']])\n",
    "\n",
    "#print(df_comb[(df_comb['cp_flag_2mass_x']==2) & (df_comb['cp_flag_2mass_y']==0) & (~df_comb['cp_flag_2mass_x'].isnull()) & (~df_comb['cp_flag_2mass_y'].isnull())][['cp_flag_2mass_x','cp_flag_2mass_y','_r_2mass_x','_r_2mass_y','_r2_2mass_x','_r2_2mass_y','X_PU_2mass_x','X_PU_2mass_y']])\n"
   ]
  },
  {
   "cell_type": "code",
   "execution_count": 90,
   "metadata": {},
   "outputs": [],
   "source": [
    "df_MW = pd.read_csv(f'{data_dir}/Astrometry/{field_name}_0.2_5_20_clean_flag.csv')\n",
    "\n",
    "df_MW.loc[df_MW['cp_flag_gaia']==2, 'cp_flag_gaia'] = 0\n",
    "\n",
    "df_MW.loc[df_MW['cp_flag_vphas']==2, 'cp_flag_vphas'] = 0\n",
    "\n",
    "df_MW.to_csv(f'{data_dir}/Astrometry/{field_name}_0.2_5_20_clean_flag.csv',index=False)"
   ]
  },
  {
   "cell_type": "code",
   "execution_count": 7,
   "metadata": {},
   "outputs": [
    {
     "name": "stdout",
     "output_type": "stream",
     "text": [
      "INFO: Query finished. [astroquery.utils.tap.core]\n",
      "(61540, 10)\n",
      "132\n",
      "132\n",
      "(101, 13)\n",
      "INFO: Query finished. [astroquery.utils.tap.core]\n",
      "(11683, 19)\n",
      "132\n",
      "132\n",
      "(34, 22)\n"
     ]
    }
   ],
   "source": [
    "df_gaia = pd.read_csv(f'{data_dir}/Astrometry/{field_name}_0.2_5_20_clean_flag.csv')\n",
    "\n",
    "#print(df_gaia.EDR3Name_gaia)\n",
    "#df_gaia['Source_gaia'] = df_gaia.apply(lambda row: np.nan if pd.isnull(row.EDR3Name_gaia) else np.int64(row.EDR3Name_gaia[10:]), axis=1)\n",
    "Gaia_counterparts(df_gaia,data_dir, field_name)\n",
    "#print(df_gaia.Source_gaia)"
   ]
  },
  {
   "cell_type": "code",
   "execution_count": 8,
   "metadata": {},
   "outputs": [],
   "source": [
    "df_gaia = pd.read_csv(f'{data_dir}/Astrometry/{field_name}_0.2_5_20_clean_flag.csv')\n",
    "\n",
    "for cat in ['2mass', 'allwise']:\n",
    "    df_MW = pd.read_csv(f'{data_dir}/{field_name}_'+cat+'_gaia.csv')\n",
    "    df_MW = df_MW.add_suffix('_gaia')\n",
    "    df_MW = df_MW.rename(columns= {'_q_gaia': '_q'} )\n",
    "    df_gaia = pd.merge(df_gaia, df_MW, how='outer', on=['_q'])\n",
    "    \n",
    "\n",
    "for i in df.index:\n",
    "    flags = []\n",
    "    for cat,label in zip(['gaia','2mass','catwise','unwise','allwise','vphas'], ['g','2','cw','uw','aw','v']):\n",
    "        if pd.notna(df_gaia.loc[i,'flag_cp_compare_'+cat]) or ((df_gaia.loc[i, 'cp_flag_'+cat] <8) & (df_gaia.loc[i, 'cp_flag_'+cat] !=0)):\n",
    "            flags.append(label)\n",
    "        \n",
    "    for cat,label in zip(['2mass_gaia','allwise_gaia'], ['2_g','aw_g']):\n",
    "        if ((df_gaia.loc[i, 'cp_flag_'+cat] <8) & (df_gaia.loc[i, 'cp_flag_'+cat] !=0)):\n",
    "            flags.append(label)\n",
    "        \n",
    "    df_gaia.loc[i,\"cp_conf_flag\"] = \",\".join(flags)\n",
    "\n",
    "df_gaia.to_csv(f'{data_dir}/{field_name}_MW_clean_update.csv',index=False)"
   ]
  },
  {
   "cell_type": "code",
   "execution_count": 19,
   "metadata": {},
   "outputs": [
    {
     "name": "stdout",
     "output_type": "stream",
     "text": [
      "Index(['e_pscol_gaia', 'RApscolCorr_gaia', 'DEpscolCorr_gaia',\n",
      "       'PlxpscolCorr_gaia', 'pmRApscolCorr_gaia', 'pmDEpscolCorr_gaia',\n",
      "       'MatchObsA_gaia', 'Nper_gaia', 'amax_gaia', 'MatchObs_gaia',\n",
      "       'NewMatchObs_gaia', 'MatchObsrm_gaia', 'IPDgofha_gaia', 'IPDgofhp_gaia',\n",
      "       'IPDfmp_gaia', 'IPDfow_gaia', 'RUWE_gaia', 'SDSk1_gaia', 'SDSk2_gaia',\n",
      "       'SDSk3_gaia', 'SDSk4_gaia', 'SDMk1_gaia', 'SDMk2_gaia', 'SDMk3_gaia',\n",
      "       'SDMk4_gaia', 'Dup_gaia', 'o_Gmag_gaia', 'FG_gaia', 'e_FG_gaia',\n",
      "       'RFG_gaia', 'Gmag_gaia', 'e_Gmag_gaia', 'o_BPmag_gaia', 'FBP_gaia',\n",
      "       'e_FBP_gaia', 'RFBP_gaia', 'BPmag_gaia', 'e_BPmag_gaia', 'o_RPmag_gaia',\n",
      "       'FRP_gaia', 'e_FRP_gaia', 'RFRP_gaia', 'RPmag_gaia', 'e_RPmag_gaia',\n",
      "       'NBPcont_gaia', 'NBPblend_gaia', 'NRPcont_gaia', 'NRPblend_gaia',\n",
      "       'Mode_gaia', 'E_BP_RP__gaia', 'BP-RP_gaia', 'BP-G_gaia', 'G-RP_gaia',\n",
      "       'RVDR2_gaia', 'e_RVDR2_gaia', 'o_RVDR2_gaia', 'Tefftemp_gaia',\n",
      "       'loggtemp_gaia', '__Fe_H_temp_gaia', 'GLON_gaia', 'GLAT_gaia',\n",
      "       'ELON_gaia', 'ELAT_gaia', 'PS1_gaia', 'SDSSDR13_gaia',\n",
      "       'SkyMapper2_gaia', 'URAT1_gaia', 'GmagCorr_gaia', 'e_GmagCorr_gaia',\n",
      "       'FGCorr_gaia', 'E_BP_RP_Corr_gaia', 'RAJ2000_gaia', 'e_RAJ2000_gaia',\n",
      "       'DEJ2000_gaia', 'e_DEJ2000_gaia', 'RADEcorJ2000_gaia', 'RA_pmcor_gaia',\n",
      "       'DEC_pmcor_gaia', '_r_nopmcor_gaia', '_r_gaiadist', 'RA_ICRS_gaiadist',\n",
      "       'DE_ICRS_gaiadist', 'rgeo_gaiadist', 'b_rgeo_gaiadist',\n",
      "       'B_rgeo_gaiadist', 'rpgeo_gaiadist', 'b_rpgeo_gaiadist',\n",
      "       'B_rpgeo_gaiadist', 'Flag_gaiadist', 'PU_gaia', 'PU_CU_gaia',\n",
      "       'e_PM_gaia', 'PU_PM_gaia', 'PU_e_PM_gaia', 'PU_plx_gaia',\n",
      "       'PU_e_plx_gaia', 'PU_epsi_gaia', 'X_PU_gaia', 'cp_flag_gaia',\n",
      "       '_r2_gaia'],\n",
      "      dtype='object')\n",
      "132 132\n",
      "EDR3Name_gaia  same\n",
      "cp_flag_gaia  same\n",
      "_2MASS_2mass  same\n",
      "cp_flag_2mass  same\n",
      "objID_catwise  same\n",
      "cp_flag_catwise  same\n",
      "objID_unwise  same\n",
      "cp_flag_unwise  same\n",
      "AllWISE_allwise  same\n",
      "cp_flag_allwise  same\n",
      "VPHASDR2_vphas  same\n",
      "cp_flag_vphas  same\n",
      "Jmag_2mass  same\n",
      "Jmag_2mass_gaia  same\n"
     ]
    }
   ],
   "source": [
    "pd.set_option(\"display.precision\", 10)\n",
    "df_MW = pd.read_csv(f'{data_dir}/{field_name}_MW_clean_update.csv')\n",
    "df_MW_pre = pd.read_csv(f'{data_dir}/{field_name}_MW_clean_update_pre.csv')\n",
    "print(df_MW.columns[100:200])\n",
    "#print(df_MW_pre.columns)\n",
    "print(len(df_MW),len(df_MW_pre))\n",
    "#cols_check = ['ra','dec','ra_cor','PU_kim95','PU','EDR3Name_gaia','cp_flag_gaia','_rs_gaia','X_PU_2mass','_rs_2mass']\n",
    "cols_check = ['EDR3Name_gaia','cp_flag_gaia','_2MASS_2mass','cp_flag_2mass','objID_catwise','cp_flag_catwise',\\\n",
    "             'objID_unwise','cp_flag_unwise','AllWISE_allwise','cp_flag_allwise','VPHASDR2_vphas','cp_flag_vphas',\\\n",
    "             'Jmag_2mass','Jmag_2mass_gaia']\n",
    "#cols_check = ['_r_gaia','_r_2mass','_r_catwise','_r_unwise','_r_allwise','_r_vphas']\n",
    "#cols_check = ['cp_conf_flag','PU','_r_gaia']    \n",
    "for col in cols_check:\n",
    "    \n",
    "    df_comb = pd.merge(df_MW, df_MW_pre, on='name',how='inner')\n",
    "    if len(df_comb[((df_comb[col+'_x']!=df_comb[col+'_y']) & (~df_comb[col+'_x'].isnull()) & (~df_comb[col+'_y'].isnull())) | ((df_comb[col+'_x'].isnull()) & (~df_comb[col+'_y'].isnull())) | ((~df_comb[col+'_x'].isnull()) & (df_comb[col+'_y'].isnull()))])>0:\n",
    "        print(col, len(df_comb[((df_comb[col+'_x']!=df_comb[col+'_y']) & (~df_comb[col+'_x'].isnull()) & (~df_comb[col+'_y'].isnull())) | ((df_comb[col+'_x'].isnull()) & (~df_comb[col+'_y'].isnull())) | ((~df_comb[col+'_x'].isnull()) & (df_comb[col+'_y'].isnull()))]))\n",
    "        print(df_comb[((df_comb[col+'_x']!=df_comb[col+'_y']) & (~df_comb[col+'_x'].isnull()) & (~df_comb[col+'_y'].isnull())) | ((~df_comb[col+'_x'].isnull()) & (df_comb[col+'_y'].isnull())) | ((df_comb[col+'_x'].isnull()) & (~df_comb[col+'_y'].isnull()))][[col+'_x',col+'_y']])\n",
    "    else:\n",
    "        print(col, ' same')\n",
    "\n",
    "#print(df_comb[(df_comb['cp_conf_flag_x']!=df_comb['cp_conf_flag_y']) & (~df_comb['cp_conf_flag_x'].isnull()) & (~df_comb['cp_conf_flag_y'].isnull()) ][['cp_conf_flag_x','cp_conf_flag_y','cp_flag_gaia_x','cp_flag_gaia_y','flag_cp_compare_gaia_x','flag_cp_compare_gaia_y']])\n",
    "#print(df_comb[(df_comb['cp_conf_flag_x']!=df_comb['cp_conf_flag_y'])  ][['cp_conf_flag_x','cp_conf_flag_y','cp_flag_gaia_x','cp_flag_gaia_y','flag_cp_compare_gaia_x','flag_cp_compare_gaia_y']])"
   ]
  },
  {
   "cell_type": "code",
   "execution_count": 21,
   "metadata": {},
   "outputs": [],
   "source": [
    "\n",
    "df_MW_update = pd.read_csv(f'{data_dir}/{field_name}_MW_clean_update.csv')\n",
    "\n",
    "df_save = prepare_cols(df_MW_update, cp_thres=-4, vphas=True,gaiadata=True)"
   ]
  },
  {
   "cell_type": "code",
   "execution_count": 4,
   "metadata": {},
   "outputs": [],
   "source": [
    "df_save.to_csv('df_test.csv',index=False)"
   ]
  },
  {
   "cell_type": "code",
   "execution_count": null,
   "metadata": {},
   "outputs": [],
   "source": []
  },
  {
   "cell_type": "markdown",
   "metadata": {},
   "source": [
    "df_MW_update = pd.read_csv(f'{data_dir}/{field_name}_MW_clean_update.csv')\n",
    "df_MW_update_sig = df_MW_update[df_MW_update.significance>5.]\n",
    "df_MW_update_sig.sort_values(by='significance', ascending=False).to_csv(f'{data_dir}/{field_name}_MW_clean_update_sig.csv',index=False)"
   ]
  },
  {
   "cell_type": "markdown",
   "metadata": {},
   "source": [
    "sig_astro=5\n",
    "count_astro=20\n",
    "cat = 'gaia'\n",
    "data_dir = './data'\n",
    "field_name = 'NGC3532'\n",
    "residlims = [0.1, 0.2, 0.3, 0.4]\n",
    "residlims_copy = residlims.copy()\n",
    "for res1 in [0.1, 0.2, 0.3, 0.4]:\n",
    "    \n",
    "    df1 = pd.read_csv(f'{data_dir}/Astrometry/{field_name}_{res1}_{sig_astro}_{count_astro}_{cat}_clean.csv')\n",
    "    residlims_copy.remove(res1)\n",
    "    \n",
    "    for res2 in residlims_copy:\n",
    "        print(res1,'vs', res2)\n",
    "        df2 = pd.read_csv(f'{data_dir}/Astrometry/{field_name}_{res2}_{sig_astro}_{count_astro}_{cat}_clean.csv')\n",
    "    \n",
    "        \n",
    "        df_compare = pd.merge(df1[['name', 'EDR3Name_gaia']], df2[['name','EDR3Name_gaia']], on=['name','name'],how='inner')\n",
    "        df_compare['EDR3Name_gaia_x'] = df_compare['EDR3Name_gaia_x'].str[10:]\n",
    "        df_compare['EDR3Name_gaia_y'] = df_compare['EDR3Name_gaia_y'].str[10:]\n",
    "        #print(df_compare)\n",
    "    \n",
    "        df_dif = df_compare[((~df_compare.EDR3Name_gaia_x.isnull()) | (~df_compare.EDR3Name_gaia_y.isnull()))  & (df_compare.EDR3Name_gaia_x!=df_compare.EDR3Name_gaia_y)]\n",
    "        print(len(df_compare), len(df_dif), len(df_dif[df_dif.EDR3Name_gaia_x.isnull()]), len(df_dif[df_dif.EDR3Name_gaia_y.isnull()]))\n",
    "        print(df_dif)\n",
    "    \n",
    "    \n",
    "        "
   ]
  },
  {
   "cell_type": "code",
   "execution_count": null,
   "metadata": {},
   "outputs": [],
   "source": []
  },
  {
   "cell_type": "code",
   "execution_count": null,
   "metadata": {},
   "outputs": [],
   "source": []
  },
  {
   "cell_type": "code",
   "execution_count": null,
   "metadata": {},
   "outputs": [],
   "source": []
  },
  {
   "cell_type": "code",
   "execution_count": null,
   "metadata": {},
   "outputs": [],
   "source": []
  },
  {
   "cell_type": "code",
   "execution_count": null,
   "metadata": {},
   "outputs": [],
   "source": []
  }
 ],
 "metadata": {
  "interpreter": {
   "hash": "a07a7a2090da37cdd48ebcd70931c05a676ab305f42a98eb38d19e0d4f533bcb"
  },
  "kernelspec": {
   "display_name": "Python 3 (ipykernel)",
   "language": "python",
   "name": "python3"
  },
  "language_info": {
   "codemirror_mode": {
    "name": "ipython",
    "version": 3
   },
   "file_extension": ".py",
   "mimetype": "text/x-python",
   "name": "python",
   "nbconvert_exporter": "python",
   "pygments_lexer": "ipython3",
   "version": "3.9.12"
  }
 },
 "nbformat": 4,
 "nbformat_minor": 2
}
