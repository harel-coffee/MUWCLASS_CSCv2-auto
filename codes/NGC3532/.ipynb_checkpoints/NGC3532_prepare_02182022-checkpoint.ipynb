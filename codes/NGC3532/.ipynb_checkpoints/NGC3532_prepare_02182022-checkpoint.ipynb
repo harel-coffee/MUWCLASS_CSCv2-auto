{
 "cells": [
  {
   "cell_type": "code",
   "execution_count": 1,
   "metadata": {},
   "outputs": [
    {
     "name": "stderr",
     "output_type": "stream",
     "text": [
      "Intel(R) Extension for Scikit-learn* enabled (https://github.com/intel/scikit-learn-intelex)\n"
     ]
    }
   ],
   "source": [
    "import numpy as np\n",
    "import pandas as pd\n",
    "from collections import Counter\n",
    "from astropy.io.fits import getdata\n",
    "from astropy import units as u\n",
    "from astropy.coordinates import SkyCoord, Angle\n",
    "from astroquery.vizier import Vizier\n",
    "from astropy.table import Table\n",
    "from astroquery.xmatch import XMatch\n",
    "import time\n",
    "import pyvo as vo\n",
    "#import sys  \n",
    "#sys.path.insert(0, '/Users/yanghui/Desktop/Research/2019/MUWCLASS_Project/ML/ML_pipelines_merge/MUWCLASS_pipeline_github/MUWCLASS/')\n",
    "#from muwclass import datasets, prep, red,  classify, distribution, plots, prepare_data, prepare_cxo\n",
    "\n",
    "from prepare_library import atnf_pos, create_perobs_data, cal_ave, add_MW, confusion_clean, TD_clean_vizier, Gaia_counterparts, CSC_clean_keepcols, vphasp_to_gaia_mags, Gaia_counterparts_update, create_field_csc_data, cal_PU, refsrc_gaia, cal_astrometric_correction\n",
    "\n",
    "from test_library import prepare_cols\n",
    "\n",
    "import warnings\n",
    "warnings.filterwarnings('ignore') \n",
    "\n",
    "Vizier.ROW_LIMIT = -1\n",
    "exnum = -999999."
   ]
  },
  {
   "cell_type": "code",
   "execution_count": 2,
   "metadata": {},
   "outputs": [],
   "source": [
    "data_dir = './data/NGC3532_02182022'\n",
    "field_name = 'NGC3532_02182022'\n",
    "verb = 0\n",
    "\n",
    "query_dir = '/Users/yanghui/Desktop/Research/2019/MUWCLASS_Project/ML/DATA/TD/query/csc_query_cnt'\n",
    "\n",
    "ref_obsID = 8941\n",
    "ref_mjd = 5.4762887769419E+04\n",
    "ra =166.28875\n",
    "dec =  -58.85\n",
    "radius = 25"
   ]
  },
  {
   "cell_type": "code",
   "execution_count": 3,
   "metadata": {},
   "outputs": [
    {
     "name": "stdout",
     "output_type": "stream",
     "text": [
      "412 sources in total with 145 sources significance>5.\n"
     ]
    }
   ],
   "source": [
    "cone = vo.dal.SCSService('http://cda.cfa.harvard.edu/csc2scs/coneSearch')\n",
    "\n",
    "field = SkyCoord(ra, dec, unit=\"deg\") \n",
    "results = cone.search(pos=field, radius=radius * u.arcmin, verbosity=2)\n",
    "\n",
    "df_res = results.to_table().to_pandas()\n",
    "\n",
    "df_sig = df_res[df_res.significance>5].reset_index()\n",
    "print(len(df_res), 'sources in total with', len(df_sig), 'sources significance>5.')\n",
    "df_pers = create_perobs_data(df_sig, query_dir, data_dir, name_type='CSCview', name_col='name', ra_col='ra',dec_col='dec',coord_format='deg')\n",
    "    \n",
    "df_pers.to_csv(f'{data_dir}/{field_name}_per.csv', index=False)"
   ]
  },
  {
   "cell_type": "code",
   "execution_count": 19,
   "metadata": {},
   "outputs": [],
   "source": [
    "#df = create_field_csc_data(data_dir, field_name,ra,dec,radius)\n",
    "\n",
    "#df.to_csv(f'{data_dir}/{field_name}_per.csv', index=False)"
   ]
  },
  {
   "cell_type": "code",
   "execution_count": 20,
   "metadata": {},
   "outputs": [],
   "source": [
    "#print(df)\n",
    "\n",
    "df = cal_PU(df_pers, 'theta', 'src_cnts_aper90_b', 'PU_kim95', ver='kim95', sigma=2.)\n",
    "\n",
    "df = cal_PU(df, 'theta', 'src_cnts_aper90_b', 'PU_csc90', ver='csc90', sigma=2.)\n",
    "\n",
    "df = cal_PU(df, 'theta', 'src_cnts_aper90_b', 'PU_kim68', ver='kim68', sigma=1.)\n",
    "\n",
    "df['PU_CSC'] = np.sqrt(df['err_ellipse_r0']**2 - 0.7**2)\n",
    "\n",
    "df['RA'] = Angle(df['ra'], 'hourangle').degree\n",
    "df['DEC'] = Angle(df['dec'], 'deg').degree\n",
    "\n",
    "df.to_csv(f'{data_dir}/{field_name}_PU.csv', index=False)"
   ]
  },
  {
   "cell_type": "code",
   "execution_count": 21,
   "metadata": {},
   "outputs": [
    {
     "name": "stdout",
     "output_type": "stream",
     "text": [
      "Run cal_ave......\n",
      "There are 145 per-obs data.\n",
      "Run flux2symmetric......\n",
      "Run flux2symmetric......\n",
      "Run powlaw2symmetric......\n",
      "Run apply_flags_filter......\n",
      "After dropping 0 detections with HRC instrument, 145 remain.\n",
      "After dropping 13 detections with theta larger than 10', 132 remain.\n",
      "After dropping 0  detections with sat_src_flag = TRUE, 132 remain.\n",
      "After dropping 0  detections with pile_warning>0.3, 132 remain.\n",
      "After dropping 0  detections with streak_src_flag = TRUE, 132 remain.\n",
      "After dropping 0  detections assigned to different sources, 132 remain.\n",
      "Run cal_sig......\n",
      "Run cal_aveflux......\n",
      "Run cal_aveflux......\n",
      "Run cal_var......\n",
      "Run nan_flux......\n"
     ]
    }
   ],
   "source": [
    "df['per_remove_code'] = 0\n",
    "\n",
    "df['usrid'] = df.index\n",
    "\n",
    "df_ave, df_obs = cal_ave(df, data_dir, dtype='field',Chandratype='CSC',PU='PU_kim95',cnt=True,verb=verb)\n",
    "\n",
    "df_ave = df_ave[df_ave['remove_code']==0].reset_index(drop=True)\n",
    "\n",
    "df_ave.to_csv(f'{data_dir}/{field_name}_ave.csv', index=False)"
   ]
  },
  {
   "cell_type": "code",
   "execution_count": 4,
   "metadata": {},
   "outputs": [
    {
     "name": "stdout",
     "output_type": "stream",
     "text": [
      "The 90% percentile of epsi for NGC3532_02182022  field is  1.898 .\n"
     ]
    }
   ],
   "source": [
    "#df_gaia = refsrc_gaia(field_name, data_dir, ref_mjd, ra=ra, dec=dec, R=12., exclude_center=False, Plx_limits=[-2.,2.], e_Plx_limit=1., e_PM_limit=1., PU_limits=1.)\n",
    "\n",
    "df_gaia = refsrc_gaia(field_name, data_dir, ref_mjd, ra=ra, dec=dec, R=25., exclude_center=False, Plx_limits=[-2.,2.], e_Plx_limit=1., e_PM_limit=1., PU_limits=1., PM_limit=20, RUWE_limit=1.4)"
   ]
  },
  {
   "cell_type": "code",
   "execution_count": 1,
   "metadata": {},
   "outputs": [
    {
     "ename": "ModuleNotFoundError",
     "evalue": "No module named 'ciao_library'",
     "output_type": "error",
     "traceback": [
      "\u001b[0;31m---------------------------------------------------------------------------\u001b[0m",
      "\u001b[0;31mModuleNotFoundError\u001b[0m                       Traceback (most recent call last)",
      "Input \u001b[0;32mIn [1]\u001b[0m, in \u001b[0;36m<cell line: 1>\u001b[0;34m()\u001b[0m\n\u001b[0;32m----> 1\u001b[0m \u001b[38;5;28;01mfrom\u001b[39;00m \u001b[38;5;21;01mciao_library\u001b[39;00m \u001b[38;5;28;01mimport\u001b[39;00m Gaia_CSC_astro\n\u001b[1;32m      4\u001b[0m data_dir \u001b[38;5;241m=\u001b[39m \u001b[38;5;124m'\u001b[39m\u001b[38;5;124m./data/NGC3532_02182022\u001b[39m\u001b[38;5;124m'\u001b[39m\n\u001b[1;32m      5\u001b[0m field_name \u001b[38;5;241m=\u001b[39m \u001b[38;5;124m'\u001b[39m\u001b[38;5;124mNGC3532_02182022\u001b[39m\u001b[38;5;124m'\u001b[39m\n",
      "\u001b[0;31mModuleNotFoundError\u001b[0m: No module named 'ciao_library'"
     ]
    }
   ],
   "source": [
    "from ciao_library import Gaia_CSC_astro\n",
    "\n",
    "\n",
    "data_dir = './data/NGC3532_02182022'\n",
    "field_name = 'NGC3532_02182022'\n",
    "\n",
    "for residlim in [0.1, 0.2, 0.3, 0.4]:\n",
    "\n",
    "    Gaia_CSC_astro(field_name,data_dir,residlim=residlim,sig_astro=5,count_astro=20)"
   ]
  },
  {
   "cell_type": "code",
   "execution_count": 3,
   "metadata": {},
   "outputs": [
    {
     "name": "stdout",
     "output_type": "stream",
     "text": [
      "-0.47345818199705214 0.29802036015063194\n",
      "The correction is 0.45\" in ra and 0.15\" in dec.\n",
      "0.09236230984832164 0.125295 9\n",
      "[0.19820128 0.10602348 0.12209043 0.15133265 0.15112671 0.07906629\n",
      " 0.08753207 0.14375853 0.08683688]\n",
      "cross-matching to gaia\n",
      "cross-matching to gaiadist\n",
      "102 MW counterparts remained for gaia\n",
      "cross-matching to 2mass\n",
      "84 MW counterparts remained for 2mass\n",
      "cross-matching to catwise\n",
      "52 MW counterparts remained for catwise\n",
      "cross-matching to unwise\n",
      "61 MW counterparts remained for unwise\n",
      "cross-matching to allwise\n",
      "38 MW counterparts remained for allwise\n",
      "cross-matching to vphas\n",
      "92 MW counterparts remained for vphas\n",
      "132  sources in total.\n",
      "remove_code = 1: CSC flags\n",
      "10 sources with True  extent_flag\n",
      "extent_flag [(False, 122), (True, 10)]\n",
      "0 sources with True  pileup_flag\n",
      "pileup_flag [(False, 132)]\n",
      "0 sources with True  sat_src_flag\n",
      "sat_src_flag [(False, 132)]\n",
      "0 sources with True  streak_src_flag\n",
      "streak_src_flag [(False, 132)]\n",
      "16 sources with True  conf_flag\n",
      "conf_flag [(False, 116), (True, 16)]\n",
      "Remove 0\n",
      "Left 132\n",
      "remove_code = 32: NaN and/or zero fluxes in multiple bands\n",
      "[(0, 130), (4, 2)]\n",
      "Remove 0 sources.\n",
      "Left 132\n",
      "132\n",
      "(90,) (90,) (90,)\n"
     ]
    }
   ],
   "source": [
    "from astropy.io import fits \n",
    "from prepare_library import  cal_astrometric_correction, cal_astro_pu, apply_astro_correct, MW_counterpart_confusion, counterpart_clean, CSC_clean\n",
    "import pandas as pd\n",
    "import numpy as np\n",
    "\n",
    "data_dir = './data/NGC3532_02182022'\n",
    "field_name = 'NGC3532_02182022'\n",
    "sig_astro=5\n",
    "count_astro=20\n",
    "#ref_obsID = 8941\n",
    "ref_mjd = 5.4762887769419E+04\n",
    "#ra =166.28875\n",
    "#dec =  -58.85\n",
    "#radius = 25\n",
    "cat = 'gaia'\n",
    "\n",
    "    \n",
    "\n",
    "residlims = [0.2]# [0.1, 0.2, 0.3, 0.4]\n",
    "#residlims = [0.1, 0.2, 0.3, 0.4]\n",
    "del_ras = []\n",
    "del_decs = []\n",
    "astro_pus, rms_ress, num_srcs = [], [], []\n",
    "for residlim in residlims:\n",
    "\n",
    "    del_ra, del_dec = cal_astrometric_correction(fits.open(f'{data_dir}/Astrometry/{field_name}_{residlim}_{sig_astro}_{count_astro}_xfm.fits'))#field_name,data_dir,residlim,sig_astro,count_astro)\n",
    "    \n",
    "    astro_pu, rms_res, num_src = cal_astro_pu(field_name,data_dir,residlim,sig_astro,count_astro)\n",
    "    print(astro_pu, rms_res, num_src)\n",
    "    \n",
    "    del_ras.append(del_ra*3600)\n",
    "    del_decs.append(del_dec*3600)\n",
    "    astro_pus.append(astro_pu)\n",
    "    rms_ress.append(rms_res)\n",
    "    num_srcs.append(num_src)\n",
    "    \n",
    "    apply_astro_correct(field_name,data_dir,del_ra, del_dec, residlim,sig_astro,count_astro, astro_pu)\n",
    "    \n",
    "    df = pd.read_csv(f'{data_dir}/Astrometry/{field_name}_{residlim}_{sig_astro}_{count_astro}_astro_correct.csv')\n",
    "    ras = df['ra_cor'].values\n",
    "    decs = df['dec_cor'].values\n",
    "    Es = df['PU'].values\n",
    "    search_radius, sig_nr = 300, 10 # arcsec\n",
    "    df['_q'] = df.index+1\n",
    "    \n",
    "    for cat, confusion in zip(['gaia','2mass','catwise','unwise','allwise','vphas'], [False]*6 ):\n",
    "    \n",
    "        df_MW = MW_counterpart_confusion(ras, decs, search_radius, Es=Es, N=sig_nr, catalog=cat,ref_mjd=ref_mjd,pm_cor=True,confusion=confusion)\n",
    "        \n",
    "        df_MW.to_csv(f'{data_dir}/Astrometry/{field_name}_{residlim}_{sig_astro}_{count_astro}_{cat}.csv', index=False)\n",
    "\n",
    "        df = pd.merge(df, df_MW, how='outer', on=['_q', '_q'])\n",
    "\n",
    "\n",
    "        df = counterpart_clean(df, X_PU='PU', catalog=cat,X_mjd=ref_mjd,pu_factor=1.5,pm_cor=True,r2=True)\n",
    "        #print(df.columns)\n",
    "    \n",
    "    #,'gaiadist'\n",
    "    \n",
    "    df.to_csv(f'{data_dir}/Astrometry/{field_name}_{residlim}_{sig_astro}_{count_astro}_cp_clean.csv', index=False)\n",
    "    df = pd.read_csv(f'{data_dir}/Astrometry/{field_name}_{residlim}_{sig_astro}_{count_astro}_cp_clean.csv')\n",
    "    df_MW_clean = CSC_clean_keepcols(df, withvphas=True)\n",
    "    df_MW_clean = vphasp_to_gaia_mags(df_MW_clean)\n",
    "    df_MW_clean.to_csv(f'{data_dir}/Astrometry/{field_name}_{residlim}_{sig_astro}_{count_astro}_MW_clean.csv', index=False)\n",
    "    \n",
    "     "
   ]
  },
  {
   "cell_type": "code",
   "execution_count": 4,
   "metadata": {},
   "outputs": [
    {
     "data": {
      "text/plain": [
       "Text(0, 0.5, 'arcsec')"
      ]
     },
     "execution_count": 4,
     "metadata": {},
     "output_type": "execute_result"
    },
    {
     "data": {
      "image/png": "[encoded data removed]",
      "text/plain": [
       "<Figure size 432x432 with 1 Axes>"
      ]
     },
     "metadata": {
      "needs_background": "light"
     },
     "output_type": "display_data"
    }
   ],
   "source": [
    "import matplotlib.pyplot as plt\n",
    "#rho = 0.02182363072478699\n",
    "\n",
    "fig, axs = plt.subplots(1,1, figsize=(6,6))\n",
    "#axs = axs.flatten()\n",
    "#for obsid, i, lims in zip(obsids, range(5), [[-1., 0.5 , -1, .5], [0, 1.5, -0.75, 0.75], [0, 1.5, -1.5, 0], [0, 2, -1, 1], [0, 2, 0, 2]]):\n",
    "    \n",
    "    #df_s = df[(df['obsid']==obsid)]\n",
    "    \n",
    "axs.set(xlim=(0, 1), ylim=(-0.2,0.8))\n",
    "\n",
    "colors = iter([plt.cm.tab20(i) for i in range(20)])\n",
    "\n",
    "\n",
    "x0, y0 = 0, 0 \n",
    "\n",
    "del_ras, del_decs, rms_ress, residlims, astro_pus, num_srcs\n",
    "    \n",
    "for d_ra, d_dec, res, rms,pu, num,color in zip(del_ras, del_decs, residlims, rms_ress, astro_pus, num_srcs, colors):\n",
    "    #p = (1.-np.exp(-rho*np.pi*res**2))*tot\n",
    "    axs.arrow(x0, y0, d_ra, d_dec, head_width=0.05, head_length=0.01,fc=color,  ec=color,label=' red:'+str(res)+' num:'+str(num)+' pu:'+str(format(pu, '.3f'))+' rms:'+str(format(rms,'.3f')))\n",
    "    circle = plt.Circle((d_ra, d_dec), pu, fc='none',ec=color, color = color, linewidth=1,alpha=1)\n",
    "    axs.add_artist(circle)  \n",
    "    axs.text(d_ra, d_dec,str(res),color=color,alpha=1.,fontsize=12)\n",
    "\n",
    "axs.legend(fontsize=8)\n",
    "axs.set_title('Astrometric solutions of NGC 3532 \\n Chandra ObsID=8941 using wcs_match \\n with a set of redlim parameter',fontsize=20)\n",
    "axs.set_xlabel('arcsec',fontsize=15)\n",
    "axs.set_ylabel('arcsec',fontsize=15)\n",
    "#plt.show()\n",
    "#plt.savefig('NGC3532_astro.eps')"
   ]
  },
  {
   "cell_type": "code",
   "execution_count": 5,
   "metadata": {},
   "outputs": [],
   "source": [
    "\n",
    "# compare to previous and other resid results \n",
    "\n",
    "#df_pre = pd.read_csv('/Users/yanghui/Desktop/Research/2019/MUWCLASS_Project/ML/ML_pipelines_merge/MUWCLASS_pipeline_github/MUWCLASS_prepare_NGC3532/data/NGC3532_MW_clean.csv')\n",
    "\n",
    "df = pd.read_csv(f'{data_dir}/Astrometry/{field_name}_0.2_5_20_MW_clean.csv')\n",
    "\n",
    "for cat, iden in zip(['gaia','2mass','catwise','unwise','allwise','vphas'], ['EDR3Name_gaia','_2MASS_2mass','objID_catwise','objID_unwise','AllWISE_allwise','sourceID_vphas']):\n",
    "    \n",
    "    df['flag_cp_compare_'+cat] = ''\n",
    "    \n",
    "    for res2 in [0.1, 0.3, 0.4]:\n",
    "        df2 = pd.read_csv(f'{data_dir}/Astrometry/{field_name}_{res2}_5_20_MW_clean.csv')\n",
    "\n",
    "        #df_compare = pd.merge(df[['name',iden,'cp_flag_'+cat]], df2[['name',iden,'cp_flag_'+cat]], on=['name','name'],how='inner')\n",
    "        \n",
    "        #df_dif = df_compare[((~df_compare[iden+'_x'].isnull()) | (~df_compare[iden+'_y'].isnull()))  & (df_compare[iden+'_x']!=df_compare[iden+'_y'])]\n",
    "        \n",
    "        df_com = df[['name',iden,'cp_flag_'+cat]].merge(df2[['name',iden,'cp_flag_'+cat]], how = 'inner' ,indicator=False)\n",
    "        \n",
    "        df.loc[~df.name.isin(df_com.name), 'flag_cp_compare_'+cat] = df.loc[~df.name.isin(df_com.name), 'flag_cp_compare_'+cat] + str(res2)[-1]\n",
    "        \n",
    "df.to_csv(f'{data_dir}/Astrometry/{field_name}_0.2_5_20_clean_flag.csv', index=False)\n"
   ]
  },
  {
   "cell_type": "code",
   "execution_count": 6,
   "metadata": {},
   "outputs": [
    {
     "name": "stdout",
     "output_type": "stream",
     "text": [
      "INFO: Query finished. [astroquery.utils.tap.core]\n",
      "(61540, 10)\n",
      "132\n",
      "132\n",
      "(101, 13)\n",
      "INFO: Query finished. [astroquery.utils.tap.core]\n",
      "(11683, 19)\n",
      "132\n",
      "132\n",
      "(34, 22)\n"
     ]
    }
   ],
   "source": [
    "df_gaia = pd.read_csv(f'{data_dir}/Astrometry/{field_name}_0.2_5_20_clean_flag.csv')\n",
    "#print(df_gaia.EDR3Name_gaia)\n",
    "#df_gaia['Source_gaia'] = df_gaia.apply(lambda row: np.nan if pd.isnull(row.EDR3Name_gaia) else np.int64(row.EDR3Name_gaia[10:]), axis=1)\n",
    "Gaia_counterparts(df_gaia,data_dir, field_name)\n",
    "#print(df_gaia.Source_gaia)"
   ]
  },
  {
   "cell_type": "code",
   "execution_count": 7,
   "metadata": {},
   "outputs": [],
   "source": [
    "df_gaia = pd.read_csv(f'{data_dir}/Astrometry/{field_name}_0.2_5_20_clean_flag.csv')\n",
    "\n",
    "for cat in ['2mass', 'allwise']:\n",
    "    df_MW = pd.read_csv(f'{data_dir}/{field_name}_'+cat+'_gaia.csv')\n",
    "    df_MW = df_MW.add_suffix('_gaia')\n",
    "    df_MW = df_MW.rename(columns= {'_q_gaia': '_q'} )\n",
    "    df_gaia = pd.merge(df_gaia, df_MW, how='outer', on=['_q'])\n",
    "    \n",
    "\n",
    "for i in df.index:\n",
    "    flags = []\n",
    "    for cat,label in zip(['gaia','2mass','catwise','unwise','allwise','vphas'], ['g','2','cw','uw','aw','v']):\n",
    "        if pd.notna(df_gaia.loc[i,'flag_cp_compare_'+cat]) or ((df_gaia.loc[i, 'cp_flag_'+cat] <8) & (df_gaia.loc[i, 'cp_flag_'+cat] !=0)):\n",
    "            flags.append(label)\n",
    "        \n",
    "    for cat,label in zip(['2mass_gaia','allwise_gaia'], ['2_g','aw_g']):\n",
    "        if ((df_gaia.loc[i, 'cp_flag_'+cat] <8) & (df_gaia.loc[i, 'cp_flag_'+cat] !=0)):\n",
    "            flags.append(label)\n",
    "        \n",
    "    df_gaia.loc[i,\"cp_conf_flag\"] = \",\".join(flags)\n",
    "\n",
    "df_gaia.to_csv(f'{data_dir}/{field_name}_MW_clean_update.csv',index=False)"
   ]
  },
  {
   "cell_type": "code",
   "execution_count": null,
   "metadata": {},
   "outputs": [],
   "source": []
  },
  {
   "cell_type": "code",
   "execution_count": 3,
   "metadata": {},
   "outputs": [
    {
     "name": "stdout",
     "output_type": "stream",
     "text": [
      "['gaia', '2mass', 'catwise', 'unwise', 'allwise', 'vphas', '2mass_gaia', 'allwise_gaia']\n"
     ]
    }
   ],
   "source": [
    "\n",
    "df_MW_update = pd.read_csv(f'{data_dir}/{field_name}_MW_clean_update.csv')\n",
    "\n",
    "df_save = prepare_cols(df_MW_update, cp_thres=-4, vphas=True,gaiadata=True)"
   ]
  },
  {
   "cell_type": "code",
   "execution_count": 4,
   "metadata": {},
   "outputs": [],
   "source": [
    "df_save.to_csv('df_test.csv',index=False)"
   ]
  },
  {
   "cell_type": "code",
   "execution_count": null,
   "metadata": {},
   "outputs": [],
   "source": []
  },
  {
   "cell_type": "markdown",
   "metadata": {},
   "source": [
    "df_MW_update = pd.read_csv(f'{data_dir}/{field_name}_MW_clean_update.csv')\n",
    "df_MW_update_sig = df_MW_update[df_MW_update.significance>5.]\n",
    "df_MW_update_sig.sort_values(by='significance', ascending=False).to_csv(f'{data_dir}/{field_name}_MW_clean_update_sig.csv',index=False)"
   ]
  },
  {
   "cell_type": "markdown",
   "metadata": {},
   "source": [
    "sig_astro=5\n",
    "count_astro=20\n",
    "cat = 'gaia'\n",
    "data_dir = './data'\n",
    "field_name = 'NGC3532'\n",
    "residlims = [0.1, 0.2, 0.3, 0.4]\n",
    "residlims_copy = residlims.copy()\n",
    "for res1 in [0.1, 0.2, 0.3, 0.4]:\n",
    "    \n",
    "    df1 = pd.read_csv(f'{data_dir}/Astrometry/{field_name}_{res1}_{sig_astro}_{count_astro}_{cat}_clean.csv')\n",
    "    residlims_copy.remove(res1)\n",
    "    \n",
    "    for res2 in residlims_copy:\n",
    "        print(res1,'vs', res2)\n",
    "        df2 = pd.read_csv(f'{data_dir}/Astrometry/{field_name}_{res2}_{sig_astro}_{count_astro}_{cat}_clean.csv')\n",
    "    \n",
    "        \n",
    "        df_compare = pd.merge(df1[['name', 'EDR3Name_gaia']], df2[['name','EDR3Name_gaia']], on=['name','name'],how='inner')\n",
    "        df_compare['EDR3Name_gaia_x'] = df_compare['EDR3Name_gaia_x'].str[10:]\n",
    "        df_compare['EDR3Name_gaia_y'] = df_compare['EDR3Name_gaia_y'].str[10:]\n",
    "        #print(df_compare)\n",
    "    \n",
    "        df_dif = df_compare[((~df_compare.EDR3Name_gaia_x.isnull()) | (~df_compare.EDR3Name_gaia_y.isnull()))  & (df_compare.EDR3Name_gaia_x!=df_compare.EDR3Name_gaia_y)]\n",
    "        print(len(df_compare), len(df_dif), len(df_dif[df_dif.EDR3Name_gaia_x.isnull()]), len(df_dif[df_dif.EDR3Name_gaia_y.isnull()]))\n",
    "        print(df_dif)\n",
    "    \n",
    "    \n",
    "        "
   ]
  },
  {
   "cell_type": "code",
   "execution_count": null,
   "metadata": {},
   "outputs": [],
   "source": []
  },
  {
   "cell_type": "code",
   "execution_count": null,
   "metadata": {},
   "outputs": [],
   "source": []
  },
  {
   "cell_type": "code",
   "execution_count": null,
   "metadata": {},
   "outputs": [],
   "source": []
  },
  {
   "cell_type": "code",
   "execution_count": null,
   "metadata": {},
   "outputs": [],
   "source": []
  },
  {
   "cell_type": "code",
   "execution_count": null,
   "metadata": {},
   "outputs": [],
   "source": []
  }
 ],
 "metadata": {
  "kernelspec": {
   "display_name": "Python 3 (ipykernel)",
   "language": "python",
   "name": "python3"
  },
  "language_info": {
   "codemirror_mode": {
    "name": "ipython",
    "version": 3
   },
   "file_extension": ".py",
   "mimetype": "text/x-python",
   "name": "python",
   "nbconvert_exporter": "python",
   "pygments_lexer": "ipython3",
   "version": "3.9.12"
  }
 },
 "nbformat": 4,
 "nbformat_minor": 2
}
