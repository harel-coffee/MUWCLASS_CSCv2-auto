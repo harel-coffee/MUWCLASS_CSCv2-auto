{
 "cells": [
  {
   "cell_type": "code",
   "execution_count": 2,
   "id": "c3298d94",
   "metadata": {},
   "outputs": [],
   "source": [
    "import pandas as pd\n",
    "import numpy as np\n",
    "import os\n",
    "\n",
    "# import time\n",
    "import multiprocessing as mp\n",
    "import glob\n",
    "import sys \n",
    "import sys  \n",
    "sys.path.insert(0, '../')\n",
    "\n",
    "from sklearn.metrics import accuracy_score, balanced_accuracy_score, f1_score\n",
    "from muwclass_library import loo_prepare, loo_train_and_classify, loo_save_res, plot_confusion_matrix,  confident_flag, confident_sigma\n",
    "from bokeh.io import show\n",
    "from bokeh.io import export_png\n",
    "from sklearn.metrics import confusion_matrix\n",
    "from collections import Counter\n",
    "import matplotlib.pyplot as plt"
   ]
  },
  {
   "cell_type": "code",
   "execution_count": 2,
   "id": "58b253d6",
   "metadata": {},
   "outputs": [
    {
     "name": "stdout",
     "output_type": "stream",
     "text": [
      "1000\n",
      "      P_median_AGN  P_median_CV  P_median_HM-STAR  P_median_HMXB  \\\n",
      "0            0.980         0.00              0.00           0.00   \n",
      "1            1.000         0.00              0.00           0.00   \n",
      "2            0.980         0.01              0.00           0.00   \n",
      "3            0.980         0.01              0.00           0.00   \n",
      "4            0.990         0.00              0.00           0.00   \n",
      "...            ...          ...               ...            ...   \n",
      "2936         0.030         0.00              0.01           0.01   \n",
      "2937         0.320         0.00              0.00           0.00   \n",
      "2938         0.000         0.00              0.00           0.00   \n",
      "2939         0.000         0.00              0.00           0.00   \n",
      "2940         0.075         0.23              0.01           0.04   \n",
      "\n",
      "      P_median_LM-STAR  P_median_LMXB  P_median_NS  P_median_YSO  \\\n",
      "0                 0.01           0.00         0.00          0.00   \n",
      "1                 0.00           0.00         0.00          0.00   \n",
      "2                 0.00           0.00         0.00          0.00   \n",
      "3                 0.00           0.00         0.00          0.00   \n",
      "4                 0.00           0.00         0.00          0.01   \n",
      "...                ...            ...          ...           ...   \n",
      "2936              0.00           0.01         0.00          0.93   \n",
      "2937              0.00           0.00         0.00          0.68   \n",
      "2938              0.00           0.00         0.00          1.00   \n",
      "2939              0.00           0.00         0.00          1.00   \n",
      "2940              0.01           0.33         0.01          0.29   \n",
      "\n",
      "      P_2sig_upp_AGN  P_2sig_upp_CV  ...  Class_prob_e                   name  \\\n",
      "0               1.00       0.020000  ...      0.077155  2CXO J000009.3+135618   \n",
      "1               1.00       0.002727  ...      0.001892  2CXO J000230.7+004959   \n",
      "2               1.00       0.050000  ...      0.016449  2CXO J000622.6-000424   \n",
      "3               1.00       0.090000  ...      0.031706  2CXO J000659.2-001740   \n",
      "4               1.00       0.010000  ...      0.015503  2CXO J000703.6+155423   \n",
      "...              ...            ...  ...           ...                    ...   \n",
      "2936            0.08       0.030000  ...      0.061766  2CXO J183000.6+011340   \n",
      "2937            0.51       0.010000  ...      0.090547  2CXO J183001.1+011324   \n",
      "2938            0.00       0.000000  ...      0.001817  2CXO J183003.4+011619   \n",
      "2939            0.01       0.000000  ...      0.003653  2CXO J183007.7+011204   \n",
      "2940            0.14       0.330000  ...      0.053670  2CXO J183011.1+011237   \n",
      "\n",
      "      true_Class      P_CO    e_P_CO        CT_8  Class5  Class5_prob  \\\n",
      "0            AGN  0.006200  0.009080    7.762903     AGN     0.950255   \n",
      "1            AGN  0.000270  0.001687  286.555798     AGN     0.999650   \n",
      "2            AGN  0.020225  0.015886   32.050631     AGN     0.979475   \n",
      "3            AGN  0.028525  0.028862   16.392114     AGN     0.969730   \n",
      "4            AGN  0.009150  0.010697   38.201232     AGN     0.983180   \n",
      "...          ...       ...       ...         ...     ...          ...   \n",
      "2936         YSO  0.031200  0.025473    9.612935     YSO     0.912180   \n",
      "2937         YSO  0.002660  0.005321    1.950523     YSO     0.674150   \n",
      "2938         YSO  0.000040  0.000632  333.793918     YSO     0.999680   \n",
      "2939         YSO  0.000020  0.000447  160.316596     YSO     0.998830   \n",
      "2940         YSO  0.609800  0.076566    0.318880      CO     0.609800   \n",
      "\n",
      "      Class5_prob_e  true_Class5  \n",
      "0          0.077155          AGN  \n",
      "1          0.001892          AGN  \n",
      "2          0.016449          AGN  \n",
      "3          0.031706          AGN  \n",
      "4          0.015503          AGN  \n",
      "...             ...          ...  \n",
      "2936       0.061766          YSO  \n",
      "2937       0.090547          YSO  \n",
      "2938       0.001817          YSO  \n",
      "2939       0.003653          YSO  \n",
      "2940       0.076566          YSO  \n",
      "\n",
      "[2941 rows x 56 columns]\n"
     ]
    }
   ],
   "source": [
    "dir_data = '/media/orion51/PoplarII/Projects/2019/MUWCLASS_Project/ML/DATA/MUWCLASS_Classify_evaluation/LOO_test_rgeo_lum_results'\n",
    "class_labels = ['AGN','CV','HM-STAR','LM-STAR','HMXB','LMXB','NS','YSO']\n",
    "\n",
    "files = glob.glob(f'{dir_data}/*/classes.csv')\n",
    "dfs = [pd.read_csv(f, usecols=range(len(class_labels))) for f in files]\n",
    "print(len(dfs))\n",
    "df_median   = pd.concat(dfs).groupby(level=0).median()\n",
    "#df_1sig_up  = pd.concat(dfs).groupby(level=0).quantile(0.84135)\n",
    "#df_1sig_low = pd.concat(dfs).groupby(level=0).quantile(0.15865)\n",
    "df_2sig_up  = pd.concat(dfs).groupby(level=0).quantile(0.97725)\n",
    "df_2sig_low = pd.concat(dfs).groupby(level=0).quantile(0.02275)\n",
    "df_mean     = pd.concat(dfs).groupby(level=0).mean()\n",
    "df_std      = pd.concat(dfs).groupby(level=0).std()\n",
    "\n",
    "\n",
    "df_class = df_median.idxmax(axis=1)\n",
    "df_prob = df_median.max(axis=1)\n",
    "#df_prob_1sig_up  = pd.DataFrame(data=[df_1sig_up.values[i][np.argmax(np.array(df_median), axis=1)[i]]  for i in range(len(df_median))], columns=['Class_prob_1sig_upp'])\n",
    "#df_prob_1sig_low = pd.DataFrame(data=[df_1sig_low.values[i][np.argmax(np.array(df_median), axis=1)[i]]  for i in range(len(df_median))], columns=['Class_prob_1sig_low'])\n",
    "df_prob_2sig_up  = pd.DataFrame(data=[df_2sig_up.values[i][np.argmax(np.array(df_median), axis=1)[i]]  for i in range(len(df_median))], columns=['Class_prob_2sig_upp'])\n",
    "df_prob_2sig_low = pd.DataFrame(data=[df_2sig_low.values[i][np.argmax(np.array(df_median), axis=1)[i]]  for i in range(len(df_median))], columns=['Class_prob_2sig_low'])\n",
    "df_class_mean = df_mean.idxmax(axis=1)\n",
    "df_prob_mean = df_mean.max(axis=1)\n",
    "df_prob_e = pd.DataFrame(data=[df_std.values[i][np.argmax(np.array(df_mean), axis=1)[i]]  for i in range(len(df_std))], columns=['Class_prob_e'])\n",
    "\n",
    "df_mean = df_mean.add_prefix('P_')\n",
    "df_std  = df_std.add_prefix('e_P_')\n",
    "df_median = df_median.add_prefix('P_median_')\n",
    "df_2sig_up = df_2sig_up.add_prefix('P_2sig_upp_')\n",
    "df_2sig_low = df_2sig_low.add_prefix('P_2sig_low_')\n",
    "\n",
    "df = pd.concat([df_median, df_2sig_up, df_2sig_low, df_mean, df_std, df_class, df_prob, df_prob_2sig_up, df_prob_2sig_low, df_class_mean, df_prob_mean, df_prob_e, pd.read_csv(files[0]).name, pd.read_csv(files[0]).true_Class],axis=1).rename(columns={0:'Class_median',1:'Class_prob_median',2:'Class',3:'Class_prob'})\n",
    "#print(df.columns)\n",
    "\n",
    "CO_classes = ['LMXB', 'HMXB', 'CV', 'NS']\n",
    "nonCO_classes = list(set(class_labels)-set(CO_classes))\n",
    "\n",
    "# define probability and error of stellar compact object \n",
    "\n",
    "df['P_CO'] = df[['P_' + c for c in CO_classes]].sum(1)\n",
    "df['e_P_CO'] = np.sqrt(np.sum(np.square(df[['e_P_' + c for c in CO_classes]]), 1))\n",
    "\n",
    "\n",
    "\n",
    "#df_default = confident_flag(df, method = 'sigma-mean', class_cols=class_labels)\n",
    "df = confident_sigma(df, class_cols=class_labels).rename(columns={'CT':'CT_8'})\n",
    "\n",
    "df_mean_5class = df[['P_AGN','P_LM-STAR','P_HM-STAR','P_YSO','P_CO']]\n",
    "df_std_5class = df[['e_P_AGN','e_P_LM-STAR','e_P_HM-STAR','e_P_YSO','e_P_CO']]\n",
    "df_class_mean = df_mean_5class.idxmax(axis=1)\n",
    "df_prob_mean = df_mean_5class.max(axis=1)\n",
    "df_prob_e = pd.DataFrame(data=[df_std_5class.values[i][np.argmax(np.array(df_mean_5class), axis=1)[i]]  for i in range(len(df_std_5class))], columns=['Class5_prob_e'])\n",
    "\n",
    "#df_class_mean.columns = df_class_mean.columns.map(lambda x: x.removeprefix(\"P_\"))\n",
    "\n",
    "df = pd.concat([df,df_class_mean, df_prob_mean, df_prob_e],axis=1).rename(columns={0:'Class5',1:'Class5_prob'})\n",
    "#print(df)\n",
    "df['Class5'] = df['Class5'].str[2:]\n",
    "df['true_Class5'] = df.apply(lambda s:s['true_Class'] if s['true_Class'] in ['AGN','LM-STAR','HM-STAR','YSO'] else 'CO', axis=1)\n",
    "print(df)\n",
    "df = confident_sigma(df, class_cols=['AGN','LM-STAR','HM-STAR','YSO','CO'],class_prob='Class5_prob',class_prob_e='Class5_prob_e').rename(columns={'CT':'CT_5'})\n",
    "\n",
    "df.to_csv(f'{dir_data}/LOO_classes.csv',index=False)\n",
    "\n"
   ]
  },
  {
   "cell_type": "code",
   "execution_count": 8,
   "id": "ca6e665f",
   "metadata": {},
   "outputs": [
    {
     "name": "stdout",
     "output_type": "stream",
     "text": [
      "accuracy for all classifications: 0.8956137368242094\n",
      "accuracy for confident classifications: 0.9672\n",
      "balanced accuracy for all classifications: 0.7285953153070455\n",
      "balanced accuracy for confident classifications: 0.8142204292284292\n"
     ]
    },
    {
     "data": {
      "text/plain": [
       "'/home/orion51/Desktop/Research/MUWCLASS/MUWCLASS_CSCv2/codes/NGC3532/figs/CM_precision_conf.png'"
      ]
     },
     "execution_count": 8,
     "metadata": {},
     "output_type": "execute_result"
    }
   ],
   "source": [
    "df = pd.read_csv(f'./data/LOO_classes.csv')\n",
    "title = 'CM'\n",
    "class_labels = ['AGN','HM-STAR','LM-STAR','YSO','CV','HMXB','LMXB','NS']\n",
    "\n",
    "print('accuracy for all classifications:',accuracy_score(df.true_Class, df.Class))\n",
    "print('accuracy for confident classifications:',accuracy_score(df.loc[df.CT_8>=2.0, 'true_Class'], df.loc[df.CT_8>=2.0, 'Class']))\n",
    "print('balanced accuracy for all classifications:',balanced_accuracy_score(df.true_Class, df.Class))\n",
    "print('balanced accuracy for confident classifications:',balanced_accuracy_score(df.loc[df.CT_8>=2.0, 'true_Class'], df.loc[df.CT_8>=2.0, 'Class']))\n",
    "\n",
    "\n",
    "CM = plot_confusion_matrix(df, title=f'Recall {title}',classes=class_labels)\n",
    "#show(CM)\n",
    "conf_CM = plot_confusion_matrix(df[df.CT_8>=2.0], title=f'Confident Recall {title}',classes=class_labels,count_fraction=True,df_all = df)\n",
    "CM_p = plot_confusion_matrix(df, title=f'Precision {title}',classes=class_labels,cm_type='precision')\n",
    "#show(CM)\n",
    "conf_CM_p = plot_confusion_matrix(df[df.CT_8>=2.0], title=f'Confident Precision {title}',classes=class_labels,cm_type='precision',count_fraction=True,df_all = df)\n",
    "export_png(CM, filename=f'./figs/CM_recall.png')\n",
    "export_png(conf_CM, filename=f'./figs/CM_recall_conf.png')\n",
    "export_png(CM_p, filename=f'./figs/CM_precision.png')\n",
    "export_png(conf_CM_p, filename=f'./figs/CM_precision_conf.png')"
   ]
  },
  {
   "cell_type": "code",
   "execution_count": 7,
   "id": "5ecd76af",
   "metadata": {},
   "outputs": [
    {
     "name": "stdout",
     "output_type": "stream",
     "text": [
      "accuracy for all classifications: 0.9139748384903095\n",
      "accuracy for confident classifications: 0.9642718446601942\n",
      "balanced accuracy for all classifications: 0.8875975904199797\n",
      "balanced accuracy for confident classifications: 0.9484024337003433\n"
     ]
    },
    {
     "data": {
      "text/plain": [
       "'/home/orion51/Desktop/Research/MUWCLASS/MUWCLASS_CSCv2/codes/NGC3532/figs/CM_precision_conf_5class.png'"
      ]
     },
     "execution_count": 7,
     "metadata": {},
     "output_type": "execute_result"
    }
   ],
   "source": [
    "\n",
    "title = 'CM'\n",
    "class5_labels = ['AGN','HM-STAR','LM-STAR','YSO','CO']\n",
    "\n",
    "\n",
    "print('accuracy for all classifications:',accuracy_score(df.true_Class5, df.Class5))\n",
    "print('accuracy for confident classifications:',accuracy_score(df.loc[df.CT_5>=2.0, 'true_Class5'], df.loc[df.CT_5>=2.0, 'Class5']))\n",
    "print('balanced accuracy for all classifications:',balanced_accuracy_score(df.true_Class5, df.Class5))\n",
    "print('balanced accuracy for confident classifications:',balanced_accuracy_score(df.loc[df.CT_5>=2.0, 'true_Class5'], df.loc[df.CT_5>=2.0, 'Class5']))\n",
    "\n",
    "\n",
    "CM = plot_confusion_matrix(df, title=f'5-class Recall {title}',classes=class5_labels,true_class='true_Class5',pred_class='Class5')\n",
    "#show(CM)\n",
    "conf_CM = plot_confusion_matrix(df[df.CT_5>=2.0], title=f'5-class Confident Recall {title}',classes=class5_labels,true_class='true_Class5',pred_class='Class5',count_fraction=True,df_all = df)\n",
    "CM_p = plot_confusion_matrix(df, title=f'5-class Precision {title}',classes=class5_labels,true_class='true_Class5',pred_class='Class5',cm_type='precision')\n",
    "#show(CM)\n",
    "conf_CM_p = plot_confusion_matrix(df[df.CT_5>=2.0], title=f'5-class Confident Precision {title}',classes=class5_labels,true_class='true_Class5',pred_class='Class5',cm_type='precision',count_fraction=True,df_all = df)\n",
    "export_png(CM, filename=f'./figs/CM_recall_5class.png')\n",
    "export_png(conf_CM, filename=f'./figs/CM_recall_conf_5class.png')\n",
    "export_png(CM_p, filename=f'./figs/CM_precision_5class.png')\n",
    "export_png(conf_CM_p, filename=f'./figs/CM_precision_conf_5class.png')\n"
   ]
  },
  {
   "cell_type": "markdown",
   "id": "e061ab47",
   "metadata": {},
   "source": [
    "# confusion matrix\n",
    "recall_cm = plot_confusion_matrix(pd.read_csv('../../files/LOO_classes.csv'),class_labels,title='Norm. Confusion Matrix (%)',width=450,height=400)\n",
    "show(recall_cm)\n",
    "\n",
    "# feature importance\n",
    "feaimps = pd.read_csv('../../files/feature_importance.csv')\n",
    "fea_imp = plot_Feature_Importance_withSTD(feaimps.iloc[0], feaimps.iloc[1],feaimps.columns,400,800)\n"
   ]
  }
 ],
 "metadata": {
  "kernelspec": {
   "display_name": "Python 3 (ipykernel)",
   "language": "python",
   "name": "python3"
  },
  "language_info": {
   "codemirror_mode": {
    "name": "ipython",
    "version": 3
   },
   "file_extension": ".py",
   "mimetype": "text/x-python",
   "name": "python",
   "nbconvert_exporter": "python",
   "pygments_lexer": "ipython3",
   "version": "3.9.12"
  }
 },
 "nbformat": 4,
 "nbformat_minor": 5
}
