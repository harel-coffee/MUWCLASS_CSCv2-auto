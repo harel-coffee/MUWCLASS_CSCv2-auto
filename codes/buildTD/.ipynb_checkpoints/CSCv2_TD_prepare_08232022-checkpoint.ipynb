{
 "cells": [
  {
   "cell_type": "markdown",
   "metadata": {},
   "source": [
    "# MUWCLASS CSCv2 TD construction pipeline \n",
    "\n",
    "### Contact huiyang@gwu.edu if you have any questions\n",
    "### see our paper at https://arxiv.org/abs/2206.13656\n",
    "#### It is mostly related to Section 2 in the paper\n",
    "\n",
    "* It is noted that you may get a slightly different TD using a different computer or different versions of python or python packages.\n",
    "* It may takes a couple of hours to built the TD when first time running it, particurlay it is time-cunsuming to run the cross-matching with multiwavelngth catalogs\n",
    "\n",
    "This notebook is available at https://github.com/huiyang-astro/MUWCLASS_CSCv2 \n",
    "\n",
    "* This notebook was run in CIAO 4.14 with Python 3.9 \n",
    "* run the follow code to create a new conda environment ciao-4.14-muwclass; if you already have ciao-4.14 installed with Python 3.9, you can use your own conda environment with additional Python packages installed from below\n",
    "* conda create -n ciao-4.14-muwclass -c https://cxc.cfa.harvard.edu/conda/ciao -c conda-forge ciao sherpa ds9 ciao-contrib caldb_main marx python=3.9\n",
    "\n",
    "\n",
    "* run 'bash install-packages.sh' under ciao-4.14-muwclass environment to install all required packages \n",
    "\n",
    "* then, make sure to enable widgetsnbextension and ipyaladin, run\n",
    "* jupyter nbextension enable --py widgetsnbextension\n",
    "* jupyter nbextension enable --py --sys-prefix ipyaladin on your terminal\n",
    "\n",
    "* You might also need to manually register the existing ds9 with the xapns name server by selecting the ds9 File->XPA->Connect menu option so your ds9 will be fully accessible to pyds9.\n"
   ]
  },
  {
   "cell_type": "code",
   "execution_count": 2,
   "metadata": {},
   "outputs": [],
   "source": [
    "import numpy as np\n",
    "import pandas as pd\n",
    "from collections import Counter\n",
    "from astropy.io.fits import getdata\n",
    "from astropy import units as u\n",
    "from astropy.coordinates import SkyCoord, Angle\n",
    "from astroquery.vizier import Vizier\n",
    "from astropy.table import Table\n",
    "from astroquery.xmatch import XMatch\n",
    "import time\n",
    "\n",
    "import sys  \n",
    "sys.path.insert(0, '../')\n",
    "\n",
    "from prepare_library import atnf_pos, create_perobs_data, cal_ave, add_MW, confusion_clean, TD_clean\n",
    "from muwclass_library import prepare_cols\n",
    "\n",
    "import warnings\n",
    "warnings.filterwarnings('ignore')\n",
    "\n",
    "Vizier.ROW_LIMIT = -1\n",
    "exnum = -999999."
   ]
  },
  {
   "cell_type": "code",
   "execution_count": 3,
   "metadata": {},
   "outputs": [],
   "source": [
    "# define some directories and output name\n",
    "\n",
    "data_dir = './data'\n",
    "field_name = 'CSCv2_TD_0823'\n",
    "verb = 0\n",
    "\n",
    "query_dir = '../demo/data/query'"
   ]
  },
  {
   "cell_type": "code",
   "execution_count": null,
   "metadata": {},
   "outputs": [],
   "source": []
  },
  {
   "cell_type": "markdown",
   "metadata": {},
   "source": [
    "# YSOs \n",
    "### from multiple molecular clouds and open clusters (Megeath et al. 2012; Povich et al. 2011; Ozawa et al. 2005; Giardino et al. 2007; Rebull et al. 2011; Delgado et al. 2011);"
   ]
  },
  {
   "cell_type": "code",
   "execution_count": 6,
   "metadata": {},
   "outputs": [
    {
     "name": "stdout",
     "output_type": "stream",
     "text": [
      "3419 Counter({'D': 2991, 'P': 428})\n",
      "808 Counter({'II': 478, '0/I': 247, 'III': 83})\n",
      "72 Counter({'II': 26, '': 22, 'III': 17, 'I': 7})\n",
      "56 Counter({'II': 20, 'III': 16, 'I/II': 9, 'I': 9, 'II/III': 2})\n",
      "272 Counter({'k': 178, 'n': 94})\n",
      "308 Counter({2: 308})\n"
     ]
    }
   ],
   "source": [
    "YSO1 = Vizier(catalog=\"J/AJ/144/192\",row_limit=-1, #https://ui.adsabs.harvard.edu/?#abs/2012AJ....144..192M\n",
    "    columns=['*', '_RAJ2000', '_DEJ2000']).query_constraints(Cl='=|P|D')[0]\n",
    "YSO1 = YSO1['_RAJ2000','_DEJ2000','Cl'].to_pandas().rename(columns={'Cl':'SubClass'})\n",
    "YSO1['e_Pos'], YSO1['ref'] = np.nan, '2012AJ....144..192M'\n",
    "print(len(YSO1),Counter(YSO1['SubClass']))\n",
    "\n",
    "YSO2 = Vizier(catalog=\"J/ApJS/194/14/catalog\",row_limit=-1,#https://ui.adsabs.harvard.edu/?#abs/2011ApJS..194...14P\n",
    "    columns=['*', '_RAJ2000', '_DEJ2000']).query_constraints(Stage='!=A')[0]\n",
    "YSO2 = YSO2['_RAJ2000','_DEJ2000','Stage'].to_pandas().rename(columns={'Stage':'SubClass'})\n",
    "YSO2['e_Pos'], YSO2['ref'] = np.nan, '2011ApJS..194...14P'\n",
    "print(len(YSO2),Counter(YSO2['SubClass']))\n",
    "\n",
    "\n",
    "YSO3 = Vizier(catalog=\"J/A+A/429/963\",row_limit=-1,#https://ui.adsabs.harvard.edu/?#abs/2005A%26A...429..963O\n",
    "    columns=['*', '_RAJ2000', '_DEJ2000','e_Pos']).query_constraints(Class='!=nIII')[0]\n",
    "YSO3 = YSO3['_RAJ2000','_DEJ2000','e_Pos','Class'].to_pandas().rename(columns={'Class':'SubClass'})\n",
    "YSO3['ref'] = '2005A&A...429..963O'\n",
    "print(len(YSO3),Counter(YSO3['SubClass']))\n",
    "\n",
    "\n",
    "YSO4 = Vizier(catalog=\"J/A%2bA/463/275/table5\",row_limit=-1, #https://ui.adsabs.harvard.edu/?#abs/2007A%26A...463..275G\n",
    "    columns=['*', '_RAJ2000', '_DEJ2000']).query_constraints(clYSO='=|I|I/II|II|II/III|III')[0]\n",
    "YSO4 = YSO4['_RAJ2000','_DEJ2000','clYSO'].to_pandas().rename(columns={'clYSO':'SubClass'})\n",
    "YSO4['e_Pos'], YSO4['ref'] = np.nan, '2007A&A...463..275G'\n",
    "print(len(YSO4),Counter(YSO4['SubClass']))\n",
    "\n",
    "YSO5 = Vizier(catalog=\"J/ApJS/196/4\",row_limit=-1, #https://ui.adsabs.harvard.edu/?#abs/2011ApJS..196....4R\n",
    "    columns=['*', '_RAJ2000', '_DEJ2000']).query_constraints(St='=|k|n')[0]\n",
    "YSO5 = YSO5['_RAJ2000','_DEJ2000','St'].to_pandas().rename(columns={'St':'SubClass'})\n",
    "YSO5['e_Pos'], YSO5['ref'] = np.nan,  '2011ApJS..196....4R'\n",
    "print(len(YSO5),Counter(YSO5['SubClass']))\n",
    "\n",
    "YSO6 = Vizier(catalog=\"J/A%2bA/531/A141/catalog\",row_limit=-1,#https://ui.adsabs.harvard.edu/?#abs/2011A%26A...531A.141D\n",
    "    columns=['*', '_RAJ2000', '_DEJ2000']).query_constraints(MmD='=2')[0]\n",
    "YSO6 = YSO6['_RAJ2000','_DEJ2000','MmD'].to_pandas().rename(columns={'MmD':'SubClass'})\n",
    "YSO6['e_Pos'], YSO6['ref'] = np.nan, '2011A&A...531A.141D'\n",
    "print(len(YSO6),Counter(YSO6['SubClass']))\n",
    "\n"
   ]
  },
  {
   "cell_type": "code",
   "execution_count": 7,
   "metadata": {},
   "outputs": [
    {
     "name": "stdout",
     "output_type": "stream",
     "text": [
      "4935 YSOs\n"
     ]
    }
   ],
   "source": [
    "df_YSOs = pd.concat([YSO1, YSO2, YSO3, YSO4, YSO5, YSO6])\n",
    "df_YSOs = df_YSOs.reset_index(drop=True)\n",
    "df_YSOs['Class']='YSO'\n",
    "print(len(df_YSOs),'YSOs')"
   ]
  },
  {
   "cell_type": "code",
   "execution_count": null,
   "metadata": {},
   "outputs": [],
   "source": []
  },
  {
   "cell_type": "markdown",
   "metadata": {},
   "source": [
    "# STARs\n",
    "### from the Catalog of Stellar Spectral Classifications (Skiff 2014) with O, B or W (e.g., WN, WR stars) types are labeled as HM-STARs and A, F, G, K, or M types are labeled as LM-STARs;"
   ]
  },
  {
   "cell_type": "code",
   "execution_count": 8,
   "metadata": {},
   "outputs": [
    {
     "name": "stdout",
     "output_type": "stream",
     "text": [
      "937000\n"
     ]
    }
   ],
   "source": [
    "stars = Vizier(catalog=\"B/mk/mktypes\",row_limit=-1, #https://ui.adsabs.harvard.edu/?#abs/2014yCat....1.2023S\n",
    "    columns=['*', '_RAJ2000', '_DEJ2000']).query_constraints(Mag='<=23')[0]# Fainter sources with Mag > 23 were removed\n",
    "stars = stars['_RAJ2000','_DEJ2000','Name','SpType','Bibcode','Remarks','Mag'].to_pandas()\n",
    "stars = stars.replace(r'^\\s*$', np.nan, regex=True)\n",
    "print(len(stars)) "
   ]
  },
  {
   "cell_type": "code",
   "execution_count": 9,
   "metadata": {},
   "outputs": [
    {
     "name": "stdout",
     "output_type": "stream",
     "text": [
      "937000\n",
      "238222\n",
      "622683\n",
      "69952\n",
      "516991\n",
      "692\n",
      "516182\n"
     ]
    }
   ],
   "source": [
    "# Sources with their SpType column including strings of “e”, “s”, “n”, “p”, “f”, “cv”, “i”, “r”, “a”, “D”, “C”, “cont”, “l”,“H”, “h”, “abs”, “+”, “:”, “*”, “?” were removed\n",
    "# since their spectral type may not be reliable \n",
    "stars_d1 = stars[stars['SpType'].str.contains('e|s|n|p|f|cv|i|r|a|D|C|cont|l|H|h|abs|\\+|\\*|\\:|\\?', na=False)]\n",
    "stars_f1 = stars[~stars.set_index(['_RAJ2000','_DEJ2000']).index.isin(stars_d1.set_index(['_RAJ2000','_DEJ2000']).index)]\n",
    "stars_f1 = stars_f1.reset_index(drop=True)\n",
    "\n",
    "print(len(stars))\n",
    "print(len(stars_d1))\n",
    "print(len(stars_f1))\n",
    "\n",
    "# any sources with non-empty Remarks column were removed;\n",
    "stars_d2 = stars_f1[stars_f1['Remarks'].isnull() == False]\n",
    "stars_f2 = stars_f1[~stars_f1.set_index(['_RAJ2000','_DEJ2000']).index.isin(stars_d2.set_index(['_RAJ2000','_DEJ2000']).index)]\n",
    "stars_f2 = stars_f2.reset_index(drop=True)\n",
    "\n",
    "print(len(stars_d2))\n",
    "print(len(stars_f2))\n",
    "\n",
    "# Sources with “H97b” in their Name column were removed. They are Orion stars which are likely a mix of faint low-mass stars and YSOs and better to be dropped\n",
    "stars_d3 = stars_f2[stars_f2['Name'].str.contains('H97b')]\n",
    "stars_f3 = stars_f2[~stars_f2.set_index(['_RAJ2000','_DEJ2000']).index.isin(stars_d3.set_index(['_RAJ2000','_DEJ2000']).index)]\n",
    "stars_f3 = stars_f3.reset_index(drop=True)\n",
    "\n",
    "print(len(stars_d3))\n",
    "print(len(stars_f3))"
   ]
  },
  {
   "cell_type": "code",
   "execution_count": 10,
   "metadata": {},
   "outputs": [
    {
     "name": "stdout",
     "output_type": "stream",
     "text": [
      "62124\n",
      "450224\n"
     ]
    }
   ],
   "source": [
    "# Seperate high and low mass stars into their respective classes\n",
    "star_hm = stars_f3[stars_f3['SpType'].str.startswith(tuple(['O','B','W']), na=False)]\n",
    "star_lm = stars_f3[stars_f3['SpType'].str.startswith(tuple(['A','F','G','K','M']), na=False)]\n",
    "star_hm = star_hm.reset_index(drop=True)\n",
    "star_lm = star_lm.reset_index(drop=True)\n",
    "\n",
    "star_hm['e_Pos'], star_hm['Class'] = np.nan, 'HM-STAR'\n",
    "star_lm['e_Pos'], star_lm['Class'] = np.nan, 'LM-STAR'\n",
    "df_HMSTARs = star_hm.rename(columns={'Name':'name_cat','SpType':'SubClass','Bibcode':'ref'}).drop(columns=['Remarks','Mag'])\n",
    "df_LMSTARs = star_lm.rename(columns={'Name':'name_cat','SpType':'SubClass','Bibcode':'ref'}).drop(columns=['Remarks','Mag'])\n",
    "print(len(df_HMSTARs))\n",
    "print(len(df_LMSTARs))\n",
    "\n"
   ]
  },
  {
   "cell_type": "markdown",
   "metadata": {},
   "source": [
    "#### Spectroscopically classified low-mass stars from the APOGEE data in SDSS Data Release 16 were obtained. We filtered out those unreliable sources if they don’t have effective temperature measurements or surface gravity measurements. We also removed those likely binary systems by filtering on the VSCATTER if VSCATTER > 1 km/s and/or VSCATTER > 5*VERR_MED. We also removed sources that are not flagged as a star based on Washington/DDO 51 photometry"
   ]
  },
  {
   "cell_type": "code",
   "execution_count": 11,
   "metadata": {},
   "outputs": [
    {
     "name": "stdout",
     "output_type": "stream",
     "text": [
      "310171\n"
     ]
    }
   ],
   "source": [
    "APOGEE_all = Vizier(catalog=\"III/284/allstars\",row_limit=-1, #https://ui.adsabs.harvard.edu/?#abs/2020AJ....160..120J\n",
    "    columns=['*','_RAJ2000', '_DEJ2000','AName','Giant','Star']).query_constraints(Teff='>3000 & <10000',logg='>-1 & <7')[0]\n",
    "\n",
    "APOGEE = APOGEE_all['_RAJ2000','_DEJ2000','AName','Giant','Star','TClass','Teff','logg','s_HRV','errHRV'].to_pandas()\n",
    "\n",
    "APOGEE_STAR = APOGEE[(APOGEE.s_HRV <= 1) & (APOGEE.s_HRV <= 5*APOGEE.errHRV) & (APOGEE.Star == 1)].reset_index(drop=True)# & APOGEE.Teff.isnull() & (APOGEE.logg <= 7) & (APOGEE.logg >= -1) ]\n",
    "\n",
    "APOGEE_STAR['e_Pos'], APOGEE_STAR['Class'], APOGEE_STAR['ref'] = np.nan, 'LM-STAR', '2020AJ....160..120J'\n",
    "APOGEE_STAR = APOGEE_STAR.rename(columns={'AName':'name_cat','TClass':'SubClass'})\n",
    "APOGEE_STAR = APOGEE_STAR.replace('none', np.nan, regex=True)\n",
    "APOGEE_STAR = APOGEE_STAR.drop(columns=['Giant','Star','Teff','logg','s_HRV','errHRV'])\n",
    "print(len(APOGEE_STAR))"
   ]
  },
  {
   "cell_type": "code",
   "execution_count": null,
   "metadata": {},
   "outputs": [],
   "source": []
  },
  {
   "cell_type": "markdown",
   "metadata": {},
   "source": [
    "## WRs\n",
    "### HM-STARs from the VIIth Catalog of Galactic Wolf-Rayet Stars (van der Hucht 2001) and its annex catalog (van der Hucht 2006)"
   ]
  },
  {
   "cell_type": "code",
   "execution_count": 12,
   "metadata": {},
   "outputs": [
    {
     "name": "stdout",
     "output_type": "stream",
     "text": [
      "226\n"
     ]
    }
   ],
   "source": [
    "WRs1 = Vizier(catalog=\"III/215\",row_limit=-1, #https://ui.adsabs.harvard.edu/?#abs/2001NewAR..45..135V\n",
    "    columns=['*', '_RAJ2000', '_DEJ2000','OName']).query_constraints()[0]\n",
    "WRs1 = WRs1['_RAJ2000','_DEJ2000','Name','OName','Aname'].to_pandas()\n",
    "WRs1['Class'], WRs1['e_Pos'], WRs1['ref'], WRs1['SubClass'] = 'HM-STAR', np.nan, '2001NewAR..45..135V', np.nan#III/215\n",
    "WRs1 = WRs1.replace(r'^\\s*$', np.nan, regex=True)\n",
    "WRs1['name_cat'] = WRs1['Name'].combine_first(WRs1['OName'].combine_first(WRs1['Aname']))\n",
    "df_WRs1 = WRs1.drop(columns=['Name','OName','Aname'])\n",
    "print(len(df_WRs1))\n"
   ]
  },
  {
   "cell_type": "code",
   "execution_count": 13,
   "metadata": {},
   "outputs": [
    {
     "name": "stdout",
     "output_type": "stream",
     "text": [
      "118\n"
     ]
    }
   ],
   "source": [
    "WRs2 = Vizier(catalog=\"J/A+A/458/453/table1\",row_limit=-1, #https://ui.adsabs.harvard.edu/?#abs/2006A%26A...458..453V\n",
    "    columns=['*', '_RAJ2000', '_DEJ2000']).query_constraints()[0]\n",
    "WRs2 = WRs2['_RAJ2000','_DEJ2000','SpType','SpType0','SimbadName','WRori'].to_pandas()\n",
    "WRs2['Class'], WRs2['e_Pos'], WRs2['ref']= 'HM-STAR', np.nan, '2006A&A...458..453V'#J/A+A/458/453/table1\n",
    "WRs2 = WRs2.replace(r'^\\s*$', np.nan, regex=True)\n",
    "WRs2['name_cat'] = WRs2['SimbadName'].combine_first(WRs2['WRori'])\n",
    "WRs2['SubClass'] = WRs2['SpType'].combine_first(WRs2['SpType0'])\n",
    "df_WRs2 = WRs2.drop(columns=['SpType','SpType0','SimbadName','WRori'])\n",
    "print(len(df_WRs2))\n"
   ]
  },
  {
   "cell_type": "code",
   "execution_count": null,
   "metadata": {},
   "outputs": [],
   "source": []
  },
  {
   "cell_type": "markdown",
   "metadata": {},
   "source": [
    "# Quasars & AGNs \n",
    "### from Veron Catalog of Quasars & AGN 13th Edition (Veron-Cetty & Veron 2010)"
   ]
  },
  {
   "cell_type": "code",
   "execution_count": 14,
   "metadata": {},
   "outputs": [
    {
     "name": "stdout",
     "output_type": "stream",
     "text": [
      "168940 Counter({'Q': 133335, 'A': 34231, 'B': 1374})\n"
     ]
    }
   ],
   "source": [
    "AGNs = Vizier(catalog=\"VII/258/vv10\",row_limit=-1,#https://ui.adsabs.harvard.edu/?#abs/2010A%26A...518A..10V\n",
    "    columns=['*', '_RAJ2000', '_DEJ2000']).query_constraints(Cl='|Q|A|B')[0]\n",
    "AGNs = AGNs['_RAJ2000','_DEJ2000','Name','Cl'].to_pandas()\n",
    "AGNs['Class'], AGNs['e_Pos'], AGNs['ref']= 'AGN', np.nan, '2010A&A...518A..10V'#VII/258/vv10\n",
    "df_AGNs = AGNs.rename(columns={'Name':'name_cat','Cl':'SubClass'})\n",
    "\n",
    "print(len(df_AGNs), Counter(df_AGNs['SubClass']))"
   ]
  },
  {
   "cell_type": "code",
   "execution_count": null,
   "metadata": {},
   "outputs": [],
   "source": []
  },
  {
   "cell_type": "markdown",
   "metadata": {},
   "source": [
    "# HMXBs\n",
    "### from the Catalog of HMXBs in the Galaxy 4th Edition (Liu et al. 2006)"
   ]
  },
  {
   "cell_type": "code",
   "execution_count": 15,
   "metadata": {},
   "outputs": [
    {
     "name": "stdout",
     "output_type": "stream",
     "text": [
      "114\n"
     ]
    }
   ],
   "source": [
    "HMXBs = Vizier(catalog=\"J/A+A/455/1165/table1\",row_limit=-1, #https://ui.adsabs.harvard.edu/?#abs/2006A%26A...455.1165L\n",
    "    columns=['*', '_RAJ2000', '_DEJ2000']).query_constraints()[0]\n",
    "HMXBs = HMXBs['_RAJ2000','_DEJ2000','Name','Type'].to_pandas()\n",
    "HMXBs['Class'], HMXBs['e_Pos'], HMXBs['ref'] = 'HMXB', np.nan, '2006A&A...455.1165L'#J/A+A/455/1165/table1\n",
    "df_HMXBs = HMXBs.rename(columns={'Name':'name_cat','Type':'SubClass'})\n",
    "print(len(df_HMXBs))\n"
   ]
  },
  {
   "cell_type": "code",
   "execution_count": null,
   "metadata": {},
   "outputs": [],
   "source": []
  },
  {
   "cell_type": "markdown",
   "metadata": {},
   "source": [
    "# LMXBs\n",
    "### from the Low Mass X-ray Binary Catalog (Liu et al. 2007) and from the Catalog of CVs, LMXBs and related objects (Seventh edition) (Ritter & Kolb 2003)"
   ]
  },
  {
   "cell_type": "code",
   "execution_count": 16,
   "metadata": {},
   "outputs": [
    {
     "name": "stdout",
     "output_type": "stream",
     "text": [
      "187\n"
     ]
    }
   ],
   "source": [
    "LMXBs1 = Vizier(catalog=\"J/A+A/469/807\",row_limit=-1, #https://ui.adsabs.harvard.edu/?#abs/2007A%26A...469..807L\n",
    "    columns=['*', '_RAJ2000', '_DEJ2000']).query_constraints()[0]\n",
    "LMXBs1 = LMXBs1['_RAJ2000','_DEJ2000','Name','Type'].to_pandas()\n",
    "LMXBs1['Class'], LMXBs1['e_Pos'], LMXBs1['ref'] = 'LMXB', np.nan, '2007A&A...469..807L'#J/A+A/469/807\n",
    "df_LMXBs1 = LMXBs1.rename(columns={'Name':'name_cat','Type':'SubClass'})\n",
    "print(len(df_LMXBs1))\n"
   ]
  },
  {
   "cell_type": "code",
   "execution_count": 17,
   "metadata": {},
   "outputs": [
    {
     "name": "stdout",
     "output_type": "stream",
     "text": [
      "108\n"
     ]
    }
   ],
   "source": [
    "LMXBs2 = Vizier(catalog=\"B/cb/lmxbdata\",row_limit=-1, #https://ui.adsabs.harvard.edu/?#abs/2003A%26A...404..301R\n",
    "    columns=['*', '_RAJ2000', '_DEJ2000','epos']).query_constraints()[0]\n",
    "\n",
    "LMXBs2 = LMXBs2['_RAJ2000','_DEJ2000','epos','Name','Type1'].to_pandas()\n",
    "LMXBs2['Class'], LMXBs2['ref'] = 'LMXB', '2003A&A...404..301R' #B/cb/lmxbdata\n",
    "df_LMXBs2 = LMXBs2.rename(columns={'Name':'name_cat','Type1':'SubClass','epos':'e_Pos'})\n",
    "print(len(df_LMXBs2))\n"
   ]
  },
  {
   "cell_type": "code",
   "execution_count": null,
   "metadata": {},
   "outputs": [],
   "source": []
  },
  {
   "cell_type": "markdown",
   "metadata": {},
   "source": [
    "# CVs\n",
    "### from the Cataclysmic Variables Catalog 2006 Edition (Downes et al. 2001) and the Catalog of CVs, LMXBs and related objects (Seventh edition) (Ritter & Kolb 2003)"
   ]
  },
  {
   "cell_type": "code",
   "execution_count": 18,
   "metadata": {},
   "outputs": [
    {
     "name": "stdout",
     "output_type": "stream",
     "text": [
      "1618\n"
     ]
    }
   ],
   "source": [
    "CVs1 = Vizier(catalog=\"V/123A\",row_limit=-1, #https://ui.adsabs.harvard.edu/?#abs/2001PASP..113..764D\n",
    "    columns=['*', '_RAJ2000', '_DEJ2000']).query_constraints()[0]\n",
    "CVs1 = CVs1['_RAJ2000','_DEJ2000','Names','VarType'].to_pandas()\n",
    "CVs1['Class'], CVs1['e_Pos'], CVs1['ref'] = 'CV', np.nan, '2005JAD....11....2D'#'2001PASP..113..764D'#V/123A\n",
    "CVs1 = CVs1[CVs1['VarType']!='non-CV'].reset_index(drop=True)\n",
    "df_CVs1 = CVs1.rename(columns={'Names':'name_cat','VarType':'SubClass'})\n",
    "print(len(df_CVs1))\n"
   ]
  },
  {
   "cell_type": "code",
   "execution_count": 19,
   "metadata": {},
   "outputs": [
    {
     "name": "stdout",
     "output_type": "stream",
     "text": [
      "1429\n"
     ]
    }
   ],
   "source": [
    "CVs2 = Vizier(catalog=\"B/cb/cbdata\",row_limit=-1, #https://ui.adsabs.harvard.edu/?#abs/2003A%26A...404..301R\n",
    "    columns=['*', '_RAJ2000', '_DEJ2000','epos']).query_constraints()[0]\n",
    "CVs2 = CVs2['_RAJ2000','_DEJ2000','epos','Name','Type1'].to_pandas()\n",
    "CVs2['Class'], CVs2['ref'] = 'CV', '2003A&A...404..301R'#B/cb/cbdata\n",
    "df_CVs2 = CVs2.rename(columns={'Name':'name_cat','Type1':'SubClass','epos':'e_Pos'})\n",
    "print(len(df_CVs2))\n"
   ]
  },
  {
   "cell_type": "markdown",
   "metadata": {},
   "source": [
    "# NS & NS_BIN\n",
    "### from the ATNF Pulsar Catalog (Manchester et al. 2005)"
   ]
  },
  {
   "cell_type": "code",
   "execution_count": 20,
   "metadata": {},
   "outputs": [
    {
     "name": "stdout",
     "output_type": "stream",
     "text": [
      "3177 Counter({' ': 2844, 'ELL1': 143, 'BT': 107, 'DD': 39, 'DDH': 14, 'ELL1H': 10, 'BTX': 7, 'DDGR': 4, 'T2': 3, 'MSS': 3, 'DDS': 1, 'BT2P': 1, 'DDK': 1})\n",
      "             NAME Binary   Class\n",
      "6      J0023+0923   ELL1  NS_BIN\n",
      "60     J0101-6422     BT  NS_BIN\n",
      "313   J0737-3039B     DD  NS_BIN\n",
      "560    J1124-3653             NS\n",
      "644    J1231-1411     BT  NS_BIN\n",
      "714    J1311-3430   ELL1  NS_BIN\n",
      "921    J1514-4946   ELL1  NS_BIN\n",
      "984      B1534+12     DD  NS_BIN\n",
      "1107   J1614-2230  ELL1H  NS_BIN\n",
      "1172   J1628-3205     BT  NS_BIN\n",
      "1294   J1653-0158   ELL1  NS_BIN\n",
      "1494   J1731-1847    BTX  NS_BIN\n",
      "1836   J1810+1744     BT  NS_BIN\n",
      "1881   J1816+4510   ELL1  NS_BIN\n",
      "2545   J1909-3744   ELL1  NS_BIN\n",
      "2909     B1957+20     BT  NS_BIN\n",
      "2953   J2017+0603  ELL1H  NS_BIN\n",
      "3002   J2043+1711   ELL1  NS_BIN\n",
      "3013   J2047+1053     BT  NS_BIN\n",
      "3018   J2051-0827   ELL1  NS_BIN\n",
      "3100   J2214+3000   ELL1  NS_BIN\n",
      "3102   J2215+5135   ELL1  NS_BIN\n",
      "3106   J2222-0137     DD  NS_BIN\n",
      "3125   J2241-5236     BT  NS_BIN\n",
      "3133   J2256-1024    BTX  NS_BIN\n",
      "3167   J2339-0533   ELL1  NS_BIN\n",
      "3177\n",
      "3177 Counter({'NS': 2844, 'NS_BIN': 333})\n"
     ]
    }
   ],
   "source": [
    "import urllib3\n",
    "#https://ui.adsabs.harvard.edu/abs/2005AJ....129.1993M/abstract\n",
    "http = urllib3.PoolManager()\n",
    "r = http.request('GET', 'https://www.atnf.csiro.au/research/pulsar/psrcat/proc_form.php?version=1.65&Name=Name&RaJ=RaJ&DecJ=DecJ&Binary=Binary&Type=Type&startUserDefined=true&c1_val=&c2_val=&c3_val=&c4_val=&sort_attr=jname&sort_order=asc&condition=&pulsar_names=&ephemeris=short&coords_unit=raj%2Fdecj&radius=&coords_1=&coords_2=&style=Long+csv+with+errors&no_value=*&fsize=3&x_axis=&x_scale=linear&y_axis=&y_scale=linear&state=query&table_bottom.x=35&table_bottom.y=15') # it's a file like object and works just like a file\n",
    "r.status\n",
    "\n",
    "ATNF = r.data.decode('utf-8').partition('\\n<pre>\\n')[2].partition('\\n</pre>\\n')[0].replace('*',' ').split('\\n')\n",
    "NSs = pd.DataFrame(columns=['src', 'NAME','Name_ref','RAJ','e_RA','RAJ_ref','DECJ','e_DEC','DECJ_ref','Binary','Binary_ref','PSR_type','Type_ref'], \n",
    "                data=[row.split(';') for row in ATNF[2:]])\n",
    "\n",
    "NSs['_RAJ2000'] = NSs.apply(lambda row: atnf_pos(row.RAJ, row.e_RA, 'hms', 'pos'), axis=1)\n",
    "NSs['_e_RAJ2000'] = NSs.apply(lambda row: atnf_pos(row.RAJ, row.e_RA, 'hms', 'err'), axis=1)\n",
    "NSs['_DEJ2000'] = NSs.apply(lambda row: atnf_pos(row.DECJ, row.e_DEC, 'dms', 'pos'), axis=1)\n",
    "NSs['_e_DEJ2000'] = NSs.apply(lambda row: atnf_pos(row.DECJ, row.e_DEC, 'dms', 'err'), axis=1)\n",
    "NSs['e_Pos'] = NSs.apply(lambda row: max(row._e_RAJ2000 , row._e_DEJ2000), axis=1)\n",
    "\n",
    "\n",
    "# correcting the inaccurate coordinates of two NSs\n",
    "NSs.loc[NSs.NAME=='J1819-1458', '_RAJ2000'] = 274.8924\n",
    "NSs.loc[NSs.NAME=='J1819-1458', '_DEJ2000'] = -14.9676579999999\n",
    "NSs.loc[NSs.NAME=='J1741-2054', '_RAJ2000'] = 265.48868\n",
    "NSs.loc[NSs.NAME=='J1741-2054', '_DEJ2000'] = -20.903278\n",
    "\n",
    "# non-empty Binary column are binary non-accreting NSs (NS_BIN class) and share similar properties with LMXBs.\n",
    "NSs['ref']= '2005AJ....129.1993M'#B/psr/psr\n",
    "NSs['Class'] = 'NS_BIN'\n",
    "print(len(NSs),Counter(NSs['Binary']))\n",
    "NSs.loc[NSs['Binary']==' ', 'Class'] = 'NS'\n",
    "\n",
    "# adding a few new NSs and NS_BINs\n",
    "new_NS_BINs = pd.read_csv(f'{data_dir}/new_NS_BIN.csv')\n",
    "print(NSs.loc[NSs.NAME.isin(new_NS_BINs.name_cat.values), ['NAME','Binary','Class']])\n",
    "\n",
    "df_NSs = NSs[['NAME','_RAJ2000','_DEJ2000','e_Pos','Class','PSR_type','ref']].rename(columns={'NAME':'name_cat','PSR_type':'SubClass'})\n",
    "print(len(df_NSs))\n",
    "\n",
    "print(len(df_NSs),Counter(df_NSs['Class']))\n"
   ]
  },
  {
   "cell_type": "markdown",
   "metadata": {},
   "source": [
    "# HMXBs, LMXBs, and CVs from INTEGRAL General Reference Catalog (IGRS) and HMXBs from Be Star catalog"
   ]
  },
  {
   "cell_type": "code",
   "execution_count": 21,
   "metadata": {},
   "outputs": [
    {
     "name": "stdout",
     "output_type": "stream",
     "text": [
      "Counter({'HMXB': 55, 'LMXB': 8, 'CV': 5})\n"
     ]
    }
   ],
   "source": [
    "df_HMXB_Be = pd.read_csv(f'{data_dir}/raretype_BeStar_IGRS.csv')\n",
    "print(Counter(df_HMXB_Be['Class']))"
   ]
  },
  {
   "cell_type": "markdown",
   "metadata": {},
   "source": [
    "# Combining sources together"
   ]
  },
  {
   "cell_type": "code",
   "execution_count": 22,
   "metadata": {},
   "outputs": [],
   "source": [
    "df_TD = pd.concat([df_AGNs, df_YSOs, df_LMSTARs, APOGEE_STAR, df_HMSTARs, df_WRs1, df_WRs2, df_NSs, df_HMXBs, df_LMXBs1, df_LMXBs2, df_CVs1, df_CVs2, df_HMXB_Be], ignore_index=True, sort=False)"
   ]
  },
  {
   "cell_type": "code",
   "execution_count": 23,
   "metadata": {},
   "outputs": [
    {
     "data": {
      "text/html": [
       "<div>\n",
       "<style scoped>\n",
       "    .dataframe tbody tr th:only-of-type {\n",
       "        vertical-align: middle;\n",
       "    }\n",
       "\n",
       "    .dataframe tbody tr th {\n",
       "        vertical-align: top;\n",
       "    }\n",
       "\n",
       "    .dataframe thead th {\n",
       "        text-align: right;\n",
       "    }\n",
       "</style>\n",
       "<table border=\"1\" class=\"dataframe\">\n",
       "  <thead>\n",
       "    <tr style=\"text-align: right;\">\n",
       "      <th></th>\n",
       "      <th>_RAJ2000</th>\n",
       "      <th>_DEJ2000</th>\n",
       "      <th>name_cat</th>\n",
       "      <th>SubClass</th>\n",
       "      <th>Class</th>\n",
       "      <th>e_Pos</th>\n",
       "      <th>ref</th>\n",
       "    </tr>\n",
       "  </thead>\n",
       "  <tbody>\n",
       "    <tr>\n",
       "      <th>0</th>\n",
       "      <td>0.005417</td>\n",
       "      <td>-2.033333</td>\n",
       "      <td>FIRST J00000-0202</td>\n",
       "      <td>Q</td>\n",
       "      <td>AGN</td>\n",
       "      <td>NaN</td>\n",
       "      <td>2010A&amp;A...518A..10V</td>\n",
       "    </tr>\n",
       "    <tr>\n",
       "      <th>1</th>\n",
       "      <td>0.005833</td>\n",
       "      <td>-30.607500</td>\n",
       "      <td>2QZ J000001-3036</td>\n",
       "      <td>Q</td>\n",
       "      <td>AGN</td>\n",
       "      <td>NaN</td>\n",
       "      <td>2010A&amp;A...518A..10V</td>\n",
       "    </tr>\n",
       "    <tr>\n",
       "      <th>2</th>\n",
       "      <td>0.007083</td>\n",
       "      <td>-31.373889</td>\n",
       "      <td>2QZ J000001-3122</td>\n",
       "      <td>Q</td>\n",
       "      <td>AGN</td>\n",
       "      <td>NaN</td>\n",
       "      <td>2010A&amp;A...518A..10V</td>\n",
       "    </tr>\n",
       "    <tr>\n",
       "      <th>3</th>\n",
       "      <td>0.011250</td>\n",
       "      <td>-25.193611</td>\n",
       "      <td>XMM J00000-2511</td>\n",
       "      <td>Q</td>\n",
       "      <td>AGN</td>\n",
       "      <td>NaN</td>\n",
       "      <td>2010A&amp;A...518A..10V</td>\n",
       "    </tr>\n",
       "    <tr>\n",
       "      <th>4</th>\n",
       "      <td>0.011667</td>\n",
       "      <td>-35.059167</td>\n",
       "      <td>MS 23574-3520</td>\n",
       "      <td>Q</td>\n",
       "      <td>AGN</td>\n",
       "      <td>NaN</td>\n",
       "      <td>2010A&amp;A...518A..10V</td>\n",
       "    </tr>\n",
       "  </tbody>\n",
       "</table>\n",
       "</div>"
      ],
      "text/plain": [
       "   _RAJ2000   _DEJ2000           name_cat SubClass Class e_Pos  \\\n",
       "0  0.005417  -2.033333  FIRST J00000-0202        Q   AGN   NaN   \n",
       "1  0.005833 -30.607500   2QZ J000001-3036        Q   AGN   NaN   \n",
       "2  0.007083 -31.373889   2QZ J000001-3122        Q   AGN   NaN   \n",
       "3  0.011250 -25.193611    XMM J00000-2511        Q   AGN   NaN   \n",
       "4  0.011667 -35.059167      MS 23574-3520        Q   AGN   NaN   \n",
       "\n",
       "                   ref  \n",
       "0  2010A&A...518A..10V  \n",
       "1  2010A&A...518A..10V  \n",
       "2  2010A&A...518A..10V  \n",
       "3  2010A&A...518A..10V  \n",
       "4  2010A&A...518A..10V  "
      ]
     },
     "execution_count": 23,
     "metadata": {},
     "output_type": "execute_result"
    }
   ],
   "source": [
    "df_TD.head(5)"
   ]
  },
  {
   "cell_type": "code",
   "execution_count": 24,
   "metadata": {},
   "outputs": [
    {
     "name": "stdout",
     "output_type": "stream",
     "text": [
      "1003439 [('AGN', 168940), ('CV', 3052), ('HM-STAR', 62468), ('HMXB', 169), ('LM-STAR', 760395), ('LMXB', 303), ('NS', 2844), ('NS_BIN', 333), ('YSO', 4935)]\n"
     ]
    }
   ],
   "source": [
    "print(len(df_TD), sorted(Counter(df_TD['Class']).items()))\n"
   ]
  },
  {
   "cell_type": "code",
   "execution_count": 25,
   "metadata": {},
   "outputs": [
    {
     "name": "stdout",
     "output_type": "stream",
     "text": [
      "11331 [('AGN', 6174), ('CV', 342), ('HM-STAR', 895), ('HMXB', 77), ('LM-STAR', 1862), ('LMXB', 166), ('NS', 222), ('NS_BIN', 148), ('YSO', 1445)]\n"
     ]
    }
   ],
   "source": [
    "# matching with CSCv2 \n",
    "\n",
    "TD_CSC = XMatch.query(cat1= Table.from_pandas(df_TD), #open('/Users/yanghui/Desktop/Research/2019/MUWCLASS_Project/ML/DATA/TD/versions/CSC_TD_v5_09062021.csv'),\n",
    "                      cat2='vizier:IX/57/csc2master',\n",
    "                      max_distance=3*u.arcsec, colRA1='_RAJ2000',colDec1='_DEJ2000')\n",
    "\n",
    "TD_CSC = TD_CSC.to_pandas()\n",
    "print(len(TD_CSC), sorted(Counter(TD_CSC['Class']).items()))\n"
   ]
  },
  {
   "cell_type": "code",
   "execution_count": 26,
   "metadata": {},
   "outputs": [],
   "source": [
    "TD_CSC.head(5)\n",
    "\n",
    "TD_CSC.to_csv(f'{data_dir}/{field_name}_Xmatch_all.csv',index=False)\n",
    "\n"
   ]
  },
  {
   "cell_type": "code",
   "execution_count": 57,
   "metadata": {},
   "outputs": [
    {
     "name": "stdout",
     "output_type": "stream",
     "text": [
      "10723 [('AGN', 5978), ('CV', 275), ('HM-STAR', 767), ('HMXB', 68), ('LM-STAR', 1834), ('LMXB', 139), ('NS', 165), ('NS_BIN', 90), ('YSO', 1407)]\n"
     ]
    }
   ],
   "source": [
    "TD_CSC = pd.read_csv(f'{data_dir}/{field_name}_Xmatch_all.csv')\n",
    "\n",
    "# drop duplicated sources\n",
    "TD_CSC = TD_CSC.sort_values(by=['angDist']) \n",
    "TD_CSC = TD_CSC.drop_duplicates(subset=['_RAJ2000_1', '_DEJ2000_1', 'name_cat', 'SubClass', 'Class','e_Pos', 'ref']).reset_index(drop=True)\n",
    "\n",
    "print(len(TD_CSC), sorted(Counter(TD_CSC['Class']).items()))\n"
   ]
  },
  {
   "cell_type": "code",
   "execution_count": null,
   "metadata": {},
   "outputs": [],
   "source": []
  },
  {
   "cell_type": "code",
   "execution_count": 58,
   "metadata": {},
   "outputs": [
    {
     "name": "stdout",
     "output_type": "stream",
     "text": [
      "Remove 6440 [('AGN', 4485), ('HM-STAR', 364), ('LM-STAR', 1108), ('YSO', 483)]\n",
      "4283 [('AGN', 1493), ('CV', 275), ('HM-STAR', 403), ('HMXB', 68), ('LM-STAR', 726), ('LMXB', 139), ('NS', 165), ('NS_BIN', 90), ('YSO', 924)]\n"
     ]
    }
   ],
   "source": [
    "# calculate the combined positional uncertainties (PUs) from X-ray positions and class-specific catalog coordinates \n",
    "TD_CSC['PU'] = np.sqrt(TD_CSC.e_Pos.fillna(0)*2**2+TD_CSC.r0.fillna(0)**2)\n",
    "\n",
    "TD_CSC['name'] = TD_CSC.apply(lambda row: '2CXO '+str(row['2CXO']),axis=1)\n",
    "\n",
    "# Sources from populous classes (AGNs, HM-STARs, LM-STARs and YSOs) are omitted if their class-specific catalog \n",
    "# and X-ray combined 2-σ PUs are > 1\" or \n",
    "# if the separations of the class-specific catalog and the CSCv2 coordinates exceed the 2-σ PUs.\n",
    "\n",
    "idx = np.where( ((TD_CSC['angDist']>TD_CSC['PU']) | (TD_CSC['PU'] >1.) )& ((TD_CSC['Class']=='AGN') | (TD_CSC['Class']=='YSO') | (TD_CSC['Class']=='HM-STAR') | (TD_CSC['Class']=='LM-STAR') ))[0]\n",
    "print('Remove', len(idx), sorted(Counter(TD_CSC.loc[idx, 'Class']).items()))\n",
    "TD_CSC = TD_CSC.drop(TD_CSC.index[idx])\n",
    "TD_CSC = TD_CSC.reset_index(drop=True)\n",
    "print(len(TD_CSC), sorted(Counter(TD_CSC['Class']).items()))\n",
    "\n",
    "TD = TD_CSC.rename(columns={'_RAJ2000_1':'ra_cat','_DEJ2000_1':'dec_cat','angDist':'sep','RAICRS':'ra','DEICRS':'dec'})[['name_cat','ra_cat','dec_cat','e_Pos','Class','SubClass','ref','sep','name','ra','dec','r0','PU','S/N']].sort_values(by=['Class','ra']).reset_index(drop=True)\n",
    "\n",
    "\n",
    "TD['remove_code'] = 0\n",
    "\n"
   ]
  },
  {
   "cell_type": "code",
   "execution_count": 59,
   "metadata": {},
   "outputs": [
    {
     "name": "stdout",
     "output_type": "stream",
     "text": [
      "4105\n",
      "Index(['name_cat', 'ra_cat', 'dec_cat', 'e_Pos', 'Class', 'SubClass', 'ref',\n",
      "       'sep', 'name', 'ra', 'dec', 'r0', 'PU', 'S/N', 'remove_code',\n",
      "       '_r_simbad', 'main_id', 'ra_simbad', 'dec_simbad', 'coo_err_maj',\n",
      "       'coo_err_min', 'coo_err_angle', 'nbref', 'ra_sexa', 'dec_sexa',\n",
      "       'coo_qual', 'coo_bibcode', 'main_type', 'other_types', 'radvel',\n",
      "       'radvel_err', 'redshift', 'redshift_err', 'sp_type', 'morph_type',\n",
      "       'plx', 'plx_err', 'pmra', 'pmdec', 'pm_err_maj', 'pm_err_min',\n",
      "       'pm_err_pa', 'size_maj', 'size_min', 'size_angle', 'B', 'V', 'R', 'J',\n",
      "       'H'],\n",
      "      dtype='object')\n"
     ]
    }
   ],
   "source": [
    "# cross-matching to SIMBAD \n",
    "\n",
    "TD_simbad = XMatch.query(cat1=Table.from_pandas(TD),\n",
    "                         cat2='vizier:SIMBAD',max_distance=3 * u.arcsec, colRA1='ra',colDec1='dec')\n",
    "TD_simbad = TD_simbad.to_pandas().rename(columns={'ra_1':'ra', 'dec_1':'dec','ra_2':'ra_simbad', 'dec_2':'dec_simbad', 'angDist':'_r_simbad'}).sort_values(by=['_r_simbad']) \n",
    "TD_simbad = TD_simbad.drop_duplicates(subset=['name_cat','ra_cat','dec_cat','Class','name'], keep='first').reset_index(drop=True)\n",
    "print(len(TD_simbad))\n",
    "TD= pd.merge(TD, TD_simbad, how='outer', on = ['name_cat','ra_cat','dec_cat','e_Pos','Class','SubClass','ref', 'sep', 'name', 'ra', 'dec', 'r0','PU','S/N','remove_code'])\n",
    "\n",
    "TD.loc[TD.name_cat.isnull(), 'name_cat'] = TD.loc[TD.name_cat.isnull(), 'main_id']\n",
    "TD.loc[TD.name_cat.isnull(), 'name_cat'] = TD.loc[TD.name_cat.isnull(), 'name']\n",
    "print(TD.columns[:50])\n"
   ]
  },
  {
   "cell_type": "code",
   "execution_count": null,
   "metadata": {},
   "outputs": [],
   "source": []
  },
  {
   "cell_type": "code",
   "execution_count": 60,
   "metadata": {},
   "outputs": [
    {
     "name": "stdout",
     "output_type": "stream",
     "text": [
      "Converting [('HM-STAR', 91), ('LM-STAR', 291)] sources to YSOs.\n",
      "4283 [('AGN', 1493), ('CV', 275), ('HM-STAR', 312), ('HMXB', 68), ('LM-STAR', 435), ('LMXB', 139), ('NS', 165), ('NS_BIN', 90), ('YSO', 1306)]\n"
     ]
    }
   ],
   "source": [
    "## Re-assign those STARs which are actually YSOs \n",
    "\n",
    "## Some (LM- or HM-) STARs are YSOs and misclassfied as STARs, including those with their main type column \n",
    "## containing “Orion V” or “TTau” or “YSO”, or if their names containing “MBO 62”, \n",
    "## or if they are included in the catalog from CL Slesnick+2004 (which includes a list of candidate brown dwarf members of the Orion Nebula cluster).\n",
    "\n",
    "s = np.where(((TD['main_type'].str.contains('Orion_V*|TTau*|YSO')) & (TD['Class']!='YSO')) | (TD['name_cat'].isin(['MBO 62'])) | (TD['ref']=='2004ApJ...610.1045S') )[0] \n",
    "print(\"Converting\", sorted(Counter(TD['Class'][s]).items()), \"sources to YSOs.\")\n",
    "TD.loc[s, 'Class'] = 'YSO'\n",
    "print(len(TD), sorted(Counter(TD['Class']).items()))\n"
   ]
  },
  {
   "cell_type": "markdown",
   "metadata": {},
   "source": [
    "### a few sources are misclassified after manual investigation of rare type sources"
   ]
  },
  {
   "cell_type": "code",
   "execution_count": 61,
   "metadata": {},
   "outputs": [
    {
     "name": "stdout",
     "output_type": "stream",
     "text": [
      "           name_cat   Class\n",
      "2225  XTE J1858+034    HMXB\n",
      "3152     J1124-3653      NS\n",
      "3287    J0737-3039B  NS_BIN\n",
      "3292       B1259-63  NS_BIN\n",
      "3297       B1534+12  NS_BIN\n",
      "3349     J2032+4127  NS_BIN\n",
      "           name_cat   Class\n",
      "2225  XTE J1858+034    LMXB\n",
      "3152     J1124-3653  NS_BIN\n",
      "3287    J0737-3039B      NS\n",
      "3292       B1259-63    HMXB\n",
      "3297       B1534+12      NS\n",
      "3349     J2032+4127    HMXB\n"
     ]
    }
   ],
   "source": [
    "print(TD.loc[TD.name_cat.isin(['B1259-63','J1124-3653','J2032+4127','XTE J1858+034','J0737-3039B','B1534+12']), ['name_cat','Class']])\n",
    "\n",
    "TD.loc[TD.name_cat=='B1259-63', 'Class'] = 'HMXB'\n",
    "TD.loc[TD.name_cat=='J1124-3653', 'Class'] = 'NS_BIN'\n",
    "TD.loc[TD.name_cat=='J2032+4127', 'Class'] = 'HMXB'\n",
    "TD.loc[TD.name_cat=='XTE J1858+034', 'Class'] = 'LMXB'\n",
    "\n",
    "double_NSs = ['J0737-3039B', 'B1534+12']\n",
    "TD.loc[TD.name_cat.isin(double_NSs), 'Class'] = 'NS'\n",
    "\n",
    "print(TD.loc[TD.name_cat.isin(['B1259-63','J1124-3653','J2032+4127','XTE J1858+034','J0737-3039B','B1534+12']), ['name_cat','Class']])"
   ]
  },
  {
   "cell_type": "markdown",
   "metadata": {},
   "source": [
    "### removing duplicated CSCv2 sources (remove code=2)"
   ]
  },
  {
   "cell_type": "code",
   "execution_count": 62,
   "metadata": {
    "scrolled": false
   },
   "outputs": [
    {
     "name": "stdout",
     "output_type": "stream",
     "text": [
      "remove code = 2 duplicate CSC sources\n",
      "Remove 609 [('CV', 78), ('HM-STAR', 156), ('HMXB', 9), ('LM-STAR', 113), ('LMXB', 44), ('NS', 32), ('NS_BIN', 35), ('YSO', 142)]\n",
      "Left 3674 [('AGN', 1493), ('CV', 197), ('HM-STAR', 156), ('HMXB', 60), ('LM-STAR', 322), ('LMXB', 96), ('NS', 134), ('NS_BIN', 52), ('YSO', 1164)]\n"
     ]
    }
   ],
   "source": [
    "\n",
    "# X-ray sources are removed if they are matched to multiple literature verified sources (LVSs):\n",
    "# 1. if different LVSs with the same classification are matched the same CSCv2 source, the nearest LVS is remained. \n",
    "# 2. if CSCv2 sources are matched to LVSs with different classifications, the X-ray sources will be removed. \n",
    "print(\"remove code = 2 duplicate CSC sources\")\n",
    "\n",
    "TD_dup = TD[TD.duplicated(subset=['name'], keep=False)].sort_values(by=['name'])\n",
    "\n",
    "\n",
    "s_all = []\n",
    "for name in TD_dup.name.unique():\n",
    "    df_s = TD[TD['name']==name]\n",
    "    df_s = df_s.reset_index(drop=True)\n",
    "    if len(df_s['Class'].unique()) >1:\n",
    "        s = np.where(TD['name']==name)[0]\n",
    "        s_all = np.append(s_all, s)\n",
    "    else:\n",
    "        \n",
    "        sep_min = min(df_s['sep'])\n",
    "        s_src = np.where(TD['name']==name)[0]\n",
    "        s_min = np.where( (TD['name']==name) & (TD['sep']==sep_min))[0]\n",
    "        \n",
    "        if len(s_min)>1:\n",
    "            s_all = np.append(s_all, list(set(s_src) - set([s_min[0]])))\n",
    "        else:\n",
    "            s_all = np.append(s_all, list(set(s_src) - set(s_min)))\n",
    "        \n",
    "\n",
    "TD.loc[s_all, 'remove_code'] = TD.loc[s_all, 'remove_code']+2\n",
    "print('Remove', len(s_all), sorted(Counter(TD.loc[s_all, 'Class']).items()))\n",
    "print('Left', len(TD[TD['remove_code']==0]), sorted(Counter(TD[TD['remove_code']==0]['Class']).items()))\n",
    "\n"
   ]
  },
  {
   "cell_type": "code",
   "execution_count": null,
   "metadata": {},
   "outputs": [],
   "source": []
  },
  {
   "cell_type": "code",
   "execution_count": 63,
   "metadata": {},
   "outputs": [
    {
     "name": "stdout",
     "output_type": "stream",
     "text": [
      "remove_code = 4: sources in crowded/complex environments\n",
      "0.42588257789611816\n"
     ]
    }
   ],
   "source": [
    "print(\"remove_code = 4: sources in crowded/complex environments\")\n",
    "\n",
    "# removing sources from the globular clusters from Kharchenko, N. V et al. 2013\n",
    "viz = Vizier(row_limit=-1,  timeout=5000, columns=[\"**\", \"+_r\"], catalog=\"J/A+A/558/A53/catalog\",column_filters={\"Type\":\"g\"},)\n",
    "\n",
    "radec = [[TD.loc[i, 'ra'], TD.loc[i, 'dec']] for i in range(len(TD))]\n",
    "rd = Table(Angle(radec, 'deg'), names=('_RAJ2000', '_DEJ2000'))\n",
    "\n",
    "start = time.time()\n",
    "query_res = viz.query_region(rd, radius=1.*u.deg)[0]\n",
    "df_gc = query_res.to_pandas()\n",
    "df_gc = df_gc[df_gc._r < df_gc.r2].reset_index(drop=True)\n",
    "df_gc['_q_index'] = df_gc['_q']-1\n",
    "end = time.time() \n",
    "print(end - start)\n",
    "\n",
    "TD['remove_4'] = 0\n",
    "TD.loc[TD.index.isin(df_gc._q_index), 'remove_4'] = TD.loc[TD.index.isin(df_gc._q_index), 'remove_4'] +1\n"
   ]
  },
  {
   "cell_type": "code",
   "execution_count": null,
   "metadata": {},
   "outputs": [],
   "source": []
  },
  {
   "cell_type": "code",
   "execution_count": 64,
   "metadata": {},
   "outputs": [],
   "source": [
    "# calculate Galactic coordinates\n",
    "\n",
    "TD['Gal_Long'] = TD.apply(lambda row: SkyCoord(ra=row.ra*u.degree, dec=row.dec*u.degree, frame='icrs').galactic.l.degree, axis=1)\n",
    "\n",
    "TD['Gal_Lat'] =  TD.apply(lambda row: SkyCoord(ra=row.ra*u.degree, dec=row.dec*u.degree, frame='icrs').galactic.b.degree, axis=1)\n"
   ]
  },
  {
   "cell_type": "code",
   "execution_count": 65,
   "metadata": {},
   "outputs": [
    {
     "name": "stdout",
     "output_type": "stream",
     "text": [
      "Remove 659 [('AGN', 9), ('CV', 181), ('HM-STAR', 67), ('HMXB', 15), ('LM-STAR', 79), ('LMXB', 55), ('NS', 64), ('NS_BIN', 59), ('YSO', 130)]\n",
      "Left 3216 [('AGN', 1484), ('CV', 58), ('HM-STAR', 121), ('HMXB', 45), ('LM-STAR', 265), ('LMXB', 58), ('NS', 101), ('NS_BIN', 25), ('YSO', 1059)]\n"
     ]
    }
   ],
   "source": [
    "# removing sources from a list of crowded environments  \n",
    "\n",
    "#          LMC,      SMC,  Westerlund 1, M31, NGC 300, NGC 3379, Liller 1,NGC 6791, M 27/NGC 6853, Circinus Galaxy, NGC 2264, IC 348, NGC 1333      \n",
    "re_ras =[80.89375, 13.1867, 251.76667,10.68458,13.7229,161.95666,263.3520,290.22083,299.901417, 213.29125,        100.25,  56.13833, 52.2971]\n",
    "re_decs=[-69.75611,-72.8286,-45.85136,41.26916,-37.6844,12.58163,-33.3889,37.771667,22.721136, -65.339167,        9.8833,  32.16333, 31.31]\n",
    "re_rs  =[10.75,    5.33,    3./60,    1.,      0.17,     0.04,   0.003,   16./60,  8./60,     6.9/60,             45./60,  42./60,   6./60]\n",
    "\n",
    "for ra, dec, r in zip(re_ras, re_decs, re_rs):\n",
    "    #print(ra, dec, r)\n",
    "    TD['remove_4'] = TD.apply(lambda row: row.remove_4 +1 if SkyCoord(row.ra*u.deg, row.dec*u.deg, frame='icrs').separation(SkyCoord(ra*u.deg, dec*u.deg, frame='icrs')).deg < r else row.remove_4,axis=1)\n",
    "\n",
    "# removing sources from the crowded Galactic Center\n",
    "idx = np.where(((TD.Gal_Long > 350.) | (TD.Gal_Long < 10.)) & (TD.Gal_Lat>-5.) & (TD.Gal_Lat<5.))[0]# & (TD.Class!='LM-STAR'))[0]\n",
    "TD.loc[idx, 'remove_4'] = TD.loc[idx, 'remove_4']+1\n",
    "\n",
    "idx = np.where((TD['name'].str.strip().str[-1].str.isalpha()) & (~TD['name'].isin(['2CXO J043715.9-471509X'])))[0]\n",
    "TD.loc[idx, 'remove_4'] = TD.loc[idx, 'remove_4'] + 1\n",
    "\n",
    "# drop sources (mostly NSs) in complex exvironment, in bright PWNe \n",
    "SN_delete = ['2CXO J151355.6-590809','2CXO J174715.8-295801','2CXO J183333.5-103407','2CXO J053747.4-691019','2CXO J083520.6-451034','2CXO J195258.2+325240','2CXO J054010.8-691954','2CXO J090835.4-491305','2CXO J180150.6-085733','2CXO J184343.3-040805','2CXO J102347.6+003840','2CXO J174615.5-321400','2CXO J163905.4-464212']\n",
    "\n",
    "# LMXBs and HMXBs that appeared in the previous TD and most of them are in the crowded environment but since they appeared in the \n",
    "# previous TD so they have gone through manual investigation so should be fine to add\n",
    "LMXBs_HMXBs_save = ['2CXO J174819.2-360716', '2CXO J180632.1-221417', '2CXO J181044.4-260901', '2CXO J174502.3-285449', \n",
    "              '2CXO J174702.5-285259', '2CXO J173413.4-260518', '2CXO J174931.7-280805', '2CXO J173953.9-282946',\n",
    "              '2CXO J174433.0-284426', '2CXO J174354.8-294443',  '2CXO J171419.7-340246','2CXO J174451.1-292116', \n",
    "              '2CXO J181921.6-252425', '2CXO J174621.1-284343', # LMXB so far\n",
    "              '2CXO J173527.5-325554', '2CXO J175834.5-212321', '2CXO J174445.7-271344'] # HMXBs\n",
    "\n",
    "\n",
    "s = np.where(((TD['remove_4']>0) | (TD.name.isin(SN_delete))) & (~TD.name.isin(LMXBs_HMXBs_save)) )[0]\n",
    "TD.loc[s, 'remove_code'] = TD.loc[s, 'remove_code'] + 4\n",
    "\n",
    "print('Remove', len(s), sorted(Counter(TD.loc[s, 'Class']).items()))\n",
    "print('Left', len(TD[TD['remove_code']==0]), sorted(Counter(TD[TD['remove_code']==0]['Class']).items()))\n",
    "\n"
   ]
  },
  {
   "cell_type": "code",
   "execution_count": null,
   "metadata": {},
   "outputs": [],
   "source": []
  },
  {
   "cell_type": "code",
   "execution_count": 66,
   "metadata": {},
   "outputs": [
    {
     "name": "stdout",
     "output_type": "stream",
     "text": [
      "remove_code = 8: delete sources with ambiguous classifications\n",
      "Remove 13 [('CV', 1), ('HM-STAR', 3), ('HMXB', 1), ('LM-STAR', 3), ('LMXB', 2), ('YSO', 3)]\n",
      "Left 3207 [('AGN', 1484), ('CV', 57), ('HM-STAR', 120), ('HMXB', 44), ('LM-STAR', 263), ('LMXB', 56), ('NS', 101), ('NS_BIN', 25), ('YSO', 1057)]\n"
     ]
    }
   ],
   "source": [
    "print(\"remove_code = 8: delete sources with ambiguous classifications\")\n",
    "\n",
    "src_delete = ['[DWS84] 20', 'HD 38563 C', '[RHI84] 10- 632', '[HC2000] 114','[CHG2008] C2-18','Cl* NGC 2244 John 14','V* V2361 Ori','V* V1129 Cen','HD 35914','M 51 X-7','1E 161348-5055.1','XTE J1829-098']\n",
    "\n",
    "s = np.where( (TD['name_cat'].isin(src_delete)) | (TD['main_type'] == 'Candidate_YSO'))[0]\n",
    "TD.loc[s, 'remove_code'] = TD.loc[s, 'remove_code'] + 8\n",
    "\n",
    "print('Remove', len(s), sorted(Counter(TD.loc[s, 'Class']).items()))\n",
    "print('Left', len(TD[TD['remove_code']==0]), sorted(Counter(TD[TD['remove_code']==0]['Class']).items()))\n"
   ]
  },
  {
   "cell_type": "code",
   "execution_count": 67,
   "metadata": {},
   "outputs": [],
   "source": [
    "TD.to_csv(f'{data_dir}/{field_name}.csv',index=False)"
   ]
  },
  {
   "cell_type": "code",
   "execution_count": 4,
   "metadata": {},
   "outputs": [],
   "source": [
    "TD = pd.read_csv(f'{data_dir}/{field_name}.csv')\n",
    "TD = TD[TD['remove_code']==0].reset_index(drop=True)"
   ]
  },
  {
   "cell_type": "code",
   "execution_count": 5,
   "metadata": {},
   "outputs": [
    {
     "name": "stdout",
     "output_type": "stream",
     "text": [
      "3207 Counter({'AGN': 1484, 'YSO': 1057, 'LM-STAR': 263, 'HM-STAR': 120, 'NS': 101, 'CV': 57, 'LMXB': 56, 'HMXB': 44, 'NS_BIN': 25})\n"
     ]
    }
   ],
   "source": [
    "\n",
    "print(len(TD),Counter(TD.Class))\n",
    "\n"
   ]
  },
  {
   "cell_type": "code",
   "execution_count": 6,
   "metadata": {},
   "outputs": [
    {
     "data": {
      "text/plain": [
       "Index(['name_cat', 'ra_cat', 'dec_cat', 'e_Pos', 'Class', 'SubClass', 'ref',\n",
       "       'sep', 'name', 'ra', 'dec', 'r0', 'PU', 'S/N', 'remove_code',\n",
       "       '_r_simbad', 'main_id', 'ra_simbad', 'dec_simbad', 'coo_err_maj',\n",
       "       'coo_err_min', 'coo_err_angle', 'nbref', 'ra_sexa', 'dec_sexa',\n",
       "       'coo_qual', 'coo_bibcode', 'main_type', 'other_types', 'radvel',\n",
       "       'radvel_err', 'redshift', 'redshift_err', 'sp_type', 'morph_type',\n",
       "       'plx', 'plx_err', 'pmra', 'pmdec', 'pm_err_maj', 'pm_err_min',\n",
       "       'pm_err_pa', 'size_maj', 'size_min', 'size_angle', 'B', 'V', 'R', 'J',\n",
       "       'H', 'K', 'u', 'g', 'r', 'i', 'z', 'remove_4', 'Gal_Long', 'Gal_Lat'],\n",
       "      dtype='object')"
      ]
     },
     "execution_count": 6,
     "metadata": {},
     "output_type": "execute_result"
    }
   ],
   "source": [
    "TD.columns"
   ]
  },
  {
   "cell_type": "code",
   "execution_count": 7,
   "metadata": {},
   "outputs": [
    {
     "data": {
      "text/html": [
       "<div>\n",
       "<style scoped>\n",
       "    .dataframe tbody tr th:only-of-type {\n",
       "        vertical-align: middle;\n",
       "    }\n",
       "\n",
       "    .dataframe tbody tr th {\n",
       "        vertical-align: top;\n",
       "    }\n",
       "\n",
       "    .dataframe thead th {\n",
       "        text-align: right;\n",
       "    }\n",
       "</style>\n",
       "<table border=\"1\" class=\"dataframe\">\n",
       "  <thead>\n",
       "    <tr style=\"text-align: right;\">\n",
       "      <th></th>\n",
       "      <th>name_cat</th>\n",
       "      <th>ra_cat</th>\n",
       "      <th>dec_cat</th>\n",
       "      <th>e_Pos</th>\n",
       "      <th>Class</th>\n",
       "      <th>SubClass</th>\n",
       "      <th>ref</th>\n",
       "      <th>sep</th>\n",
       "      <th>name</th>\n",
       "      <th>ra</th>\n",
       "      <th>...</th>\n",
       "      <th>H</th>\n",
       "      <th>K</th>\n",
       "      <th>u</th>\n",
       "      <th>g</th>\n",
       "      <th>r</th>\n",
       "      <th>i</th>\n",
       "      <th>z</th>\n",
       "      <th>remove_4</th>\n",
       "      <th>Gal_Long</th>\n",
       "      <th>Gal_Lat</th>\n",
       "    </tr>\n",
       "  </thead>\n",
       "  <tbody>\n",
       "    <tr>\n",
       "      <th>0</th>\n",
       "      <td>SDSS J00001+1356</td>\n",
       "      <td>0.039167</td>\n",
       "      <td>13.938333</td>\n",
       "      <td>NaN</td>\n",
       "      <td>AGN</td>\n",
       "      <td>Q</td>\n",
       "      <td>2010A&amp;A...518A..10V</td>\n",
       "      <td>0.604358</td>\n",
       "      <td>2CXO J000009.3+135618</td>\n",
       "      <td>0.039115</td>\n",
       "      <td>...</td>\n",
       "      <td>18.206</td>\n",
       "      <td>18.183</td>\n",
       "      <td>19.238</td>\n",
       "      <td>18.895</td>\n",
       "      <td>18.439</td>\n",
       "      <td>18.314</td>\n",
       "      <td>18.101</td>\n",
       "      <td>0</td>\n",
       "      <td>104.492215</td>\n",
       "      <td>-47.088916</td>\n",
       "    </tr>\n",
       "    <tr>\n",
       "      <th>16</th>\n",
       "      <td>UM 245</td>\n",
       "      <td>6.890833</td>\n",
       "      <td>-1.581111</td>\n",
       "      <td>NaN</td>\n",
       "      <td>AGN</td>\n",
       "      <td>Q</td>\n",
       "      <td>2010A&amp;A...518A..10V</td>\n",
       "      <td>0.585460</td>\n",
       "      <td>2CXO J002733.7-013452</td>\n",
       "      <td>6.890816</td>\n",
       "      <td>...</td>\n",
       "      <td>15.736</td>\n",
       "      <td>14.942</td>\n",
       "      <td>NaN</td>\n",
       "      <td>NaN</td>\n",
       "      <td>NaN</td>\n",
       "      <td>NaN</td>\n",
       "      <td>NaN</td>\n",
       "      <td>0</td>\n",
       "      <td>109.305155</td>\n",
       "      <td>-63.819570</td>\n",
       "    </tr>\n",
       "    <tr>\n",
       "      <th>24</th>\n",
       "      <td>XMM J00335-4320</td>\n",
       "      <td>8.383750</td>\n",
       "      <td>-43.335556</td>\n",
       "      <td>NaN</td>\n",
       "      <td>AGN</td>\n",
       "      <td>A</td>\n",
       "      <td>2010A&amp;A...518A..10V</td>\n",
       "      <td>0.587811</td>\n",
       "      <td>2CXO J003332.0-432007</td>\n",
       "      <td>8.383530</td>\n",
       "      <td>...</td>\n",
       "      <td>NaN</td>\n",
       "      <td>NaN</td>\n",
       "      <td>NaN</td>\n",
       "      <td>NaN</td>\n",
       "      <td>NaN</td>\n",
       "      <td>NaN</td>\n",
       "      <td>NaN</td>\n",
       "      <td>0</td>\n",
       "      <td>314.386874</td>\n",
       "      <td>-73.392273</td>\n",
       "    </tr>\n",
       "    <tr>\n",
       "      <th>25</th>\n",
       "      <td>XMM J00335-4322</td>\n",
       "      <td>8.392917</td>\n",
       "      <td>-43.372500</td>\n",
       "      <td>NaN</td>\n",
       "      <td>AGN</td>\n",
       "      <td>A</td>\n",
       "      <td>2010A&amp;A...518A..10V</td>\n",
       "      <td>0.380255</td>\n",
       "      <td>2CXO J003334.3-432220</td>\n",
       "      <td>8.392976</td>\n",
       "      <td>...</td>\n",
       "      <td>NaN</td>\n",
       "      <td>NaN</td>\n",
       "      <td>NaN</td>\n",
       "      <td>NaN</td>\n",
       "      <td>NaN</td>\n",
       "      <td>NaN</td>\n",
       "      <td>NaN</td>\n",
       "      <td>0</td>\n",
       "      <td>314.332323</td>\n",
       "      <td>-73.358159</td>\n",
       "    </tr>\n",
       "    <tr>\n",
       "      <th>27</th>\n",
       "      <td>XMM J00338-4321</td>\n",
       "      <td>8.473333</td>\n",
       "      <td>-43.357778</td>\n",
       "      <td>NaN</td>\n",
       "      <td>AGN</td>\n",
       "      <td>A</td>\n",
       "      <td>2010A&amp;A...518A..10V</td>\n",
       "      <td>0.525442</td>\n",
       "      <td>2CXO J003353.5-432127</td>\n",
       "      <td>8.473139</td>\n",
       "      <td>...</td>\n",
       "      <td>NaN</td>\n",
       "      <td>NaN</td>\n",
       "      <td>NaN</td>\n",
       "      <td>NaN</td>\n",
       "      <td>NaN</td>\n",
       "      <td>NaN</td>\n",
       "      <td>NaN</td>\n",
       "      <td>0</td>\n",
       "      <td>314.146917</td>\n",
       "      <td>-73.386381</td>\n",
       "    </tr>\n",
       "    <tr>\n",
       "      <th>...</th>\n",
       "      <td>...</td>\n",
       "      <td>...</td>\n",
       "      <td>...</td>\n",
       "      <td>...</td>\n",
       "      <td>...</td>\n",
       "      <td>...</td>\n",
       "      <td>...</td>\n",
       "      <td>...</td>\n",
       "      <td>...</td>\n",
       "      <td>...</td>\n",
       "      <td>...</td>\n",
       "      <td>...</td>\n",
       "      <td>...</td>\n",
       "      <td>...</td>\n",
       "      <td>...</td>\n",
       "      <td>...</td>\n",
       "      <td>...</td>\n",
       "      <td>...</td>\n",
       "      <td>...</td>\n",
       "      <td>...</td>\n",
       "      <td>...</td>\n",
       "    </tr>\n",
       "    <tr>\n",
       "      <th>3143</th>\n",
       "      <td>2MASS J10453801-6012319</td>\n",
       "      <td>161.408375</td>\n",
       "      <td>-60.208917</td>\n",
       "      <td>NaN</td>\n",
       "      <td>YSO</td>\n",
       "      <td>II</td>\n",
       "      <td>2011ApJS..194...14P</td>\n",
       "      <td>0.366272</td>\n",
       "      <td>2CXO J104538.0-601232</td>\n",
       "      <td>161.408496</td>\n",
       "      <td>...</td>\n",
       "      <td>14.295</td>\n",
       "      <td>13.514</td>\n",
       "      <td>NaN</td>\n",
       "      <td>NaN</td>\n",
       "      <td>NaN</td>\n",
       "      <td>NaN</td>\n",
       "      <td>NaN</td>\n",
       "      <td>0</td>\n",
       "      <td>287.904649</td>\n",
       "      <td>-1.060318</td>\n",
       "    </tr>\n",
       "    <tr>\n",
       "      <th>3150</th>\n",
       "      <td>2MASS J10455662-5958388</td>\n",
       "      <td>161.485917</td>\n",
       "      <td>-59.977444</td>\n",
       "      <td>NaN</td>\n",
       "      <td>YSO</td>\n",
       "      <td>II</td>\n",
       "      <td>2011ApJS..194...14P</td>\n",
       "      <td>0.280492</td>\n",
       "      <td>2CXO J104556.5-595838</td>\n",
       "      <td>161.485764</td>\n",
       "      <td>...</td>\n",
       "      <td>11.860</td>\n",
       "      <td>11.462</td>\n",
       "      <td>NaN</td>\n",
       "      <td>NaN</td>\n",
       "      <td>NaN</td>\n",
       "      <td>NaN</td>\n",
       "      <td>NaN</td>\n",
       "      <td>0</td>\n",
       "      <td>287.831353</td>\n",
       "      <td>-0.837331</td>\n",
       "    </tr>\n",
       "    <tr>\n",
       "      <th>3155</th>\n",
       "      <td>2MASS J10460614-5958094</td>\n",
       "      <td>161.525458</td>\n",
       "      <td>-59.969278</td>\n",
       "      <td>NaN</td>\n",
       "      <td>YSO</td>\n",
       "      <td>II</td>\n",
       "      <td>2011ApJS..194...14P</td>\n",
       "      <td>0.299267</td>\n",
       "      <td>2CXO J104606.1-595809</td>\n",
       "      <td>161.525555</td>\n",
       "      <td>...</td>\n",
       "      <td>11.786</td>\n",
       "      <td>11.315</td>\n",
       "      <td>NaN</td>\n",
       "      <td>NaN</td>\n",
       "      <td>NaN</td>\n",
       "      <td>NaN</td>\n",
       "      <td>NaN</td>\n",
       "      <td>0</td>\n",
       "      <td>287.845243</td>\n",
       "      <td>-0.820917</td>\n",
       "    </tr>\n",
       "    <tr>\n",
       "      <th>3168</th>\n",
       "      <td>2MASS J10483627-6014086</td>\n",
       "      <td>162.151125</td>\n",
       "      <td>-60.235722</td>\n",
       "      <td>NaN</td>\n",
       "      <td>YSO</td>\n",
       "      <td>0/I</td>\n",
       "      <td>2011ApJS..194...14P</td>\n",
       "      <td>0.459962</td>\n",
       "      <td>2CXO J104836.2-601408</td>\n",
       "      <td>162.150868</td>\n",
       "      <td>...</td>\n",
       "      <td>15.196</td>\n",
       "      <td>14.411</td>\n",
       "      <td>NaN</td>\n",
       "      <td>NaN</td>\n",
       "      <td>NaN</td>\n",
       "      <td>NaN</td>\n",
       "      <td>NaN</td>\n",
       "      <td>0</td>\n",
       "      <td>288.244440</td>\n",
       "      <td>-0.914645</td>\n",
       "    </tr>\n",
       "    <tr>\n",
       "      <th>3178</th>\n",
       "      <td>2MASS J18295118+0113196</td>\n",
       "      <td>277.463333</td>\n",
       "      <td>1.222222</td>\n",
       "      <td>NaN</td>\n",
       "      <td>YSO</td>\n",
       "      <td>II</td>\n",
       "      <td>2007A&amp;A...463..275G</td>\n",
       "      <td>0.574962</td>\n",
       "      <td>2CXO J182951.1+011319</td>\n",
       "      <td>277.463284</td>\n",
       "      <td>...</td>\n",
       "      <td>14.512</td>\n",
       "      <td>13.601</td>\n",
       "      <td>NaN</td>\n",
       "      <td>NaN</td>\n",
       "      <td>NaN</td>\n",
       "      <td>NaN</td>\n",
       "      <td>NaN</td>\n",
       "      <td>0</td>\n",
       "      <td>31.556946</td>\n",
       "      <td>5.359374</td>\n",
       "    </tr>\n",
       "  </tbody>\n",
       "</table>\n",
       "<p>164 rows × 59 columns</p>\n",
       "</div>"
      ],
      "text/plain": [
       "                     name_cat      ra_cat    dec_cat  e_Pos Class SubClass  \\\n",
       "0            SDSS J00001+1356    0.039167  13.938333    NaN   AGN        Q   \n",
       "16                     UM 245    6.890833  -1.581111    NaN   AGN        Q   \n",
       "24            XMM J00335-4320    8.383750 -43.335556    NaN   AGN        A   \n",
       "25            XMM J00335-4322    8.392917 -43.372500    NaN   AGN        A   \n",
       "27            XMM J00338-4321    8.473333 -43.357778    NaN   AGN        A   \n",
       "...                       ...         ...        ...    ...   ...      ...   \n",
       "3143  2MASS J10453801-6012319  161.408375 -60.208917    NaN   YSO       II   \n",
       "3150  2MASS J10455662-5958388  161.485917 -59.977444    NaN   YSO       II   \n",
       "3155  2MASS J10460614-5958094  161.525458 -59.969278    NaN   YSO       II   \n",
       "3168  2MASS J10483627-6014086  162.151125 -60.235722    NaN   YSO      0/I   \n",
       "3178  2MASS J18295118+0113196  277.463333   1.222222    NaN   YSO       II   \n",
       "\n",
       "                      ref       sep                   name          ra  ...  \\\n",
       "0     2010A&A...518A..10V  0.604358  2CXO J000009.3+135618    0.039115  ...   \n",
       "16    2010A&A...518A..10V  0.585460  2CXO J002733.7-013452    6.890816  ...   \n",
       "24    2010A&A...518A..10V  0.587811  2CXO J003332.0-432007    8.383530  ...   \n",
       "25    2010A&A...518A..10V  0.380255  2CXO J003334.3-432220    8.392976  ...   \n",
       "27    2010A&A...518A..10V  0.525442  2CXO J003353.5-432127    8.473139  ...   \n",
       "...                   ...       ...                    ...         ...  ...   \n",
       "3143  2011ApJS..194...14P  0.366272  2CXO J104538.0-601232  161.408496  ...   \n",
       "3150  2011ApJS..194...14P  0.280492  2CXO J104556.5-595838  161.485764  ...   \n",
       "3155  2011ApJS..194...14P  0.299267  2CXO J104606.1-595809  161.525555  ...   \n",
       "3168  2011ApJS..194...14P  0.459962  2CXO J104836.2-601408  162.150868  ...   \n",
       "3178  2007A&A...463..275G  0.574962  2CXO J182951.1+011319  277.463284  ...   \n",
       "\n",
       "           H       K       u       g       r       i       z  remove_4  \\\n",
       "0     18.206  18.183  19.238  18.895  18.439  18.314  18.101         0   \n",
       "16    15.736  14.942     NaN     NaN     NaN     NaN     NaN         0   \n",
       "24       NaN     NaN     NaN     NaN     NaN     NaN     NaN         0   \n",
       "25       NaN     NaN     NaN     NaN     NaN     NaN     NaN         0   \n",
       "27       NaN     NaN     NaN     NaN     NaN     NaN     NaN         0   \n",
       "...      ...     ...     ...     ...     ...     ...     ...       ...   \n",
       "3143  14.295  13.514     NaN     NaN     NaN     NaN     NaN         0   \n",
       "3150  11.860  11.462     NaN     NaN     NaN     NaN     NaN         0   \n",
       "3155  11.786  11.315     NaN     NaN     NaN     NaN     NaN         0   \n",
       "3168  15.196  14.411     NaN     NaN     NaN     NaN     NaN         0   \n",
       "3178  14.512  13.601     NaN     NaN     NaN     NaN     NaN         0   \n",
       "\n",
       "        Gal_Long    Gal_Lat  \n",
       "0     104.492215 -47.088916  \n",
       "16    109.305155 -63.819570  \n",
       "24    314.386874 -73.392273  \n",
       "25    314.332323 -73.358159  \n",
       "27    314.146917 -73.386381  \n",
       "...          ...        ...  \n",
       "3143  287.904649  -1.060318  \n",
       "3150  287.831353  -0.837331  \n",
       "3155  287.845243  -0.820917  \n",
       "3168  288.244440  -0.914645  \n",
       "3178   31.556946   5.359374  \n",
       "\n",
       "[164 rows x 59 columns]"
      ]
     },
     "execution_count": 7,
     "metadata": {},
     "output_type": "execute_result"
    }
   ],
   "source": [
    "TD[TD['S/N']<3]"
   ]
  },
  {
   "cell_type": "code",
   "execution_count": 19,
   "metadata": {
    "scrolled": true
   },
   "outputs": [],
   "source": [
    "# extract per-observation data from CSCv2 \n",
    "\n",
    "df_pers = create_perobs_data(TD, query_dir, data_dir, name_type='CSCview', name_col='name', ra_col='ra',dec_col='dec',coord_format='deg')\n",
    "df_pers.to_csv(f'{data_dir}/{field_name}_per.csv', index=False)"
   ]
  },
  {
   "cell_type": "code",
   "execution_count": 8,
   "metadata": {
    "scrolled": true
   },
   "outputs": [
    {
     "name": "stdout",
     "output_type": "stream",
     "text": [
      "There are 16046 per-obs data.\n",
      "Run add_newdata......\n",
      "Before adding new data:\n",
      "Run stats......\n",
      " H   M   S    #    %  \n",
      "--- --- --- ----- ----\n",
      "  Y   Y   Y 13128 81.8\n",
      "  Y   Y   N   867  5.4\n",
      "  N   Y   Y   304  1.8\n",
      "  Y   N   Y   248  1.5\n",
      "  N   Y   N    68  0.4\n",
      "  Y   N   N   377  2.3\n",
      "  N   N   Y   111  0.6\n",
      "  N   N   N   943  5.8\n",
      " ~Y   Y   Y  2918 18.1\n",
      "-----------------\n",
      "total:      16046\n",
      "Only  13128  detections have valid fluxes at all bands.\n",
      "After adding new  2289 s band data:\n",
      "Run stats......\n",
      " H   M   S    #    %  \n",
      "--- --- --- ----- ----\n",
      "  Y   Y   Y 13635 84.9\n",
      "  Y   Y   N   360  2.2\n",
      "  N   Y   Y   336  2.0\n",
      "  Y   N   Y   468  2.9\n",
      "  N   Y   N    36  0.2\n",
      "  Y   N   N   157  0.9\n",
      "  N   N   Y   229  1.4\n",
      "  N   N   N   825  5.1\n",
      " ~Y   Y   Y  2411 15.0\n",
      "-----------------\n",
      "total:      16046\n",
      "Only  13635  detections have valid fluxes at all bands.\n",
      "After adding new  1420 m band data:\n",
      "Run stats......\n",
      " H   M   S    #    %  \n",
      "--- --- --- ----- ----\n",
      "  Y   Y   Y 13938 86.8\n",
      "  Y   Y   N   361  2.2\n",
      "  N   Y   Y   475  2.9\n",
      "  Y   N   Y   165  1.0\n",
      "  N   Y   N    41  0.2\n",
      "  Y   N   N   156  0.9\n",
      "  N   N   Y    90  0.5\n",
      "  N   N   N   820  5.1\n",
      " ~Y   Y   Y  2108 13.1\n",
      "-----------------\n",
      "total:      16046\n",
      "Only  13938  detections have valid fluxes at all bands.\n",
      "After adding new  845 h band data:\n",
      "Run stats......\n",
      " H   M   S    #    %  \n",
      "--- --- --- ----- ----\n",
      "  Y   Y   Y 14232 88.6\n",
      "  Y   Y   N   368  2.2\n",
      "  N   Y   Y   181  1.1\n",
      "  Y   N   Y   191  1.1\n",
      "  N   Y   N    34  0.2\n",
      "  Y   N   N   157  0.9\n",
      "  N   N   Y    64  0.3\n",
      "  N   N   N   819  5.1\n",
      " ~Y   Y   Y  1814 11.3\n",
      "-----------------\n",
      "total:      16046\n",
      "Only  14232  detections have valid fluxes at all bands.\n",
      "Run nan_flux......\n",
      "0    14232\n",
      "7      819\n",
      "1      368\n",
      "2      191\n",
      "4      181\n",
      "3      157\n",
      "6       64\n",
      "5       34\n",
      "Name: per_flux_flag, dtype: int64\n",
      "Run nan_flux......\n",
      "Counter({'AGN': 1390, 'YSO': 1039, 'LM-STAR': 242, 'HM-STAR': 117, 'NS': 87, 'CV': 44, 'LMXB': 42, 'HMXB': 26, 'NS_BIN': 25})\n"
     ]
    }
   ],
   "source": [
    "# Calculate the weighted average fluxes and variability parameters for X-ray properties\n",
    "# Will generate warnings but they can be ignored.\n",
    "\n",
    "df_pers = pd.read_csv(f'{data_dir}/{field_name}_per.csv', low_memory=False)\n",
    "\n",
    "df_pers['name'] = df_pers['name'].str.lstrip()\n",
    "df_pers['per_remove_code'] = 0\n",
    "\n",
    "df_ave, df_obs = cal_ave(df_pers, data_dir, dtype='TD',Chandratype='CSC',verb=verb)\n",
    "\n",
    "\n",
    "df_ave = pd.merge(df_ave, TD.iloc[:, np.r_[:9, 15:17, 27]], how='inner', on='name')\n",
    "print(Counter(df_ave.Class))\n",
    "df_ave.to_csv(f'{data_dir}/{field_name}_ave.csv', index=False)\n",
    "\n"
   ]
  },
  {
   "cell_type": "code",
   "execution_count": 9,
   "metadata": {},
   "outputs": [
    {
     "name": "stdout",
     "output_type": "stream",
     "text": [
      "3012 Counter({'AGN': 1390, 'YSO': 1039, 'LM-STAR': 242, 'HM-STAR': 117, 'NS': 87, 'CV': 44, 'LMXB': 42, 'HMXB': 26, 'NS_BIN': 25})\n"
     ]
    }
   ],
   "source": [
    "print(len(df_ave),Counter(df_ave['Class']))"
   ]
  },
  {
   "cell_type": "code",
   "execution_count": 10,
   "metadata": {},
   "outputs": [
    {
     "name": "stdout",
     "output_type": "stream",
     "text": [
      "0    3012\n",
      "Name: flux_flag, dtype: int64\n",
      "0    2830\n",
      "1      76\n",
      "4      58\n",
      "3      21\n",
      "2      16\n",
      "6       8\n",
      "7       2\n",
      "5       1\n",
      "Name: flux_flag, dtype: int64\n"
     ]
    }
   ],
   "source": [
    "print(df_ave['flux_flag'].value_counts())\n",
    "df_ave_pre = pd.read_csv(f'{data_dir}/CSCv2_TD_ave.csv')\n",
    "print(df_ave_pre['flux_flag'].value_counts())"
   ]
  },
  {
   "cell_type": "markdown",
   "metadata": {},
   "source": [
    "### Cross-matching to multi-wavelength catalogs"
   ]
  },
  {
   "cell_type": "code",
   "execution_count": 49,
   "metadata": {},
   "outputs": [
    {
     "name": "stdout",
     "output_type": "stream",
     "text": [
      "I/350/gaiaedr3\n",
      "cross-matching to gaia\n",
      "cross-matching to gaiadist\n",
      "II/246/out\n",
      "cross-matching to 2mass\n",
      "II/365/catwise\n",
      "cross-matching to catwise\n",
      "II/363/unwise\n",
      "cross-matching to unwise\n",
      "II/328/allwise\n",
      "cross-matching to allwise\n",
      "230.51056265830994\n"
     ]
    }
   ],
   "source": [
    "#THIS PART TAKES several hours to run for the first time as it is performing all cross-matching. After that it saves to cache and only takes ~200 seconds to run.\n",
    "\n",
    "df_ave = pd.read_csv(f'{data_dir}/{field_name}_ave.csv')\n",
    "\n",
    "# cross-match with MW catalogs\n",
    "start = time.time()\n",
    "add_MW(df_ave, data_dir, field_name, Chandratype='CSC')\n",
    "end = time.time() \n",
    "print(end - start)\n",
    "\n"
   ]
  },
  {
   "cell_type": "code",
   "execution_count": 12,
   "metadata": {},
   "outputs": [],
   "source": [
    "### cleaning the counterpart based on the combined PUs from X-ray sources and multiwavelength counterparts "
   ]
  },
  {
   "cell_type": "code",
   "execution_count": 50,
   "metadata": {
    "scrolled": true
   },
   "outputs": [
    {
     "name": "stdout",
     "output_type": "stream",
     "text": [
      "2275 counterparts matched for gaia\n",
      "1854 counterparts matched for 2mass\n",
      "1909 counterparts matched for catwise\n",
      "2117 counterparts matched for unwise\n",
      "1810 counterparts matched for allwise\n",
      "[]\n",
      "[('AGN', 1390), ('CV', 44), ('HM-STAR', 117), ('HMXB', 26), ('LM-STAR', 242), ('LMXB', 42), ('NS', 87), ('NS_BIN', 24), ('YSO', 1039)]\n",
      "Final breakdown 3003 Counter({'AGN': 1390, 'YSO': 1039, 'LM-STAR': 235, 'HM-STAR': 116, 'NS': 87, 'CV': 44, 'LMXB': 42, 'HMXB': 26, 'NS_BIN': 24})\n"
     ]
    }
   ],
   "source": [
    "df_MW = pd.read_csv(f'{data_dir}/{field_name}_MW.csv')\n",
    "\n",
    "# correcting a source's PU so that the correct counterpart can be matched\n",
    "df_MW.loc[df_MW.name == '2CXO J182615.0-145055', 'err_ellipse_r0'] = 1.2 \n",
    "\n",
    "df_MW_cf = confusion_clean(df_MW,X_PU='err_ellipse_r0',Chandratype='CSC')\n",
    "df_MW_cf.to_csv(f'{data_dir}/{field_name}_MW_clean.csv',index=False)\n",
    "\n",
    "df_MW_cf = pd.read_csv(f'{data_dir}/{field_name}_MW_clean.csv')\n",
    "df_ave = TD_clean(df_MW_cf, remove_codes = [1, 32]) \n",
    "\n",
    "# removing a few unreliable sources\n",
    "s_remove = np.where(df_ave.name_cat.isin(['Mon R2- 5b','Cl* NGC 2264    SBL    1025B','** RAT   17A','NGC 6611 374','NGC 6611 245','NGC 6611 213','2MASS J13121845-6237309','V* V700 Per','ESO-HA 1171', 'VSS II- 7']))[0]\n",
    "\n",
    "df_ave.loc[s_remove, 'remove_code'] = df_ave.loc[s_remove, 'remove_code']+128\n",
    "\n",
    "df_ave.to_csv(f'{data_dir}/{field_name}_MW_before_remove.csv', index=False)\n",
    "\n",
    "df_remove = df_ave[df_ave['remove_code']==0].reset_index(drop=True)\n",
    "print('Final breakdown', len(df_remove), Counter(df_remove['Class']))\n",
    "df_remove.to_csv(f'{data_dir}/{field_name}_MW_remove.csv', index=False)\n",
    "\n",
    "\n"
   ]
  },
  {
   "cell_type": "code",
   "execution_count": 51,
   "metadata": {},
   "outputs": [
    {
     "name": "stdout",
     "output_type": "stream",
     "text": [
      "3012 Counter({'AGN': 1390, 'YSO': 1039, 'LM-STAR': 242, 'HM-STAR': 117, 'NS': 87, 'CV': 44, 'LMXB': 42, 'HMXB': 26, 'NS_BIN': 25})\n",
      "Counter({0: 3003, 128: 8, 1: 1})\n"
     ]
    }
   ],
   "source": [
    "print(len(df_MW_cf),Counter(df_MW_cf['Class']))\n",
    "\n",
    "print(Counter(df_ave['remove_code']))"
   ]
  },
  {
   "cell_type": "code",
   "execution_count": 53,
   "metadata": {},
   "outputs": [
    {
     "name": "stdout",
     "output_type": "stream",
     "text": [
      "Remove 25 [('LM-STAR', 4), ('YSO', 21)]\n",
      "Final breakdown 2978 [('AGN', 1390), ('CV', 44), ('HM-STAR', 116), ('HMXB', 26), ('LM-STAR', 231), ('LMXB', 42), ('NS', 87), ('NS_BIN', 24), ('YSO', 1018)]\n",
      "Remove 25 [('LM-STAR', 4), ('YSO', 21)]\n",
      "Final breakdown 2977 [('AGN', 1390), ('CV', 44), ('HM-STAR', 116), ('HMXB', 26), ('LM-STAR', 232), ('LMXB', 41), ('NS', 87), ('NS_BIN', 24), ('YSO', 1017)]\n"
     ]
    }
   ],
   "source": [
    "df = pd.read_csv(f'{data_dir}/{field_name}_MW_remove.csv')\n",
    "df_final = prepare_cols(df, cp_thres=0, vphas=False,gaiadata=False,cp_conf_flag=False, TD=True, NS_MWdrop=False, STAR_classremove=['HM-STAR','LM-STAR','YSO'])\n",
    "df_pre = pd.read_csv(f'{data_dir}/CSCv2_TD_MW_remove.csv')\n",
    "df_final_pre = prepare_cols(df_pre, cp_thres=0, vphas=False,gaiadata=False,cp_conf_flag=False, TD=True, NS_MWdrop=False, STAR_classremove=['HM-STAR','LM-STAR','YSO'])\n"
   ]
  },
  {
   "cell_type": "code",
   "execution_count": 60,
   "metadata": {
    "scrolled": false
   },
   "outputs": [
    {
     "name": "stdout",
     "output_type": "stream",
     "text": [
      "3003\n",
      "                       name  dof_x  dof_y  flux_aper90_ave_s_x  \\\n",
      "32    2CXO J003536.8-433615    1.0    0.0         8.125549e-18   \n",
      "129   2CXO J030514.1+034853    1.0    0.0         7.998773e-18   \n",
      "155   2CXO J033206.9-275610   26.0   24.0         1.139916e-17   \n",
      "156   2CXO J033207.1-275129   82.0   40.0         8.515793e-18   \n",
      "159   2CXO J033212.9-275237   82.0   73.0         1.079743e-17   \n",
      "...                     ...    ...    ...                  ...   \n",
      "2798  2CXO J054609.6-000331   13.0   12.0         9.325128e-18   \n",
      "2799  2CXO J054612.2-000807   13.0    2.0         8.730896e-18   \n",
      "2801  2CXO J054613.5-000855   13.0   -1.0         7.978846e-18   \n",
      "2809  2CXO J054633.3+000251    1.0    0.0         8.443753e-18   \n",
      "2951  2CXO J104606.1-595809    1.0    0.0         8.057672e-18   \n",
      "\n",
      "      e_flux_aper90_ave_s_x  flux_aper90_ave_s_y  e_flux_aper90_ave_s_y  \n",
      "32             6.027031e-18         4.205000e-16           3.196000e-16  \n",
      "129            6.028084e-18         3.186751e-15           2.407624e-15  \n",
      "155            4.179715e-18         9.688296e-17           2.130956e-17  \n",
      "156            1.136668e-18         1.286765e-16           1.704186e-17  \n",
      "159            2.106386e-18         1.294582e-16           1.382847e-17  \n",
      "...                     ...                  ...                    ...  \n",
      "2798           6.020372e-18         5.332106e-16           1.189134e-16  \n",
      "2799           4.260730e-18         9.076115e-16           1.473646e-16  \n",
      "2801           1.611078e-18         7.978846e-18           6.028103e-18  \n",
      "2809           6.007575e-18         7.635669e-17           7.285739e-17  \n",
      "2951           6.027803e-18         7.994803e-16           6.040159e-16  \n",
      "\n",
      "[172 rows x 7 columns]\n",
      "                       name  dof_x  dof_y  flux_aper90_ave_m_x  \\\n",
      "57    2CXO J010250.3-220929    3.0    2.0         9.024163e-18   \n",
      "83    2CXO J020924.5-100811    4.0    3.0         8.806841e-18   \n",
      "156   2CXO J033207.1-275129   82.0   40.0         8.885696e-18   \n",
      "160   2CXO J033213.2-274241   82.0   79.0         1.532721e-17   \n",
      "162   2CXO J033214.4-275111   82.0   72.0         1.119051e-17   \n",
      "...                     ...    ...    ...                  ...   \n",
      "2796  2CXO J054608.9-000956   13.0   -1.0         7.985677e-18   \n",
      "2797  2CXO J054609.0-000215   12.0    2.0         8.080579e-18   \n",
      "2799  2CXO J054612.2-000807   13.0    2.0         8.137858e-18   \n",
      "2801  2CXO J054613.5-000855   13.0   -1.0         8.030062e-18   \n",
      "2944  2CXO J104553.6-595703    1.0   -1.0         8.177569e-18   \n",
      "\n",
      "      e_flux_aper90_ave_m_x  flux_aper90_ave_m_y  e_flux_aper90_ave_m_y  \n",
      "57             6.028031e-18         4.366136e-14           1.231857e-15  \n",
      "83             6.026098e-18         1.252964e-15           2.336707e-16  \n",
      "156            1.280356e-18         1.286173e-16           1.476747e-17  \n",
      "160            3.468606e-18         1.100844e-15           4.230026e-17  \n",
      "162            1.961825e-18         7.666081e-17           9.072274e-18  \n",
      "...                     ...                  ...                    ...  \n",
      "2796           1.671887e-18         7.087609e-16           5.354764e-16  \n",
      "2797           2.278213e-18         6.004241e-16           1.738547e-16  \n",
      "2799           2.278060e-18         5.270015e-16           1.301497e-16  \n",
      "2801           1.817251e-18         1.684965e-16           1.017352e-16  \n",
      "2944           6.027886e-18         2.777478e-15           7.116091e-16  \n",
      "\n",
      "[132 rows x 7 columns]\n",
      "                       name  dof_x  dof_y  flux_aper90_ave_h_x  \\\n",
      "112   2CXO J024104.8-081520    1.0    0.0         8.046340e-18   \n",
      "156   2CXO J033207.1-275129   82.0   40.0         8.678047e-18   \n",
      "159   2CXO J033212.9-275237   82.0   73.0         1.315022e-17   \n",
      "185   2CXO J033259.0-274339   73.0   67.0         1.127192e-17   \n",
      "249   2CXO J080405.8+050649    4.0   -1.0         8.014313e-18   \n",
      "...                     ...    ...    ...                  ...   \n",
      "2797  2CXO J054609.0-000215   12.0    2.0         8.061177e-18   \n",
      "2799  2CXO J054612.2-000807   13.0    2.0         8.012226e-18   \n",
      "2801  2CXO J054613.5-000855   13.0   -1.0         8.003749e-18   \n",
      "2886  2CXO J104248.1-592528    1.0   -1.0         8.020920e-18   \n",
      "2944  2CXO J104553.6-595703    1.0   -1.0         8.035585e-18   \n",
      "\n",
      "      e_flux_aper90_ave_h_x  flux_aper90_ave_h_y  e_flux_aper90_ave_h_y  \n",
      "112            6.028103e-18         1.902000e-12           3.200000e-14  \n",
      "156            2.007820e-18         4.620609e-16           5.116709e-17  \n",
      "159            6.021317e-18         2.306190e-15           1.269357e-16  \n",
      "185            6.022513e-18         1.784418e-15           1.398789e-16  \n",
      "249            6.028103e-18         3.774283e-12           6.218460e-14  \n",
      "...                     ...                  ...                    ...  \n",
      "2797           3.013961e-18         1.377176e-15           3.886756e-16  \n",
      "2799           1.906166e-18         3.703069e-16           1.985949e-16  \n",
      "2801           1.906229e-18         9.862135e-16           3.778075e-16  \n",
      "2886           6.028062e-18         3.126000e-15           1.641000e-15  \n",
      "2944           6.028079e-18         7.108798e-15           2.132500e-15  \n",
      "\n",
      "[116 rows x 7 columns]\n",
      "                       name  dof_x  dof_y  flux_aper90_ave_b_x  \\\n",
      "32    2CXO J003536.8-433615    1.0    0.0         5.169624e-15   \n",
      "57    2CXO J010250.3-220929    3.0    2.0         2.042219e-13   \n",
      "83    2CXO J020924.5-100811    4.0    3.0         4.553145e-15   \n",
      "112   2CXO J024104.8-081520    1.0    0.0         1.072577e-13   \n",
      "129   2CXO J030514.1+034853    1.0    0.0         1.536193e-14   \n",
      "...                     ...    ...    ...                  ...   \n",
      "2801  2CXO J054613.5-000855   13.0   -1.0         2.401266e-17   \n",
      "2809  2CXO J054633.3+000251    1.0    0.0         5.231861e-15   \n",
      "2886  2CXO J104248.1-592528    1.0   -1.0         1.202104e-15   \n",
      "2944  2CXO J104553.6-595703    1.0   -1.0         2.419200e-17   \n",
      "2951  2CXO J104606.1-595809    1.0    0.0         1.415359e-15   \n",
      "\n",
      "      e_flux_aper90_ave_b_x  flux_aper90_ave_b_y  e_flux_aper90_ave_b_y  \n",
      "32             1.652324e-15         5.581998e-15           1.682939e-15  \n",
      "57             4.085081e-15         2.478742e-13           4.266770e-15  \n",
      "83             7.633136e-16         5.797302e-15           7.982564e-16  \n",
      "112            3.138580e-15         2.009250e-12           3.215355e-14  \n",
      "129            2.985804e-15         1.854068e-14           3.835576e-15  \n",
      "...                     ...                  ...                    ...  \n",
      "2801           3.087343e-18         1.162689e-15           3.913118e-16  \n",
      "2809           1.130428e-15         5.299774e-15           1.132758e-15  \n",
      "2886           4.658874e-16         4.320083e-15           1.705847e-15  \n",
      "2944           9.531115e-18         9.894255e-15           2.248106e-15  \n",
      "2951           5.963764e-16         2.206782e-15           8.488013e-16  \n",
      "\n",
      "[251 rows x 7 columns]\n"
     ]
    }
   ],
   "source": [
    "df_com = pd.merge(df[['name','ra','dec','dof','Class','flux_aper90_ave_s', 'e_flux_aper90_ave_s', 'flux_aper90_ave_m','e_flux_aper90_ave_m', 'flux_aper90_ave_h', 'e_flux_aper90_ave_h','flux_aper90_ave_b','e_flux_aper90_ave_b']],df_pre[['name','Class','dof','flux_aper90_ave_s', 'e_flux_aper90_ave_s', 'flux_aper90_ave_m','e_flux_aper90_ave_m', 'flux_aper90_ave_h', 'e_flux_aper90_ave_h','flux_aper90_ave_b','e_flux_aper90_ave_b']],on='name',how='outer')\n",
    "print(len(df_com))\n",
    "\n",
    "for col in ['flux_aper90_ave_s',  'flux_aper90_ave_m', 'flux_aper90_ave_h','flux_aper90_ave_b']:\n",
    "    print(df_com.loc[df_com[col+'_x']!=df_com[col+'_y'], ['name','dof_x','dof_y',col+'_x','e_'+col+'_x',col+'_y','e_'+col+'_y']])"
   ]
  },
  {
   "cell_type": "code",
   "execution_count": 58,
   "metadata": {},
   "outputs": [
    {
     "data": {
      "text/plain": [
       "Index(['name', 'usrid', 'ra', 'dec', 'err_ellipse_r0', 'err_ellipse_r1',\n",
       "       'err_ellipse_ang', 'significance', 'extent_flag', 'pileup_flag',\n",
       "       'sat_src_flag', 'streak_src_flag', 'conf_flag', 'flux_aper90_mean_b',\n",
       "       'e_flux_aper90_mean_b', 'flux_aper90_mean_h', 'e_flux_aper90_mean_h',\n",
       "       'flux_aper90_mean_m', 'e_flux_aper90_mean_m', 'flux_aper90_mean_s',\n",
       "       'e_flux_aper90_mean_s', 'kp_intra_prob_b', 'ks_intra_prob_b',\n",
       "       'var_inter_prob_b', 'nh_gal', 'flux_powlaw_mean', 'e_flux_powlaw_mean',\n",
       "       'powlaw_gamma_mean', 'e_powlaw_gamma_mean', 'powlaw_nh_mean',\n",
       "       'e_powlaw_nh_mean', 'powlaw_ampl_mean', 'e_powlaw_ampl_mean',\n",
       "       'powlaw_stat', 'remove_code', 'flux_significance_b_max',\n",
       "       'flux_aper90_ave_s', 'e_flux_aper90_ave_s', 'flux_aper90_ave_m',\n",
       "       'e_flux_aper90_ave_m', 'flux_aper90_ave_h', 'e_flux_aper90_ave_h',\n",
       "       'chisqr', 'dof', 'kp_prob_b_max', 'var_inter_prob', 'significance_max',\n",
       "       'flux_flag', 'flux_aper90_ave_b', 'e_flux_aper90_ave_b'],\n",
       "      dtype='object')"
      ]
     },
     "execution_count": 58,
     "metadata": {},
     "output_type": "execute_result"
    }
   ],
   "source": [
    "#df_ave = pd.read_csv(f'{data_dir}/{field_name}_ave.csv')\n",
    "#df_ave_pre = pd.read_csv(f'{data_dir}/CSCv2_TD_ave.csv')\n",
    "\n",
    "df.columns[:50]"
   ]
  },
  {
   "cell_type": "code",
   "execution_count": 47,
   "metadata": {},
   "outputs": [
    {
     "name": "stdout",
     "output_type": "stream",
     "text": [
      "3012\n",
      "                       name  dof_x  dof_y  flux_aper90_ave_s_x  \\\n",
      "32    2CXO J003536.8-433615    1.0    0.0         8.125549e-18   \n",
      "129   2CXO J030514.1+034853    1.0    0.0         7.998773e-18   \n",
      "155   2CXO J033206.9-275610   26.0   24.0         1.139916e-17   \n",
      "156   2CXO J033207.1-275129   82.0   40.0         8.515793e-18   \n",
      "159   2CXO J033212.9-275237   82.0   73.0         1.079743e-17   \n",
      "...                     ...    ...    ...                  ...   \n",
      "2807  2CXO J054609.6-000331   13.0   12.0         9.325128e-18   \n",
      "2808  2CXO J054612.2-000807   13.0    2.0         8.730896e-18   \n",
      "2810  2CXO J054613.5-000855   13.0   -1.0         7.978846e-18   \n",
      "2818  2CXO J054633.3+000251    1.0    0.0         8.443753e-18   \n",
      "2960  2CXO J104606.1-595809    1.0    0.0         8.057672e-18   \n",
      "\n",
      "      e_flux_aper90_ave_s_x  flux_aper90_ave_s_y  e_flux_aper90_ave_s_y  \n",
      "32             6.027031e-18         4.205000e-16           3.196000e-16  \n",
      "129            6.028084e-18         3.186751e-15           2.407624e-15  \n",
      "155            4.179715e-18         9.688296e-17           2.130956e-17  \n",
      "156            1.136668e-18         1.286765e-16           1.704186e-17  \n",
      "159            2.106386e-18         1.294582e-16           1.382847e-17  \n",
      "...                     ...                  ...                    ...  \n",
      "2807           6.020372e-18         5.332106e-16           1.189134e-16  \n",
      "2808           4.260730e-18         9.076115e-16           1.473646e-16  \n",
      "2810           1.611078e-18         7.978846e-18           6.028103e-18  \n",
      "2818           6.007575e-18         7.635669e-17           7.285739e-17  \n",
      "2960           6.027803e-18         7.994803e-16           6.040159e-16  \n",
      "\n",
      "[172 rows x 7 columns]\n",
      "                       name  dof_x  dof_y  flux_aper90_ave_m_x  \\\n",
      "57    2CXO J010250.3-220929    3.0    2.0         9.024163e-18   \n",
      "83    2CXO J020924.5-100811    4.0    3.0         8.806841e-18   \n",
      "156   2CXO J033207.1-275129   82.0   40.0         8.885696e-18   \n",
      "160   2CXO J033213.2-274241   82.0   79.0         1.532721e-17   \n",
      "162   2CXO J033214.4-275111   82.0   72.0         1.119051e-17   \n",
      "...                     ...    ...    ...                  ...   \n",
      "2805  2CXO J054608.9-000956   13.0   -1.0         7.985677e-18   \n",
      "2806  2CXO J054609.0-000215   12.0    2.0         8.080579e-18   \n",
      "2808  2CXO J054612.2-000807   13.0    2.0         8.137858e-18   \n",
      "2810  2CXO J054613.5-000855   13.0   -1.0         8.030062e-18   \n",
      "2953  2CXO J104553.6-595703    1.0   -1.0         8.177569e-18   \n",
      "\n",
      "      e_flux_aper90_ave_m_x  flux_aper90_ave_m_y  e_flux_aper90_ave_m_y  \n",
      "57             6.028031e-18         4.366136e-14           1.231857e-15  \n",
      "83             6.026098e-18         1.252964e-15           2.336707e-16  \n",
      "156            1.280356e-18         1.286173e-16           1.476747e-17  \n",
      "160            3.468606e-18         1.100844e-15           4.230026e-17  \n",
      "162            1.961825e-18         7.666081e-17           9.072274e-18  \n",
      "...                     ...                  ...                    ...  \n",
      "2805           1.671887e-18         7.087609e-16           5.354764e-16  \n",
      "2806           2.278213e-18         6.004241e-16           1.738547e-16  \n",
      "2808           2.278060e-18         5.270015e-16           1.301497e-16  \n",
      "2810           1.817251e-18         1.684965e-16           1.017352e-16  \n",
      "2953           6.027886e-18         2.777478e-15           7.116091e-16  \n",
      "\n",
      "[132 rows x 7 columns]\n",
      "                       name  dof_x  dof_y  flux_aper90_ave_h_x  \\\n",
      "112   2CXO J024104.8-081520    1.0    0.0         8.046340e-18   \n",
      "156   2CXO J033207.1-275129   82.0   40.0         8.678047e-18   \n",
      "159   2CXO J033212.9-275237   82.0   73.0         1.315022e-17   \n",
      "185   2CXO J033259.0-274339   73.0   67.0         1.127192e-17   \n",
      "249   2CXO J080405.8+050649    4.0   -1.0         8.014313e-18   \n",
      "...                     ...    ...    ...                  ...   \n",
      "2806  2CXO J054609.0-000215   12.0    2.0         8.061177e-18   \n",
      "2808  2CXO J054612.2-000807   13.0    2.0         8.012226e-18   \n",
      "2810  2CXO J054613.5-000855   13.0   -1.0         8.003749e-18   \n",
      "2895  2CXO J104248.1-592528    1.0   -1.0         8.020920e-18   \n",
      "2953  2CXO J104553.6-595703    1.0   -1.0         8.035585e-18   \n",
      "\n",
      "      e_flux_aper90_ave_h_x  flux_aper90_ave_h_y  e_flux_aper90_ave_h_y  \n",
      "112            6.028103e-18         1.902000e-12           3.200000e-14  \n",
      "156            2.007820e-18         4.620609e-16           5.116709e-17  \n",
      "159            6.021317e-18         2.306190e-15           1.269357e-16  \n",
      "185            6.022513e-18         1.784418e-15           1.398789e-16  \n",
      "249            6.028103e-18         3.774283e-12           6.218460e-14  \n",
      "...                     ...                  ...                    ...  \n",
      "2806           3.013961e-18         1.377176e-15           3.886756e-16  \n",
      "2808           1.906166e-18         3.703069e-16           1.985949e-16  \n",
      "2810           1.906229e-18         9.862135e-16           3.778075e-16  \n",
      "2895           6.028062e-18         3.126000e-15           1.641000e-15  \n",
      "2953           6.028079e-18         7.108798e-15           2.132500e-15  \n",
      "\n",
      "[116 rows x 7 columns]\n"
     ]
    }
   ],
   "source": [
    "df_com = pd.merge(df_ave[['name','ra','dec','dof','Class','flux_aper90_ave_s', 'e_flux_aper90_ave_s', 'flux_aper90_ave_m','e_flux_aper90_ave_m', 'flux_aper90_ave_h', 'e_flux_aper90_ave_h','flux_aper90_ave_b','e_flux_aper90_ave_b']],df_ave_pre[['name','Class','dof','flux_aper90_ave_s', 'e_flux_aper90_ave_s', 'flux_aper90_ave_m','e_flux_aper90_ave_m', 'flux_aper90_ave_h', 'e_flux_aper90_ave_h','flux_aper90_ave_b','e_flux_aper90_ave_b']],on='name',how='outer')\n",
    "print(len(df_com))\n",
    "\n",
    "for col in ['flux_aper90_ave_s',  'flux_aper90_ave_m', 'flux_aper90_ave_h']:\n",
    "    print(df_com.loc[df_com[col+'_x']!=df_com[col+'_y'], ['name','dof_x','dof_y',col+'_x','e_'+col+'_x',col+'_y','e_'+col+'_y']])"
   ]
  },
  {
   "cell_type": "code",
   "execution_count": 16,
   "metadata": {},
   "outputs": [
    {
     "data": {
      "text/html": [
       "<div>\n",
       "<style scoped>\n",
       "    .dataframe tbody tr th:only-of-type {\n",
       "        vertical-align: middle;\n",
       "    }\n",
       "\n",
       "    .dataframe tbody tr th {\n",
       "        vertical-align: top;\n",
       "    }\n",
       "\n",
       "    .dataframe thead th {\n",
       "        text-align: right;\n",
       "    }\n",
       "</style>\n",
       "<table border=\"1\" class=\"dataframe\">\n",
       "  <thead>\n",
       "    <tr style=\"text-align: right;\">\n",
       "      <th></th>\n",
       "      <th>name</th>\n",
       "      <th>ra</th>\n",
       "      <th>dec</th>\n",
       "      <th>PU</th>\n",
       "      <th>significance</th>\n",
       "      <th>Fcsc_s</th>\n",
       "      <th>e_Fcsc_s</th>\n",
       "      <th>Fcsc_m</th>\n",
       "      <th>e_Fcsc_m</th>\n",
       "      <th>Fcsc_h</th>\n",
       "      <th>...</th>\n",
       "      <th>W4mag</th>\n",
       "      <th>e_W4mag</th>\n",
       "      <th>cp_flag_allwise</th>\n",
       "      <th>Class</th>\n",
       "      <th>cp_flag_wise12</th>\n",
       "      <th>which_wise12</th>\n",
       "      <th>W1mag</th>\n",
       "      <th>e_W1mag</th>\n",
       "      <th>W2mag</th>\n",
       "      <th>e_W2mag</th>\n",
       "    </tr>\n",
       "  </thead>\n",
       "  <tbody>\n",
       "    <tr>\n",
       "      <th>0</th>\n",
       "      <td>2CXO J000009.3+135618</td>\n",
       "      <td>0.039125</td>\n",
       "      <td>13.938494</td>\n",
       "      <td>0.79</td>\n",
       "      <td>1.95</td>\n",
       "      <td>1.671074e-15</td>\n",
       "      <td>1.098049e-15</td>\n",
       "      <td>4.844000e-16</td>\n",
       "      <td>4.844000e-16</td>\n",
       "      <td>1.989924e-15</td>\n",
       "      <td>...</td>\n",
       "      <td>8.827</td>\n",
       "      <td>0.462</td>\n",
       "      <td>0</td>\n",
       "      <td>AGN</td>\n",
       "      <td>0.0</td>\n",
       "      <td>allwise</td>\n",
       "      <td>15.489</td>\n",
       "      <td>0.045</td>\n",
       "      <td>14.605</td>\n",
       "      <td>0.059</td>\n",
       "    </tr>\n",
       "    <tr>\n",
       "      <th>1</th>\n",
       "      <td>2CXO J000230.7+004959</td>\n",
       "      <td>0.627958</td>\n",
       "      <td>0.833072</td>\n",
       "      <td>0.72</td>\n",
       "      <td>11.07</td>\n",
       "      <td>5.675297e-14</td>\n",
       "      <td>6.911736e-15</td>\n",
       "      <td>2.874798e-14</td>\n",
       "      <td>5.285001e-15</td>\n",
       "      <td>5.735159e-14</td>\n",
       "      <td>...</td>\n",
       "      <td>7.915</td>\n",
       "      <td>0.235</td>\n",
       "      <td>0</td>\n",
       "      <td>AGN</td>\n",
       "      <td>0.0</td>\n",
       "      <td>allwise</td>\n",
       "      <td>14.497</td>\n",
       "      <td>0.030</td>\n",
       "      <td>13.178</td>\n",
       "      <td>0.031</td>\n",
       "    </tr>\n",
       "    <tr>\n",
       "      <th>2</th>\n",
       "      <td>2CXO J000622.6-000424</td>\n",
       "      <td>1.594333</td>\n",
       "      <td>-0.073572</td>\n",
       "      <td>0.78</td>\n",
       "      <td>25.42</td>\n",
       "      <td>1.544000e-13</td>\n",
       "      <td>1.220000e-14</td>\n",
       "      <td>1.165798e-13</td>\n",
       "      <td>7.650074e-15</td>\n",
       "      <td>4.038000e-13</td>\n",
       "      <td>...</td>\n",
       "      <td>8.398</td>\n",
       "      <td>NaN</td>\n",
       "      <td>0</td>\n",
       "      <td>AGN</td>\n",
       "      <td>0.0</td>\n",
       "      <td>allwise</td>\n",
       "      <td>15.299</td>\n",
       "      <td>0.041</td>\n",
       "      <td>14.245</td>\n",
       "      <td>0.049</td>\n",
       "    </tr>\n",
       "    <tr>\n",
       "      <th>3</th>\n",
       "      <td>2CXO J000659.2-001740</td>\n",
       "      <td>1.747042</td>\n",
       "      <td>-0.294661</td>\n",
       "      <td>0.84</td>\n",
       "      <td>4.11</td>\n",
       "      <td>1.069845e-14</td>\n",
       "      <td>3.658216e-15</td>\n",
       "      <td>6.211934e-15</td>\n",
       "      <td>2.773510e-15</td>\n",
       "      <td>1.372718e-14</td>\n",
       "      <td>...</td>\n",
       "      <td>NaN</td>\n",
       "      <td>NaN</td>\n",
       "      <td>-8</td>\n",
       "      <td>AGN</td>\n",
       "      <td>0.0</td>\n",
       "      <td>catwise</td>\n",
       "      <td>16.549</td>\n",
       "      <td>0.037</td>\n",
       "      <td>15.650</td>\n",
       "      <td>0.057</td>\n",
       "    </tr>\n",
       "    <tr>\n",
       "      <th>4</th>\n",
       "      <td>2CXO J000703.6+155423</td>\n",
       "      <td>1.765000</td>\n",
       "      <td>15.906575</td>\n",
       "      <td>0.72</td>\n",
       "      <td>8.63</td>\n",
       "      <td>4.660000e-15</td>\n",
       "      <td>2.824000e-15</td>\n",
       "      <td>1.593202e-14</td>\n",
       "      <td>5.625001e-15</td>\n",
       "      <td>5.350000e-13</td>\n",
       "      <td>...</td>\n",
       "      <td>5.208</td>\n",
       "      <td>0.039</td>\n",
       "      <td>0</td>\n",
       "      <td>AGN</td>\n",
       "      <td>0.0</td>\n",
       "      <td>allwise</td>\n",
       "      <td>11.610</td>\n",
       "      <td>0.023</td>\n",
       "      <td>10.588</td>\n",
       "      <td>0.021</td>\n",
       "    </tr>\n",
       "  </tbody>\n",
       "</table>\n",
       "<p>5 rows × 72 columns</p>\n",
       "</div>"
      ],
      "text/plain": [
       "                    name        ra        dec    PU  significance  \\\n",
       "0  2CXO J000009.3+135618  0.039125  13.938494  0.79          1.95   \n",
       "1  2CXO J000230.7+004959  0.627958   0.833072  0.72         11.07   \n",
       "2  2CXO J000622.6-000424  1.594333  -0.073572  0.78         25.42   \n",
       "3  2CXO J000659.2-001740  1.747042  -0.294661  0.84          4.11   \n",
       "4  2CXO J000703.6+155423  1.765000  15.906575  0.72          8.63   \n",
       "\n",
       "         Fcsc_s      e_Fcsc_s        Fcsc_m      e_Fcsc_m        Fcsc_h  ...  \\\n",
       "0  1.671074e-15  1.098049e-15  4.844000e-16  4.844000e-16  1.989924e-15  ...   \n",
       "1  5.675297e-14  6.911736e-15  2.874798e-14  5.285001e-15  5.735159e-14  ...   \n",
       "2  1.544000e-13  1.220000e-14  1.165798e-13  7.650074e-15  4.038000e-13  ...   \n",
       "3  1.069845e-14  3.658216e-15  6.211934e-15  2.773510e-15  1.372718e-14  ...   \n",
       "4  4.660000e-15  2.824000e-15  1.593202e-14  5.625001e-15  5.350000e-13  ...   \n",
       "\n",
       "   W4mag  e_W4mag  cp_flag_allwise  Class  cp_flag_wise12 which_wise12  \\\n",
       "0  8.827    0.462                0    AGN             0.0      allwise   \n",
       "1  7.915    0.235                0    AGN             0.0      allwise   \n",
       "2  8.398      NaN                0    AGN             0.0      allwise   \n",
       "3    NaN      NaN               -8    AGN             0.0      catwise   \n",
       "4  5.208    0.039                0    AGN             0.0      allwise   \n",
       "\n",
       "    W1mag  e_W1mag   W2mag  e_W2mag  \n",
       "0  15.489    0.045  14.605    0.059  \n",
       "1  14.497    0.030  13.178    0.031  \n",
       "2  15.299    0.041  14.245    0.049  \n",
       "3  16.549    0.037  15.650    0.057  \n",
       "4  11.610    0.023  10.588    0.021  \n",
       "\n",
       "[5 rows x 72 columns]"
      ]
     },
     "execution_count": 16,
     "metadata": {},
     "output_type": "execute_result"
    }
   ],
   "source": [
    "df_final.head()"
   ]
  },
  {
   "cell_type": "code",
   "execution_count": 17,
   "metadata": {},
   "outputs": [
    {
     "name": "stdout",
     "output_type": "stream",
     "text": [
      "Remove 21 [('LM-STAR', 1), ('YSO', 20)]\n",
      "Final breakdown 2941 [('AGN', 1390), ('CV', 44), ('HM-STAR', 118), ('HMXB', 26), ('LM-STAR', 207), ('LMXB', 41), ('NS', 87), ('NS_BIN', 24), ('YSO', 1004)]\n"
     ]
    }
   ],
   "source": [
    "df_current = pd.read_csv('/home/orion51/Desktop/Research/MUWCLASS/MUWCLASS_CSCv2/files/CSC_TD_MW_remove.csv')\n",
    "df_f = prepare_cols(df_current, cp_thres=0, vphas=False,gaiadata=False,cp_conf_flag=False, TD=True, NS_MWdrop=False, STAR_classremove=['HM-STAR','LM-STAR','YSO'])\n",
    "df_final = df_current[df_current['name'].isin(df_f['name'])]"
   ]
  },
  {
   "cell_type": "code",
   "execution_count": 18,
   "metadata": {},
   "outputs": [
    {
     "data": {
      "text/plain": [
       "0          Q\n",
       "1          Q\n",
       "2          Q\n",
       "3          Q\n",
       "4          A\n",
       "        ... \n",
       "2957     III\n",
       "2958    I/II\n",
       "2959      II\n",
       "2960      II\n",
       "2961      II\n",
       "Name: SubClass, Length: 2941, dtype: object"
      ]
     },
     "execution_count": 18,
     "metadata": {},
     "output_type": "execute_result"
    }
   ],
   "source": [
    "df_final['SubClass']"
   ]
  },
  {
   "cell_type": "code",
   "execution_count": 19,
   "metadata": {},
   "outputs": [
    {
     "name": "stdout",
     "output_type": "stream",
     "text": [
      "207\n",
      "GK    21\n",
      "F8    17\n",
      "F5    17\n",
      "Md    13\n",
      "G0    13\n",
      "Fd    12\n",
      "A2    11\n",
      "A0     9\n",
      "G5     9\n",
      "K0     9\n",
      "F2     9\n",
      "F0     5\n",
      "K1     4\n",
      "G8     4\n",
      "F6     4\n",
      "F4     3\n",
      "M      3\n",
      "M5     3\n",
      "F      3\n",
      "A1     2\n",
      "G6     2\n",
      "A3     2\n",
      "K2     2\n",
      "A6     2\n",
      "G9     2\n",
      "F7     2\n",
      "F3     2\n",
      "G3     2\n",
      "M3     2\n",
      "F9     2\n",
      "M4     1\n",
      "A8     1\n",
      "K      1\n",
      "G1     1\n",
      "K3     1\n",
      "A7     1\n",
      "M1     1\n",
      "A4     1\n",
      "A      1\n",
      "G7     1\n",
      "K5     1\n",
      "F1     1\n",
      "M7     1\n",
      "A5     1\n",
      "M0     1\n",
      "G2     1\n",
      "Name: Spectral_type, dtype: int64\n",
      "207\n",
      "F    77\n",
      "G    56\n",
      "A    31\n",
      "M    25\n",
      "K    18\n",
      "Name: Spectral_type, dtype: int64\n",
      "35\n",
      "18\n",
      "25\n"
     ]
    }
   ],
   "source": [
    "df_star = df_final[df_final['Class']=='LM-STAR'].reset_index(drop=True)\n",
    "df_star['Spectral_type'] = df_star.apply(lambda r: r.SubClass[0:2],axis=1)\n",
    "print(len(df_star))\n",
    "print(df_star['Spectral_type'].value_counts())\n",
    "\n",
    "df_GK = df_star[df_star['Spectral_type']=='GK'].reset_index(drop=True)\n",
    "\n",
    "GK = df_f[df_f.name.isin(df_GK.name)]\n",
    "\n",
    "GK = GK.rename(columns={'PU':'PU_X','Fcsc_s':'F_s','Fcsc_m':'F_m','Fcsc_h':'F_h','Fcsc_b':'F_b',\\\n",
    "                            'Gmag':'G','BPmag':'BP','RPmag':'RP','Jmag':'J','Hmag':'H','Kmag':'K','W1mag':'W1','W2mag':'W2','W3mag':'W3',\\\n",
    "                            'var_intra_prob':'P_intra', 'var_inter_prob':'P_inter'})\n",
    "\n",
    "GK.reset_index(drop=True).to_csv('./data/TD_GK.csv',index=False)\n",
    "\n",
    "df_star['Spectral_type'] = df_star.apply(lambda r: r.SubClass[0],axis=1)\n",
    "print(len(df_star))\n",
    "print(df_star['Spectral_type'].value_counts())\n",
    "\n",
    "for tp in ['G','K','M']:\n",
    "\n",
    "    df_tp = df_star[df_star['Spectral_type']==tp].reset_index(drop=True)\n",
    "\n",
    "    tpe = df_f[(df_f.name.isin(df_tp.name)) & ~(df_f.name.isin(GK.name))].reset_index(drop=True)\n",
    "\n",
    "    tpe = tpe.rename(columns={'PU':'PU_X','Fcsc_s':'F_s','Fcsc_m':'F_m','Fcsc_h':'F_h','Fcsc_b':'F_b',\\\n",
    "                            'Gmag':'G','BPmag':'BP','RPmag':'RP','Jmag':'J','Hmag':'H','Kmag':'K','W1mag':'W1','W2mag':'W2','W3mag':'W3',\\\n",
    "                            'var_intra_prob':'P_intra', 'var_inter_prob':'P_inter'})\n",
    "    print(len(tpe))\n",
    "    \n",
    "    tpe.to_csv(f'./data/TD_{tp}.csv',index=False)\n",
    "\n"
   ]
  },
  {
   "cell_type": "code",
   "execution_count": null,
   "metadata": {},
   "outputs": [],
   "source": [
    "df_M = df_star[df_star['Spectral_type']=='M'].reset_index(drop=True)\n",
    "\n",
    "df_Md = df_f[df_f.name.isin(df_M.name)]"
   ]
  },
  {
   "cell_type": "code",
   "execution_count": 5,
   "metadata": {},
   "outputs": [
    {
     "name": "stdout",
     "output_type": "stream",
     "text": [
      "207\n",
      "GK    21\n",
      "F8    17\n",
      "F5    17\n",
      "Md    13\n",
      "G0    13\n",
      "Fd    12\n",
      "A2    11\n",
      "A0     9\n",
      "G5     9\n",
      "K0     9\n",
      "F2     9\n",
      "F0     5\n",
      "K1     4\n",
      "G8     4\n",
      "F6     4\n",
      "F4     3\n",
      "M      3\n",
      "M5     3\n",
      "F      3\n",
      "A1     2\n",
      "G6     2\n",
      "A3     2\n",
      "K2     2\n",
      "A6     2\n",
      "G9     2\n",
      "F7     2\n",
      "F3     2\n",
      "G3     2\n",
      "M3     2\n",
      "F9     2\n",
      "M4     1\n",
      "A8     1\n",
      "K      1\n",
      "G1     1\n",
      "K3     1\n",
      "A7     1\n",
      "M1     1\n",
      "A4     1\n",
      "A      1\n",
      "G7     1\n",
      "K5     1\n",
      "F1     1\n",
      "M7     1\n",
      "A5     1\n",
      "M0     1\n",
      "G2     1\n",
      "Name: Spectral_type, dtype: int64\n",
      "46 161\n",
      "GKd_b    8\n",
      "GKd_c    6\n",
      "Md_a     5\n",
      "Fd_b     5\n",
      "Fd_a     4\n",
      "GKd_a    4\n",
      "Md_c     3\n",
      "Md_d     3\n",
      "Fd_c     2\n",
      "Md_b     2\n",
      "GKd_d    1\n",
      "GKg_a    1\n",
      "Fd_d     1\n",
      "GKg_c    1\n",
      "Name: SubClass, dtype: int64\n",
      "F8       14\n",
      "F5       12\n",
      "K0        8\n",
      "F2        8\n",
      "A2        8\n",
      "         ..\n",
      "F3        1\n",
      "F5/7      1\n",
      "K5        1\n",
      "F6/7V     1\n",
      "K1        1\n",
      "Name: SubClass, Length: 75, dtype: int64\n",
      "F5    17\n",
      "F8    17\n",
      "G0    13\n",
      "A2    11\n",
      "A0     9\n",
      "G5     9\n",
      "K0     9\n",
      "F2     9\n",
      "F0     5\n",
      "K1     4\n",
      "G8     4\n",
      "F6     4\n",
      "M      3\n",
      "F4     3\n",
      "F      3\n",
      "M5     3\n",
      "K2     2\n",
      "A3     2\n",
      "F7     2\n",
      "A6     2\n",
      "G9     2\n",
      "G6     2\n",
      "A1     2\n",
      "G3     2\n",
      "F9     2\n",
      "F3     2\n",
      "M3     2\n",
      "M0     1\n",
      "A8     1\n",
      "K      1\n",
      "G1     1\n",
      "K3     1\n",
      "A7     1\n",
      "A4     1\n",
      "A      1\n",
      "M4     1\n",
      "G7     1\n",
      "A5     1\n",
      "K5     1\n",
      "F1     1\n",
      "M7     1\n",
      "M1     1\n",
      "G2     1\n",
      "Name: Spectral_type, dtype: int64\n"
     ]
    }
   ],
   "source": [
    "df_star = df_final[df_final['Class']=='LM-STAR'].reset_index(drop=True)\n",
    "df_star['Spectral_type'] = df_star.apply(lambda r: r.SubClass[0:2],axis=1)\n",
    "print(len(df_star))\n",
    "print(df_star['Spectral_type'].value_counts())\n",
    "df_M = df_star[df_star['Spectral_type']=='M'].reset_index(drop=True)\n",
    "df_apoge = df_star[df_star['ref']=='2020AJ....160..120J'].reset_index(drop=True)\n",
    "df_spec = df_star[df_star['ref']!='2020AJ....160..120J'].reset_index(drop=True)\n",
    "print(len(df_apoge),len(df_spec))\n",
    "print(df_apoge['SubClass'].value_counts())\n",
    "print(df_spec['SubClass'].value_counts())\n",
    "#df_spec['Spectral_type'] = df_spec.apply(lambda r: r.SubClass[0],axis=1)\n",
    "print(df_spec['Spectral_type'].value_counts())\n",
    "#'2020AJ....160..120J'"
   ]
  },
  {
   "cell_type": "code",
   "execution_count": null,
   "metadata": {},
   "outputs": [],
   "source": []
  },
  {
   "cell_type": "code",
   "execution_count": 23,
   "metadata": {},
   "outputs": [
    {
     "data": {
      "text/plain": [
       "Index(['name', 'ra', 'dec', 'PU', 'significance', 'Fcsc_s', 'e_Fcsc_s',\n",
       "       'Fcsc_m', 'e_Fcsc_m', 'Fcsc_h', 'e_Fcsc_h', 'flux_aper90_ave_b',\n",
       "       'e_flux_aper90_ave_b', 'var_intra_prob', 'var_inter_prob', 'CSC_flags',\n",
       "       'EDR3Name_gaia', 'RA_pmcor_gaia', 'DEC_pmcor_gaia', 'Gmag', 'e_Gmag',\n",
       "       'BPmag', 'e_BPmag', 'RPmag', 'e_RPmag', 'Plx_gaia', 'e_Plx_gaia',\n",
       "       'PM_gaia', 'rgeo', 'b_rgeo', 'B_rgeo', 'rpgeo', 'b_rpgeo', 'B_rpgeo',\n",
       "       'cp_flag_gaia', '_2MASS_2mass', 'Jmag', 'e_Jmag', 'Hmag', 'e_Hmag'],\n",
       "      dtype='object')"
      ]
     },
     "execution_count": 23,
     "metadata": {},
     "output_type": "execute_result"
    }
   ],
   "source": [
    "df_Md = df_f[df_f.name.isin(df_M.name)]\n",
    "df_Md.columns[:40]"
   ]
  },
  {
   "cell_type": "code",
   "execution_count": 24,
   "metadata": {},
   "outputs": [],
   "source": [
    "df_Md = df_Md.rename(columns={'PU':'PU_X','Fcsc_s':'F_s','Fcsc_m':'F_m','Fcsc_h':'F_h','Fcsc_b':'F_b',\\\n",
    "                            'Gmag':'G','BPmag':'BP','RPmag':'RP','Jmag':'J','Hmag':'H','Kmag':'K','W1mag':'W1','W2mag':'W2','W3mag':'W3',\\\n",
    "                            'var_intra_prob':'P_intra', 'var_inter_prob':'P_inter'})\n",
    "# add broad band flux\n",
    "#TD[]\n",
    "df_Md.reset_index(drop=True).to_csv('./data/TD_Mdwarf.csv',index=False)"
   ]
  },
  {
   "cell_type": "code",
   "execution_count": null,
   "metadata": {},
   "outputs": [],
   "source": []
  }
 ],
 "metadata": {
  "kernelspec": {
   "display_name": "Python 3 (ipykernel)",
   "language": "python",
   "name": "python3"
  },
  "language_info": {
   "codemirror_mode": {
    "name": "ipython",
    "version": 3
   },
   "file_extension": ".py",
   "mimetype": "text/x-python",
   "name": "python",
   "nbconvert_exporter": "python",
   "pygments_lexer": "ipython3",
   "version": "3.9.12"
  },
  "vscode": {
   "interpreter": {
    "hash": "a07a7a2090da37cdd48ebcd70931c05a676ab305f42a98eb38d19e0d4f533bcb"
   }
  }
 },
 "nbformat": 4,
 "nbformat_minor": 2
}
