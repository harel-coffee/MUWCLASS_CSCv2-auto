{
 "cells": [
  {
   "cell_type": "code",
   "execution_count": 25,
   "id": "caf38b16",
   "metadata": {},
   "outputs": [],
   "source": [
    "import numpy as np, pandas as pd\n",
    "from astropy.table import Table\n",
    "\n",
    "import sys  \n",
    "sys.path.insert(0, '/Users/huiyang/Research/GitHub/MUWCLASS_CSCv2/codes/nway_cross_matching/')\n",
    "from nway import nway_cross_matching\n"
   ]
  },
  {
   "cell_type": "code",
   "execution_count": 26,
   "id": "35936d6f",
   "metadata": {},
   "outputs": [],
   "source": [
    "\n",
    "TD = pd.read_csv(f'./data/CSCv2_TD_11162022_MW_comb_cleaned.csv')\n",
    "\n",
    "CSCv2 = Table.read('/Users/huiyang/Research/GitHub/MUWCLASS_CSCv2/codes/buildTD/data/CSCv2.vot').to_pandas()\n",
    "CSCv2['name'] = '2CXO ' + CSCv2['_2CXO']"
   ]
  },
  {
   "cell_type": "code",
   "execution_count": 27,
   "id": "373dec1a",
   "metadata": {},
   "outputs": [],
   "source": [
    "nway_all = pd.read_csv('/Users/huiyang/Research/GitHub/MUWCLASS_4FGL/codes/MW_xmatch/nway_all/CSCv2_TD_11162022_MW.csv')\n",
    "\n",
    "nway_all['name'] = '2CXO '+nway_all['CSC__2CXO']"
   ]
  },
  {
   "cell_type": "code",
   "execution_count": 28,
   "id": "a680d832",
   "metadata": {},
   "outputs": [
    {
     "name": "stdout",
     "output_type": "stream",
     "text": [
      "35634\n",
      "3106\n"
     ]
    }
   ],
   "source": [
    "# Let's get phot_bp_rp_excess_factor\n",
    "\n",
    "from astropy import units as u\n",
    "from astropy.coordinates import SkyCoord, Angle\n",
    "from astroquery.vizier import Vizier\n",
    "from astropy.table import Table\n",
    "\n",
    "\n",
    "print(len(nway_all))\n",
    "TD_gaia = nway_all.drop_duplicates(subset=['Gaia','GAIA_RA', 'GAIA_DEC'])[['Gaia','GAIA_RA', 'GAIA_DEC']]\n",
    "TD_gaia = TD_gaia[TD_gaia['Gaia']!='-99'].reset_index(drop=True)\n",
    "\n",
    "\n",
    "print(len(TD_gaia))\n",
    "TD_gaia\n",
    "\n",
    "\n",
    "TD_gaia['_q'] = TD_gaia.index+1\n",
    "\n",
    "#'''\n",
    "# cross-matching to Gaiadr3 catalog with phot_bp_rp_excess_factor\n",
    "\n",
    "viz = Vizier(row_limit=-1,  timeout=5000, columns=[\"**\", \"+_r\",\"phot_bp_rp_excess_factor\"], catalog='I/355/gaiadr3')\n",
    "\n",
    "radec = [[TD_gaia.loc[i, 'GAIA_RA'], TD_gaia.loc[i, 'GAIA_DEC']] for i in range(len(TD_gaia))]\n",
    "rd = Table(Angle(radec, 'deg'), names=('_RAJ2000', '_DEJ2000'))\n",
    "df_gaiadr3 = viz.query_region(rd, radius=0.1*u.arcsec)[0].to_pandas()\n",
    "#'''\n",
    "#print(len(df_gaiadist))\n",
    "TD_gaia = pd.merge(TD_gaia, df_gaiadr3, on=['_q'], how='inner')#.rename(columns={'Flag':'gaiadist_flag'})\n",
    "#print(len(TD_gaia))\n",
    "\n",
    "#TD_MW = pd.merge(TD_MW, TD_gaia[['CSC__2CXO','rgeo','b_rgeo','B_rgeo','rpgeo','b_rpgeo','B_rpgeo','gaiadist_flag']], on='CSC__2CXO',how='outer')\n",
    "\n",
    "TD_gaia = TD_gaia[TD_gaia['_r']<=0.0001].reset_index(drop=True)\n",
    "\n",
    "nway_all['E_BP_RP_'] = -99\n",
    "\n",
    "for gaia_src in TD_gaia['Gaia'].unique():\n",
    "    nway_all.loc[nway_all['Gaia']==gaia_src, 'E_BP_RP_'] = TD_gaia.loc[TD_gaia['Gaia']==gaia_src, 'E_BP_RP_'].values[0]\n"
   ]
  },
  {
   "cell_type": "code",
   "execution_count": 29,
   "id": "1b1c1cd0",
   "metadata": {},
   "outputs": [
    {
     "data": {
      "text/plain": [
       "Index(['CSC_ID', 'CSC_RA', 'CSC_DEC', 'CSC_err_r0', 'CSC_err_r1', 'CSC_PA',\n",
       "       'CSC__2CXO', 'CSC__r', 'CSC_fe', 'CSC_fc',\n",
       "       ...\n",
       "       'dist_bayesfactor', 'dist_bayesfactor_corrected', 'dist_post',\n",
       "       'p_single', 'p_any', 'p_i', 'match_flag', 'Gaia', 'name', 'E_BP_RP_'],\n",
       "      dtype='object', length=106)"
      ]
     },
     "execution_count": 29,
     "metadata": {},
     "output_type": "execute_result"
    }
   ],
   "source": [
    "nway_all.columns"
   ]
  },
  {
   "cell_type": "code",
   "execution_count": null,
   "id": "64825c2d",
   "metadata": {},
   "outputs": [],
   "source": []
  },
  {
   "cell_type": "code",
   "execution_count": 30,
   "id": "0d33eb85",
   "metadata": {},
   "outputs": [],
   "source": [
    "df_new1 = TD[~TD['name'].isin(nway_all['name'])].reset_index(drop=True)\n",
    "df_new1_2 = CSCv2[CSCv2['name'].isin(df_new1['name'])].reset_index(drop=True)"
   ]
  },
  {
   "cell_type": "code",
   "execution_count": 31,
   "id": "3632f14c",
   "metadata": {},
   "outputs": [
    {
     "data": {
      "text/plain": [
       "35634"
      ]
     },
     "execution_count": 31,
     "metadata": {},
     "output_type": "execute_result"
    }
   ],
   "source": [
    "len(nway_all)#.columns"
   ]
  },
  {
   "cell_type": "code",
   "execution_count": 32,
   "id": "4ed428ff",
   "metadata": {},
   "outputs": [],
   "source": [
    "# some new sources \n",
    "\n",
    "\n",
    "\n",
    "add_HMXBs = ['2CXO J163905.4-464212','2CXO J081228.3-311452','2CXO J163553.8-472540','2CXO J203213.1+412724']\n",
    "add_HMXBs_confused = ['2CXO J131825.0-625815','2CXO J174906.8-273233','2CXO J174912.4-272538']\n",
    "add_CVs = ['2CXO J174954.6-294335']\n",
    "add_new = ['2CXO J163905.4-464212','2CXO J081228.3-311452','2CXO J131825.0-625815','2CXO J174906.8-273233','2CXO J174912.4-272538','2CXO J174954.6-294335']\n",
    "df_new2 = CSCv2[CSCv2['name'].isin(add_HMXBs+add_HMXBs_confused+add_CVs)].reset_index(drop=True)\n",
    "\n",
    "PU_increase_2 =  ['2CXO J163905.4-464212','2CXO J163553.8-472540']\n",
    "df_new2.loc[df_new2['name'].isin(PU_increase_2 ), 'r0'] = df_new2.loc[df_new2['name'].isin(PU_increase_2 ), 'r0']*2\n",
    "df_new2.loc[df_new2['name'].isin(PU_increase_2 ), 'r1'] = df_new2.loc[df_new2['name'].isin(PU_increase_2 ), 'r1']*2\n",
    "\n",
    "PU_decrease_2 =  ['2CXO J203213.1+412724']\n",
    "df_new2.loc[df_new2['name'].isin(PU_decrease_2 ), 'r0'] = df_new2.loc[df_new2['name'].isin(PU_decrease_2 ), 'r0']/2\n",
    "df_new2.loc[df_new2['name'].isin(PU_decrease_2 ), 'r1'] = df_new2.loc[df_new2['name'].isin(PU_decrease_2 ), 'r1']/2\n",
    "\n"
   ]
  },
  {
   "cell_type": "code",
   "execution_count": 33,
   "id": "b622d475",
   "metadata": {},
   "outputs": [],
   "source": [
    "df_new = pd.concat([df_new1_2, df_new2], ignore_index=True, sort=False)"
   ]
  },
  {
   "cell_type": "code",
   "execution_count": 34,
   "id": "685511d4",
   "metadata": {},
   "outputs": [
    {
     "name": "stdout",
     "output_type": "stream",
     "text": [
      "0    35\n",
      "1    11\n",
      "Name: match_flag, dtype: int64\n"
     ]
    }
   ],
   "source": [
    "query_dir = '/Users/huiyang/Research/GitHub/MUWCLASS_CSCv2/codes/nway_cross_matching/data/query'\n",
    "nway_radius = 0.01\n",
    "\n",
    "df_MW = pd.DataFrame()\n",
    "for i in range(len(df_new)):\n",
    "    #nway_cross_matching(TD, i, radius, query_dir,explain=True,rerun=True)\n",
    "    csc_name = nway_cross_matching(df_new, i, nway_radius, query_dir,name_col='name',ra_col='RAICRS',dec_col='DEICRS', ra_csc_col='RAICRS',dec_csc_col='DEICRS',PU_col='r0',r0_col='r0',r1_col='r1',PA_col='PA',data_dir='./data/TD_new_nway',explain=False,move=False,move_dir='check',rerun=False, sigma=2.,newcsc=True)\n",
    "    \n",
    "    dat = Table.read(f'./data/TD_new_nway/{csc_name}_nway.fits', format='fits')\n",
    "    df = dat.to_pandas()\n",
    "\n",
    "\n",
    "    df_MW = pd.concat([df_MW, df], ignore_index=True, sort=False)\n",
    "\n",
    "print(df_MW['match_flag'].value_counts())\n",
    "\n",
    "str_cols = ['CSC__2CXO','TMASS__2MASS','ALLWISE_AllWISE','CATWISE_Name']\n",
    "for col in str_cols:\n",
    "    df_MW[col] = df_MW[col].str.decode(\"utf-8\")\n",
    "\n",
    "df_MW['name'] = df_MW['CSC__2CXO']\n",
    "df_MW['Gaia'] = df_MW.apply(lambda r: 'Gaia DR3 '+ str(r['GAIA_Source']) if str(r['GAIA_Source'])!='-99' else '-99', axis=1)\n",
    "\n",
    "#df_MW.to_csv(f'{output_name}.csv',index=False)\n"
   ]
  },
  {
   "cell_type": "code",
   "execution_count": 35,
   "id": "5238d31e",
   "metadata": {},
   "outputs": [
    {
     "name": "stdout",
     "output_type": "stream",
     "text": [
      "6\n"
     ]
    }
   ],
   "source": [
    "TD_gaia = df_MW.drop_duplicates(subset=['Gaia','GAIA_RA', 'GAIA_DEC'])[['Gaia','GAIA_RA', 'GAIA_DEC']]\n",
    "TD_gaia = TD_gaia[TD_gaia['Gaia']!='-99'].reset_index(drop=True)\n",
    "\n",
    "\n",
    "print(len(TD_gaia))\n",
    "#TD_gaia\n",
    "\n",
    "\n",
    "TD_gaia['_q'] = TD_gaia.index+1\n",
    "\n",
    "#'''\n",
    "# cross-matching to Gaiadr3 catalog with phot_bp_rp_excess_factor\n",
    "\n",
    "viz = Vizier(row_limit=-1,  timeout=5000, columns=[\"**\", \"+_r\",\"phot_bp_rp_excess_factor\"], catalog='I/355/gaiadr3')\n",
    "\n",
    "radec = [[TD_gaia.loc[i, 'GAIA_RA'], TD_gaia.loc[i, 'GAIA_DEC']] for i in range(len(TD_gaia))]\n",
    "rd = Table(Angle(radec, 'deg'), names=('_RAJ2000', '_DEJ2000'))\n",
    "df_gaiadr3 = viz.query_region(rd, radius=0.1*u.arcsec)[0].to_pandas()\n",
    "#'''\n",
    "#print(len(df_gaiadist))\n",
    "TD_gaia = pd.merge(TD_gaia, df_gaiadr3, on=['_q'], how='inner')#.rename(columns={'Flag':'gaiadist_flag'})\n",
    "#print(len(TD_gaia))\n",
    "\n",
    "TD_gaia = TD_gaia[TD_gaia['_r']<=0.0001].reset_index(drop=True)\n",
    "\n",
    "df_MW['E_BP_RP_'] = -99\n",
    "\n",
    "for gaia_src in TD_gaia['Gaia'].unique():\n",
    "    df_MW.loc[df_MW['Gaia']==gaia_src, 'E_BP_RP_'] = TD_gaia.loc[TD_gaia['Gaia']==gaia_src, 'E_BP_RP_'].values[0]"
   ]
  },
  {
   "cell_type": "code",
   "execution_count": 36,
   "id": "3e5189ec",
   "metadata": {},
   "outputs": [
    {
     "name": "stdout",
     "output_type": "stream",
     "text": [
      "35634\n",
      "106 103\n",
      "35615 3818\n",
      "35661 3829\n"
     ]
    }
   ],
   "source": [
    "print(len(nway_all))\n",
    "print(len(nway_all.columns), len(df_MW.columns))\n",
    "nway_all = nway_all[~nway_all['name'].isin(df_new['name'])]\n",
    "print(len(nway_all), len(nway_all['name'].unique()))\n",
    "\n",
    "df_MW = pd.concat([nway_all, df_MW], ignore_index=True, sort=False).reset_index(drop=True)\n",
    "print(len(df_MW), len(df_MW['name'].unique()))"
   ]
  },
  {
   "cell_type": "code",
   "execution_count": 37,
   "id": "b105581b",
   "metadata": {},
   "outputs": [
    {
     "data": {
      "text/plain": [
       "Index(['CSC_ID', 'CSC_RA', 'CSC_DEC', 'CSC_err_r0', 'CSC_err_r1', 'CSC_PA',\n",
       "       'CSC__2CXO', 'CSC__r', 'CSC_fe', 'CSC_fc', 'GAIA_RA', 'GAIA_DEC',\n",
       "       'GAIA_PU', 'GAIA_Source', 'GAIA__r', 'GAIA_e_Pos', 'GAIA_Plx',\n",
       "       'GAIA_e_Plx', 'GAIA_PM', 'GAIA_e_PM', 'GAIA_epsi', 'GAIA_Gmag',\n",
       "       'GAIA_BPmag', 'GAIA_RPmag', 'GAIA_e_Gmag', 'GAIA_e_BPmag',\n",
       "       'GAIA_e_RPmag', 'TMASS_RA', 'TMASS_DEC', 'TMASS_err0', 'TMASS_err1',\n",
       "       'TMASS_errPA', 'TMASS__2MASS', 'TMASS__r', 'TMASS_Jmag', 'TMASS_Hmag',\n",
       "       'TMASS_Kmag', 'TMASS_e_Jmag', 'TMASS_e_Hmag', 'TMASS_e_Kmag',\n",
       "       'ALLWISE_RA', 'ALLWISE_DEC', 'ALLWISE_err0', 'ALLWISE_err1',\n",
       "       'ALLWISE_errPA', 'ALLWISE_AllWISE', 'ALLWISE__r', 'ALLWISE_W1mag',\n",
       "       'ALLWISE_W2mag', 'ALLWISE_W3mag', 'ALLWISE_W4mag', 'ALLWISE_e_W1mag',\n",
       "       'ALLWISE_e_W2mag', 'ALLWISE_e_W3mag', 'ALLWISE_e_W4mag', 'CATWISE_RA',\n",
       "       'CATWISE_DEC', 'CATWISE_PU', 'CATWISE_Name', 'CATWISE__r',\n",
       "       'CATWISE_W1mproPM', 'CATWISE_W2mproPM', 'CATWISE_e_W1mproPM',\n",
       "       'CATWISE_e_W2mproPM', 'Separation_GAIA_CSC', 'Separation_GAIA_CSC_ra',\n",
       "       'Separation_GAIA_CSC_dec', 'Separation_TMASS_CSC',\n",
       "       'Separation_TMASS_CSC_ra', 'Separation_TMASS_CSC_dec',\n",
       "       'Separation_TMASS_GAIA', 'Separation_TMASS_GAIA_ra',\n",
       "       'Separation_TMASS_GAIA_dec', 'Separation_ALLWISE_CSC',\n",
       "       'Separation_ALLWISE_CSC_ra', 'Separation_ALLWISE_CSC_dec',\n",
       "       'Separation_ALLWISE_GAIA', 'Separation_ALLWISE_GAIA_ra',\n",
       "       'Separation_ALLWISE_GAIA_dec', 'Separation_ALLWISE_TMASS',\n",
       "       'Separation_ALLWISE_TMASS_ra', 'Separation_ALLWISE_TMASS_dec',\n",
       "       'Separation_CATWISE_CSC', 'Separation_CATWISE_CSC_ra',\n",
       "       'Separation_CATWISE_CSC_dec', 'Separation_CATWISE_GAIA',\n",
       "       'Separation_CATWISE_GAIA_ra', 'Separation_CATWISE_GAIA_dec',\n",
       "       'Separation_CATWISE_TMASS', 'Separation_CATWISE_TMASS_ra',\n",
       "       'Separation_CATWISE_TMASS_dec', 'Separation_CATWISE_ALLWISE',\n",
       "       'Separation_CATWISE_ALLWISE_ra', 'Separation_CATWISE_ALLWISE_dec',\n",
       "       'Separation_max', 'ncat', 'dist_bayesfactor',\n",
       "       'dist_bayesfactor_corrected', 'dist_post', 'p_single'],\n",
       "      dtype='object')"
      ]
     },
     "execution_count": 37,
     "metadata": {},
     "output_type": "execute_result"
    }
   ],
   "source": [
    "df_MW.columns[:100]"
   ]
  },
  {
   "cell_type": "code",
   "execution_count": 38,
   "id": "abaa578b",
   "metadata": {},
   "outputs": [
    {
     "name": "stdout",
     "output_type": "stream",
     "text": [
      "35615\n",
      "2455\n"
     ]
    },
    {
     "name": "stderr",
     "output_type": "stream",
     "text": [
      "WARNING: UnitsWarning: The unit 'pix' has been deprecated in the VOUnit standard. [astropy.units.format.utils]\n"
     ]
    },
    {
     "name": "stdout",
     "output_type": "stream",
     "text": [
      "2455\n",
      "2455\n"
     ]
    }
   ],
   "source": [
    "print(len(nway_all))\n",
    "TD_catalog = df_MW.drop_duplicates(subset=['ALLWISE_AllWISE','ALLWISE_RA','ALLWISE_DEC'])[['ALLWISE_AllWISE','ALLWISE_RA','ALLWISE_DEC']]\n",
    "TD_catalog = TD_catalog[TD_catalog['ALLWISE_AllWISE']!='-99'].reset_index(drop=True)\n",
    "\n",
    "\n",
    "print(len(TD_catalog))\n",
    "\n",
    "\n",
    "\n",
    "TD_catalog['_q'] = TD_catalog.index+1\n",
    "\n",
    "#'''\n",
    "# cross-matching to Gaiadr3 catalog with phot_bp_rp_excess_factor\n",
    "\n",
    "viz = Vizier(row_limit=-1,  timeout=5000, columns=[\"**\", \"+_r\"], catalog='II/328/allwise')\n",
    "\n",
    "radec = [[TD_catalog.loc[i, 'ALLWISE_RA'], TD_catalog.loc[i, 'ALLWISE_DEC']] for i in range(len(TD_catalog))]\n",
    "rd = Table(Angle(radec, 'deg'), names=('_RAJ2000', '_DEJ2000'))\n",
    "df_catalog = viz.query_region(rd, radius=0.1*u.arcsec)[0].to_pandas()\n",
    "#'''\n",
    "print(len(TD_catalog))\n",
    "TD_catalog = pd.merge(TD_catalog, df_catalog, on=['_q'], how='inner')#.rename(columns={'Flag':'gaiadist_flag'})\n",
    "\n",
    "TD_catalog = TD_catalog[TD_catalog['_r']<=0.0001].reset_index(drop=True)\n",
    "print(len(TD_catalog))\n",
    "\n",
    "\n",
    "flag_cols = ['na', 'sat1', 'sat2', 'sat3', 'ccf', 'ex', 'qph']\n",
    "for flag in flag_cols:\n",
    "    df_MW[flag] = -99\n",
    "    for cat_src in TD_catalog['ALLWISE_AllWISE'].unique():\n",
    "        \n",
    "        df_MW.loc[df_MW['ALLWISE_AllWISE']==cat_src, flag] = TD_catalog.loc[TD_catalog['ALLWISE_AllWISE']==cat_src, flag].values[0]\n"
   ]
  },
  {
   "cell_type": "code",
   "execution_count": 41,
   "id": "ffd6a5be",
   "metadata": {},
   "outputs": [
    {
     "name": "stdout",
     "output_type": "stream",
     "text": [
      "35615\n",
      "2386\n",
      "2386\n",
      "2386\n"
     ]
    }
   ],
   "source": [
    "print(len(nway_all))\n",
    "TD_catalog = df_MW.drop_duplicates(subset=['TMASS__2MASS','TMASS_RA', 'TMASS_DEC'])[['TMASS__2MASS','TMASS_RA', 'TMASS_DEC']]\n",
    "TD_catalog = TD_catalog[TD_catalog['TMASS__2MASS']!='-99'].reset_index(drop=True)\n",
    "\n",
    "\n",
    "print(len(TD_catalog))\n",
    "\n",
    "\n",
    "\n",
    "TD_catalog['_q'] = TD_catalog.index+1\n",
    "\n",
    "#'''\n",
    "# cross-matching to Gaiadr3 catalog with phot_bp_rp_excess_factor\n",
    "\n",
    "viz = Vizier(row_limit=-1,  timeout=5000, columns=[\"**\", \"+_r\"], catalog='II/246/out')\n",
    "\n",
    "radec = [[TD_catalog.loc[i, 'TMASS_RA'], TD_catalog.loc[i, 'TMASS_DEC']] for i in range(len(TD_catalog))]\n",
    "rd = Table(Angle(radec, 'deg'), names=('_RAJ2000', '_DEJ2000'))\n",
    "df_catalog = viz.query_region(rd, radius=0.1*u.arcsec)[0].to_pandas()\n",
    "#'''\n",
    "print(len(TD_catalog))\n",
    "TD_catalog = pd.merge(TD_catalog, df_catalog, on=['_q'], how='inner')#.rename(columns={'Flag':'gaiadist_flag'})\n",
    "\n",
    "TD_catalog = TD_catalog[TD_catalog['_r']<=0.0001].reset_index(drop=True)\n",
    "print(len(TD_catalog))\n",
    "\n",
    "\n",
    "#'''\n",
    "flag_cols = ['Qflg', 'Rflg', 'Bflg', 'Cflg','Xflg', 'Aflg']\n",
    "for flag in flag_cols:\n",
    "    df_MW[flag] = -99\n",
    "    for cat_src in TD_catalog['TMASS__2MASS'].unique():\n",
    "        \n",
    "        df_MW.loc[df_MW['TMASS__2MASS']==cat_src, flag] = TD_catalog.loc[TD_catalog['TMASS__2MASS']==cat_src, flag].values[0]\n",
    "#'''"
   ]
  },
  {
   "cell_type": "code",
   "execution_count": 40,
   "id": "e79f7ff1",
   "metadata": {},
   "outputs": [
    {
     "data": {
      "text/plain": [
       "Index(['TMASS__2MASS', 'TMASS_RA', 'TMASS_DEC', '_q', '_r', 'RAJ2000',\n",
       "       'DEJ2000', 'errMaj', 'errMin', 'errPA', '_2MASS', 'Jmag', 'Jcmsig',\n",
       "       'e_Jmag', 'Jsnr', 'Hmag', 'Hcmsig', 'e_Hmag', 'Hsnr', 'Kmag', 'Kcmsig',\n",
       "       'e_Kmag', 'Ksnr', 'Qflg', 'Rflg', 'Bflg', 'Cflg', 'Ndet', 'prox',\n",
       "       'pxPA', 'pxCntr', 'Xflg', 'Aflg', 'Cntr', 'Hemis', 'Date', 'Scan',\n",
       "       'GLON', 'GLAT', 'Xscan', '_tab1_36', 'Jpsfchi', 'Hpsfchi', 'Kpsfchi',\n",
       "       'Jstdap', 'e_Jstdap', 'Hstdap', 'e_Hstdap', 'Kstdap', 'e_Kstdap',\n",
       "       'edgeNS', 'edgeEW', 'edge', 'dup', 'use', 'opt', 'Dopt', 'PAopt',\n",
       "       'Bmag', 'Rmag', 'Nopt', 'extKey', 'scanKey', 'coaddKey', 'coadd',\n",
       "       'Opt'],\n",
       "      dtype='object')"
      ]
     },
     "execution_count": 40,
     "metadata": {},
     "output_type": "execute_result"
    }
   ],
   "source": [
    "TD_catalog.columns\n",
    "\n"
   ]
  },
  {
   "cell_type": "code",
   "execution_count": 43,
   "id": "9e9e0f00",
   "metadata": {},
   "outputs": [],
   "source": [
    "catalogs = {'GAIA': ['Gmag','BPmag','RPmag'], \n",
    "            'TMASS': ['Jmag','Hmag','Kmag' ],\n",
    "            'ALLWISE': ['W1mag','W2mag','W3mag','W4mag'],\n",
    "            'CATWISE':['W1mproPM','W2mproPM']}\n",
    "for cat in catalogs:\n",
    "    for col in catalogs[cat]:\n",
    "        #print(col)\n",
    "        df_MW = df_MW.rename(columns={cat+'_'+col:col, cat+'_e_'+col:'e_'+col})\n",
    "\n",
    "df_MW = df_MW.fillna('-99')\n",
    "df_MW = df_MW.replace({-99:'-99'})\n",
    "df_MW = df_MW.replace({-99.:'-99'})\n",
    "#df_comb = df_comb.replace({'-99':np.nan})\n",
    "df_MW = df_MW.replace({1e20:'-99'})\n",
    "\n",
    "# combine ALLWISE, CatWISE and UnWISE\n",
    "\n",
    "for w in ['W1','W2']:\n",
    "    df_MW.loc[df_MW['ALLWISE_AllWISE']=='-99', w+'mag']      = df_MW.loc[df_MW['ALLWISE_AllWISE']=='-99', w+'mproPM']\n",
    "    df_MW.loc[df_MW['ALLWISE_AllWISE']=='-99', 'e_'+w+'mag'] = df_MW.loc[df_MW['ALLWISE_AllWISE']=='-99', 'e_'+w+'mproPM']\n",
    "\n",
    "df_MW = df_MW.replace({'-99':np.nan})\n",
    "\n"
   ]
  },
  {
   "cell_type": "code",
   "execution_count": 44,
   "id": "2909fa07",
   "metadata": {},
   "outputs": [],
   "source": [
    "CGS = pd.read_csv('/Users/huiyang/Research/GitHub/MUWCLASS_CSCv2/old_files/CSCv2_all_MW_classprob_XCLASS.csv')\n",
    "\n",
    "TD_new = CGS[CGS['name'].isin(add_new)].reset_index(drop=True)\n",
    "\n"
   ]
  },
  {
   "cell_type": "code",
   "execution_count": 45,
   "id": "bcc526a7",
   "metadata": {},
   "outputs": [],
   "source": [
    "TD_new_class = pd.DataFrame.from_dict({'Class':['HMXB','HMXB','HMXB','HMXB','HMXB','CV'], \n",
    "         'name':['2CXO J081228.3-311452', '2CXO J131825.0-625815',\n",
    "               '2CXO J163905.4-464212', '2CXO J174906.8-273233',\n",
    "               '2CXO J174912.4-272538', '2CXO J174954.6-294335']})\n",
    "\n",
    "TD_new = pd.merge(TD_new, TD_new_class, on='name').rename(columns={'Class_y':'Class'})"
   ]
  },
  {
   "cell_type": "code",
   "execution_count": 46,
   "id": "27dbfda5",
   "metadata": {},
   "outputs": [],
   "source": [
    "TD = pd.concat([TD[['name','ra', 'dec','flux_aper90_ave_s', 'e_flux_aper90_ave_s',\n",
    "       'flux_aper90_ave_m', 'e_flux_aper90_ave_m', 'flux_aper90_ave_h','powlaw_gamma_mean','e_powlaw_gamma_mean',\n",
    "       'e_flux_aper90_ave_h','kp_prob_b_max','var_inter_prob','Class']].rename(columns = {\n",
    "       'flux_aper90_ave_s':'Fcsc_s','e_flux_aper90_ave_s':'e_Fcsc_s',\n",
    "       'flux_aper90_ave_m':'Fcsc_m','e_flux_aper90_ave_m':'e_Fcsc_m',\n",
    "       'flux_aper90_ave_h':'Fcsc_h','e_flux_aper90_ave_h':'e_Fcsc_h','kp_prob_b_max':'var_intra_prob'}), \n",
    "                TD_new[['name','ra', 'dec','F_s', 'e_Fcsc_s',\n",
    "       'F_m', 'e_Fcsc_m', 'F_h', 'e_Fcsc_h','P_intra', 'P_inter','Class']].rename(columns={\n",
    "       'F_s':'Fcsc_s','F_m':'Fcsc_m','F_h':'Fcsc_h',\n",
    "       'P_intra':'var_intra_prob','P_inter':'var_inter_prob'}) ], ignore_index=True, sort=False)"
   ]
  },
  {
   "cell_type": "code",
   "execution_count": 47,
   "id": "80558e3c",
   "metadata": {},
   "outputs": [
    {
     "name": "stdout",
     "output_type": "stream",
     "text": [
      "35661\n",
      "30212\n",
      "0    24046\n",
      "1     3132\n",
      "3     2881\n",
      "2      153\n",
      "Name: match_flag, dtype: int64\n"
     ]
    }
   ],
   "source": [
    "len(TD['name'].unique()), len(df_MW['name'].unique())\n",
    "\n",
    "print(len(df_MW))\n",
    "df_MW = df_MW[df_MW['name'].isin(TD['name'])].reset_index(drop=True)\n",
    "print(len(df_MW))\n",
    "\n",
    "len(df_MW.loc[df_MW['p_any']==0, 'name'].unique()), len(df_MW[df_MW['p_any']==0])\n",
    "\n",
    "df_MW.loc[df_MW['p_any']==0, 'p_i'] = 1.\n",
    "df_MW.loc[(df_MW['ncat']==1) & (df_MW['p_any']!=0), 'match_flag'] = 3\n",
    "#df = recal_matchflag(df, ratio=2., csc='CSC__2CXO')\n",
    "print(df_MW['match_flag'].value_counts())\n",
    "df_MW.loc[df_MW['match_flag']==3, 'p_i'] = 1.- df_MW.loc[df_MW['match_flag']==3, 'p_any']\n",
    "df_MW.loc[(df_MW['match_flag']!=3) & (df_MW['p_any']!=0), 'p_i'] = df_MW.loc[(df_MW['match_flag']!=3) & (df_MW['p_any']!=0), 'p_i'] * df_MW.loc[(df_MW['match_flag']!=3) & (df_MW['p_any']!=0), 'p_any']\n",
    "df_MW = df_MW.sort_values(by=['name','p_i'],ascending=[True, False]).reset_index(drop=True)"
   ]
  },
  {
   "cell_type": "code",
   "execution_count": 48,
   "id": "e776f991",
   "metadata": {},
   "outputs": [],
   "source": [
    "df_MW['p_l'], df_MW['p_u']= np.nan, np.nan\n",
    "\n",
    "for name in df_MW['name'].unique():\n",
    "    idxs = df_MW[df_MW['name']==name].index\n",
    "    #print(idxs)\n",
    "    p_s = 0.\n",
    "    for idx in idxs:\n",
    "        df_MW.loc[idx, 'p_l'] = p_s\n",
    "        p_s += df_MW.loc[idx, 'p_i']\n",
    "        df_MW.loc[idx, 'p_u'] = p_s\n",
    "        "
   ]
  },
  {
   "cell_type": "code",
   "execution_count": 51,
   "id": "3017125b",
   "metadata": {},
   "outputs": [
    {
     "data": {
      "text/plain": [
       "Index(['CSC_ID', 'CSC_RA', 'CSC_DEC', 'CSC_err_r0', 'CSC_err_r1', 'CSC_PA',\n",
       "       'CSC__2CXO', 'CSC__r', 'CSC_fe', 'CSC_fc', 'GAIA_RA', 'GAIA_DEC',\n",
       "       'GAIA_PU', 'GAIA_Source', 'GAIA__r', 'GAIA_e_Pos', 'GAIA_Plx',\n",
       "       'GAIA_e_Plx', 'GAIA_PM', 'GAIA_e_PM', 'GAIA_epsi', 'Gmag', 'BPmag',\n",
       "       'RPmag', 'e_Gmag', 'e_BPmag', 'e_RPmag', 'TMASS_RA', 'TMASS_DEC',\n",
       "       'TMASS_err0', 'TMASS_err1', 'TMASS_errPA', 'TMASS__2MASS', 'TMASS__r',\n",
       "       'Jmag', 'Hmag', 'Kmag', 'e_Jmag', 'e_Hmag', 'e_Kmag', 'ALLWISE_RA',\n",
       "       'ALLWISE_DEC', 'ALLWISE_err0', 'ALLWISE_err1', 'ALLWISE_errPA',\n",
       "       'ALLWISE_AllWISE', 'ALLWISE__r', 'W1mag', 'W2mag', 'W3mag', 'W4mag',\n",
       "       'e_W1mag', 'e_W2mag', 'e_W3mag', 'e_W4mag', 'CATWISE_RA', 'CATWISE_DEC',\n",
       "       'CATWISE_PU', 'CATWISE_Name', 'CATWISE__r', 'W1mproPM', 'W2mproPM',\n",
       "       'e_W1mproPM', 'e_W2mproPM', 'Separation_GAIA_CSC',\n",
       "       'Separation_GAIA_CSC_ra', 'Separation_GAIA_CSC_dec',\n",
       "       'Separation_TMASS_CSC', 'Separation_TMASS_CSC_ra',\n",
       "       'Separation_TMASS_CSC_dec', 'Separation_TMASS_GAIA',\n",
       "       'Separation_TMASS_GAIA_ra', 'Separation_TMASS_GAIA_dec',\n",
       "       'Separation_ALLWISE_CSC', 'Separation_ALLWISE_CSC_ra',\n",
       "       'Separation_ALLWISE_CSC_dec', 'Separation_ALLWISE_GAIA',\n",
       "       'Separation_ALLWISE_GAIA_ra', 'Separation_ALLWISE_GAIA_dec',\n",
       "       'Separation_ALLWISE_TMASS', 'Separation_ALLWISE_TMASS_ra',\n",
       "       'Separation_ALLWISE_TMASS_dec', 'Separation_CATWISE_CSC',\n",
       "       'Separation_CATWISE_CSC_ra', 'Separation_CATWISE_CSC_dec',\n",
       "       'Separation_CATWISE_GAIA', 'Separation_CATWISE_GAIA_ra',\n",
       "       'Separation_CATWISE_GAIA_dec', 'Separation_CATWISE_TMASS',\n",
       "       'Separation_CATWISE_TMASS_ra', 'Separation_CATWISE_TMASS_dec',\n",
       "       'Separation_CATWISE_ALLWISE', 'Separation_CATWISE_ALLWISE_ra',\n",
       "       'Separation_CATWISE_ALLWISE_dec', 'Separation_max', 'ncat',\n",
       "       'dist_bayesfactor', 'dist_bayesfactor_corrected', 'dist_post',\n",
       "       'p_single'],\n",
       "      dtype='object')"
      ]
     },
     "execution_count": 51,
     "metadata": {},
     "output_type": "execute_result"
    }
   ],
   "source": [
    "df_MW.columns[:100]"
   ]
  },
  {
   "cell_type": "code",
   "execution_count": 52,
   "id": "ac0b83cf",
   "metadata": {},
   "outputs": [],
   "source": [
    "df_MW[['name','Gmag', 'BPmag', 'RPmag', 'e_Gmag', 'e_BPmag', 'e_RPmag','E_BP_RP_','Jmag', 'Hmag', 'Kmag', 'e_Jmag', 'e_Hmag','Qflg','Rflg','Bflg','Cflg','Xflg','Aflg',\n",
    "       'e_Kmag','W1mag','W2mag','W3mag', 'W4mag', 'e_W1mag', 'e_W2mag', 'e_W3mag', 'e_W4mag','na', 'sat1', 'sat2', 'sat3', 'ccf', 'ex', 'qph',\n",
    "       'ncat','p_any','p_i','p_l','p_u','match_flag','Gaia','TMASS__2MASS','ALLWISE_AllWISE','CATWISE_Name']].to_csv('./data/TD_v03022023/TD_v03022023_MW.csv', index=False)\n",
    "\n",
    "TD.to_csv('./data/TD_v03022023/TD_v03022023_Xray.csv', index=False)"
   ]
  },
  {
   "cell_type": "code",
   "execution_count": 291,
   "id": "3dd41474",
   "metadata": {},
   "outputs": [
    {
     "data": {
      "text/plain": [
       "AGN        1405\n",
       "YSO         748\n",
       "LM-STAR     607\n",
       "HM-STAR     128\n",
       "NS           95\n",
       "LMXB         63\n",
       "CV           48\n",
       "HMXB         38\n",
       "Name: Class, dtype: int64"
      ]
     },
     "execution_count": 291,
     "metadata": {},
     "output_type": "execute_result"
    }
   ],
   "source": [
    "TD['Class'].value_counts()"
   ]
  },
  {
   "cell_type": "code",
   "execution_count": 358,
   "id": "4151db82",
   "metadata": {},
   "outputs": [
    {
     "data": {
      "text/plain": [
       "(3132, 3132)"
      ]
     },
     "execution_count": 358,
     "metadata": {},
     "output_type": "execute_result"
    }
   ],
   "source": [
    "len(TD['name'].unique()), len(df_MW['name'].unique())"
   ]
  },
  {
   "cell_type": "code",
   "execution_count": 359,
   "id": "7e3ac208",
   "metadata": {},
   "outputs": [
    {
     "data": {
      "text/plain": [
       "3132"
      ]
     },
     "execution_count": 359,
     "metadata": {},
     "output_type": "execute_result"
    }
   ],
   "source": [
    "len(TD[TD['name'].isin(df_MW['name'])])"
   ]
  },
  {
   "cell_type": "code",
   "execution_count": 360,
   "id": "e2c039d0",
   "metadata": {},
   "outputs": [
    {
     "data": {
      "text/html": [
       "<div>\n",
       "<style scoped>\n",
       "    .dataframe tbody tr th:only-of-type {\n",
       "        vertical-align: middle;\n",
       "    }\n",
       "\n",
       "    .dataframe tbody tr th {\n",
       "        vertical-align: top;\n",
       "    }\n",
       "\n",
       "    .dataframe thead th {\n",
       "        text-align: right;\n",
       "    }\n",
       "</style>\n",
       "<table border=\"1\" class=\"dataframe\">\n",
       "  <thead>\n",
       "    <tr style=\"text-align: right;\">\n",
       "      <th></th>\n",
       "      <th>name</th>\n",
       "      <th>ra</th>\n",
       "      <th>dec</th>\n",
       "      <th>Fcsc_s</th>\n",
       "      <th>e_Fcsc_s</th>\n",
       "      <th>Fcsc_m</th>\n",
       "      <th>e_Fcsc_m</th>\n",
       "      <th>Fcsc_h</th>\n",
       "      <th>powlaw_gamma_mean</th>\n",
       "      <th>e_powlaw_gamma_mean</th>\n",
       "      <th>e_Fcsc_h</th>\n",
       "      <th>var_intra_prob</th>\n",
       "      <th>var_inter_prob</th>\n",
       "      <th>Class</th>\n",
       "    </tr>\n",
       "  </thead>\n",
       "  <tbody>\n",
       "    <tr>\n",
       "      <th>0</th>\n",
       "      <td>2CXO J000150.5+233015</td>\n",
       "      <td>0.460542</td>\n",
       "      <td>23.504339</td>\n",
       "      <td>2.271000e-15</td>\n",
       "      <td>6.440000e-16</td>\n",
       "      <td>1.335000e-16</td>\n",
       "      <td>1.335000e-16</td>\n",
       "      <td>7.978846e-18</td>\n",
       "      <td>NaN</td>\n",
       "      <td>NaN</td>\n",
       "      <td>6.028103e-18</td>\n",
       "      <td>NaN</td>\n",
       "      <td>NaN</td>\n",
       "      <td>LM-STAR</td>\n",
       "    </tr>\n",
       "    <tr>\n",
       "      <th>1</th>\n",
       "      <td>2CXO J000701.5+730308</td>\n",
       "      <td>1.756542</td>\n",
       "      <td>73.052258</td>\n",
       "      <td>6.539798e-15</td>\n",
       "      <td>7.795001e-16</td>\n",
       "      <td>5.389000e-15</td>\n",
       "      <td>8.090000e-16</td>\n",
       "      <td>2.488798e-14</td>\n",
       "      <td>NaN</td>\n",
       "      <td>NaN</td>\n",
       "      <td>3.525002e-15</td>\n",
       "      <td>0.732</td>\n",
       "      <td>NaN</td>\n",
       "      <td>NS</td>\n",
       "    </tr>\n",
       "    <tr>\n",
       "      <th>2</th>\n",
       "      <td>2CXO J001826.4+300400</td>\n",
       "      <td>4.610042</td>\n",
       "      <td>30.066714</td>\n",
       "      <td>1.096282e-15</td>\n",
       "      <td>7.074501e-16</td>\n",
       "      <td>3.585718e-16</td>\n",
       "      <td>3.096550e-16</td>\n",
       "      <td>1.314160e-15</td>\n",
       "      <td>NaN</td>\n",
       "      <td>NaN</td>\n",
       "      <td>1.134900e-15</td>\n",
       "      <td>0.838</td>\n",
       "      <td>NaN</td>\n",
       "      <td>LM-STAR</td>\n",
       "    </tr>\n",
       "    <tr>\n",
       "      <th>3</th>\n",
       "      <td>2CXO J005240.0+562837</td>\n",
       "      <td>13.166792</td>\n",
       "      <td>56.477003</td>\n",
       "      <td>6.646382e-15</td>\n",
       "      <td>8.588079e-16</td>\n",
       "      <td>1.007737e-15</td>\n",
       "      <td>2.834520e-16</td>\n",
       "      <td>1.801145e-15</td>\n",
       "      <td>NaN</td>\n",
       "      <td>NaN</td>\n",
       "      <td>8.182476e-16</td>\n",
       "      <td>0.934</td>\n",
       "      <td>0.120</td>\n",
       "      <td>LM-STAR</td>\n",
       "    </tr>\n",
       "    <tr>\n",
       "      <th>4</th>\n",
       "      <td>2CXO J010705.6+321056</td>\n",
       "      <td>16.773708</td>\n",
       "      <td>32.182486</td>\n",
       "      <td>3.128202e-14</td>\n",
       "      <td>5.515001e-15</td>\n",
       "      <td>6.775798e-15</td>\n",
       "      <td>2.742500e-15</td>\n",
       "      <td>7.669114e-15</td>\n",
       "      <td>NaN</td>\n",
       "      <td>NaN</td>\n",
       "      <td>5.039164e-15</td>\n",
       "      <td>0.933</td>\n",
       "      <td>NaN</td>\n",
       "      <td>LM-STAR</td>\n",
       "    </tr>\n",
       "    <tr>\n",
       "      <th>...</th>\n",
       "      <td>...</td>\n",
       "      <td>...</td>\n",
       "      <td>...</td>\n",
       "      <td>...</td>\n",
       "      <td>...</td>\n",
       "      <td>...</td>\n",
       "      <td>...</td>\n",
       "      <td>...</td>\n",
       "      <td>...</td>\n",
       "      <td>...</td>\n",
       "      <td>...</td>\n",
       "      <td>...</td>\n",
       "      <td>...</td>\n",
       "      <td>...</td>\n",
       "    </tr>\n",
       "    <tr>\n",
       "      <th>3127</th>\n",
       "      <td>2CXO J174954.6-294335</td>\n",
       "      <td>267.477583</td>\n",
       "      <td>-29.726492</td>\n",
       "      <td>2.346287e-15</td>\n",
       "      <td>1.053659e-15</td>\n",
       "      <td>8.862719e-15</td>\n",
       "      <td>2.016919e-15</td>\n",
       "      <td>4.825450e-13</td>\n",
       "      <td>NaN</td>\n",
       "      <td>NaN</td>\n",
       "      <td>3.145284e-14</td>\n",
       "      <td>1.000</td>\n",
       "      <td>0.999</td>\n",
       "      <td>CV</td>\n",
       "    </tr>\n",
       "    <tr>\n",
       "      <th>3128</th>\n",
       "      <td>2CXO J131825.0-625815</td>\n",
       "      <td>199.604417</td>\n",
       "      <td>-62.970975</td>\n",
       "      <td>7.978846e-18</td>\n",
       "      <td>6.028103e-18</td>\n",
       "      <td>7.978846e-18</td>\n",
       "      <td>6.028103e-18</td>\n",
       "      <td>1.659042e-13</td>\n",
       "      <td>NaN</td>\n",
       "      <td>NaN</td>\n",
       "      <td>3.600630e-14</td>\n",
       "      <td>NaN</td>\n",
       "      <td>NaN</td>\n",
       "      <td>HMXB</td>\n",
       "    </tr>\n",
       "    <tr>\n",
       "      <th>3129</th>\n",
       "      <td>2CXO J163905.4-464212</td>\n",
       "      <td>249.772792</td>\n",
       "      <td>-46.703497</td>\n",
       "      <td>4.506595e-15</td>\n",
       "      <td>2.133531e-15</td>\n",
       "      <td>5.298133e-15</td>\n",
       "      <td>9.379576e-16</td>\n",
       "      <td>9.790126e-12</td>\n",
       "      <td>NaN</td>\n",
       "      <td>NaN</td>\n",
       "      <td>1.013930e-13</td>\n",
       "      <td>1.000</td>\n",
       "      <td>1.000</td>\n",
       "      <td>HMXB</td>\n",
       "    </tr>\n",
       "    <tr>\n",
       "      <th>3130</th>\n",
       "      <td>2CXO J174912.4-272538</td>\n",
       "      <td>267.301667</td>\n",
       "      <td>-27.427286</td>\n",
       "      <td>1.526036e-15</td>\n",
       "      <td>1.068777e-15</td>\n",
       "      <td>5.972962e-15</td>\n",
       "      <td>2.960973e-15</td>\n",
       "      <td>1.615903e-12</td>\n",
       "      <td>NaN</td>\n",
       "      <td>NaN</td>\n",
       "      <td>1.082808e-13</td>\n",
       "      <td>0.985</td>\n",
       "      <td>0.995</td>\n",
       "      <td>HMXB</td>\n",
       "    </tr>\n",
       "    <tr>\n",
       "      <th>3131</th>\n",
       "      <td>2CXO J174906.8-273233</td>\n",
       "      <td>267.278708</td>\n",
       "      <td>-27.542514</td>\n",
       "      <td>7.958265e-16</td>\n",
       "      <td>5.516268e-16</td>\n",
       "      <td>1.241888e-15</td>\n",
       "      <td>9.630437e-16</td>\n",
       "      <td>8.110743e-13</td>\n",
       "      <td>NaN</td>\n",
       "      <td>NaN</td>\n",
       "      <td>7.785622e-14</td>\n",
       "      <td>0.860</td>\n",
       "      <td>0.137</td>\n",
       "      <td>HMXB</td>\n",
       "    </tr>\n",
       "  </tbody>\n",
       "</table>\n",
       "<p>3132 rows × 14 columns</p>\n",
       "</div>"
      ],
      "text/plain": [
       "                       name          ra        dec        Fcsc_s  \\\n",
       "0     2CXO J000150.5+233015    0.460542  23.504339  2.271000e-15   \n",
       "1     2CXO J000701.5+730308    1.756542  73.052258  6.539798e-15   \n",
       "2     2CXO J001826.4+300400    4.610042  30.066714  1.096282e-15   \n",
       "3     2CXO J005240.0+562837   13.166792  56.477003  6.646382e-15   \n",
       "4     2CXO J010705.6+321056   16.773708  32.182486  3.128202e-14   \n",
       "...                     ...         ...        ...           ...   \n",
       "3127  2CXO J174954.6-294335  267.477583 -29.726492  2.346287e-15   \n",
       "3128  2CXO J131825.0-625815  199.604417 -62.970975  7.978846e-18   \n",
       "3129  2CXO J163905.4-464212  249.772792 -46.703497  4.506595e-15   \n",
       "3130  2CXO J174912.4-272538  267.301667 -27.427286  1.526036e-15   \n",
       "3131  2CXO J174906.8-273233  267.278708 -27.542514  7.958265e-16   \n",
       "\n",
       "          e_Fcsc_s        Fcsc_m      e_Fcsc_m        Fcsc_h  \\\n",
       "0     6.440000e-16  1.335000e-16  1.335000e-16  7.978846e-18   \n",
       "1     7.795001e-16  5.389000e-15  8.090000e-16  2.488798e-14   \n",
       "2     7.074501e-16  3.585718e-16  3.096550e-16  1.314160e-15   \n",
       "3     8.588079e-16  1.007737e-15  2.834520e-16  1.801145e-15   \n",
       "4     5.515001e-15  6.775798e-15  2.742500e-15  7.669114e-15   \n",
       "...            ...           ...           ...           ...   \n",
       "3127  1.053659e-15  8.862719e-15  2.016919e-15  4.825450e-13   \n",
       "3128  6.028103e-18  7.978846e-18  6.028103e-18  1.659042e-13   \n",
       "3129  2.133531e-15  5.298133e-15  9.379576e-16  9.790126e-12   \n",
       "3130  1.068777e-15  5.972962e-15  2.960973e-15  1.615903e-12   \n",
       "3131  5.516268e-16  1.241888e-15  9.630437e-16  8.110743e-13   \n",
       "\n",
       "      powlaw_gamma_mean  e_powlaw_gamma_mean      e_Fcsc_h  var_intra_prob  \\\n",
       "0                   NaN                  NaN  6.028103e-18             NaN   \n",
       "1                   NaN                  NaN  3.525002e-15           0.732   \n",
       "2                   NaN                  NaN  1.134900e-15           0.838   \n",
       "3                   NaN                  NaN  8.182476e-16           0.934   \n",
       "4                   NaN                  NaN  5.039164e-15           0.933   \n",
       "...                 ...                  ...           ...             ...   \n",
       "3127                NaN                  NaN  3.145284e-14           1.000   \n",
       "3128                NaN                  NaN  3.600630e-14             NaN   \n",
       "3129                NaN                  NaN  1.013930e-13           1.000   \n",
       "3130                NaN                  NaN  1.082808e-13           0.985   \n",
       "3131                NaN                  NaN  7.785622e-14           0.860   \n",
       "\n",
       "      var_inter_prob    Class  \n",
       "0                NaN  LM-STAR  \n",
       "1                NaN       NS  \n",
       "2                NaN  LM-STAR  \n",
       "3              0.120  LM-STAR  \n",
       "4                NaN  LM-STAR  \n",
       "...              ...      ...  \n",
       "3127           0.999       CV  \n",
       "3128             NaN     HMXB  \n",
       "3129           1.000     HMXB  \n",
       "3130           0.995     HMXB  \n",
       "3131           0.137     HMXB  \n",
       "\n",
       "[3132 rows x 14 columns]"
      ]
     },
     "execution_count": 360,
     "metadata": {},
     "output_type": "execute_result"
    }
   ],
   "source": [
    "TD"
   ]
  },
  {
   "cell_type": "code",
   "execution_count": 312,
   "id": "81c4da10",
   "metadata": {},
   "outputs": [],
   "source": [
    "\n",
    "df_X = pd.read_csv(f'./data/TD_v03022023/TD_v03022023_Xray.csv')\n",
    "df_MW = pd.read_csv(f'./data/TD_v03022023/TD_v03022023_MW.csv')\n",
    "\n",
    "np.random.seed(31)\n",
    "p_nways = np.random.uniform(low=0.0, high=1.0, size=len(df_X))\n",
    "\n",
    "df_MW_sel = pd.DataFrame()\n",
    "for name, p_nway in zip(df_MW['name'].unique(), p_nways):\n",
    "        df_MW_sel = pd.concat([df_MW_sel, df_MW[(df_MW['name']==name) & (df_MW['p_l']<=p_nway) &(df_MW['p_u']>p_nway)]], ignore_index=True, sort=False)\n",
    "        #print(df_MW[(df_MW['name']==name) & (df_MW['p_l']<=p_nway) &(df_MW['p_u']>p_nway)])\n",
    "        "
   ]
  },
  {
   "cell_type": "code",
   "execution_count": 311,
   "id": "95a01ac5",
   "metadata": {},
   "outputs": [],
   "source": [
    "match0 = df_MW_sel.loc[df_MW_sel['match_flag']==0, 'name'].values"
   ]
  },
  {
   "cell_type": "code",
   "execution_count": 313,
   "id": "fed65852",
   "metadata": {},
   "outputs": [],
   "source": [
    "match1 = df_MW_sel.loc[df_MW_sel['match_flag']==0, 'name'].values"
   ]
  },
  {
   "cell_type": "code",
   "execution_count": 320,
   "id": "13467325",
   "metadata": {},
   "outputs": [
    {
     "data": {
      "text/plain": [
       "['2CXO J015650.2+005308',\n",
       " '2CXO J015751.4+375305',\n",
       " '2CXO J015841.4-432503',\n",
       " '2CXO J024002.4+610744',\n",
       " '2CXO J025642.5-331521',\n",
       " '2CXO J043646.8+293832',\n",
       " '2CXO J053516.9-054555',\n",
       " '2CXO J053520.2-051359',\n",
       " '2CXO J053520.3-053039',\n",
       " '2CXO J054152.1-015717',\n",
       " '2CXO J095806.2+020113',\n",
       " '2CXO J100012.9+023522',\n",
       " '2CXO J102332.1+633508',\n",
       " '2CXO J103715.3+465014',\n",
       " '2CXO J111438.6-611116',\n",
       " '2CXO J122546.7+123943',\n",
       " '2CXO J124850.7-412654',\n",
       " '2CXO J141249.0-402136',\n",
       " '2CXO J150243.0+111557',\n",
       " '2CXO J150903.5-584821',\n",
       " '2CXO J160643.2-530142',\n",
       " '2CXO J173527.5-325554',\n",
       " '2CXO J193621.7+293455',\n",
       " '2CXO J195408.1+442216',\n",
       " '2CXO J201949.1+405209',\n",
       " '2CXO J203238.3+412857',\n",
       " '2CXO J203318.2+405610',\n",
       " '2CXO J203326.1+411549',\n",
       " '2CXO J214229.3+123317',\n",
       " '2CXO J222602.1+653146',\n",
       " '2CXO J230631.0+622831']"
      ]
     },
     "execution_count": 320,
     "metadata": {},
     "output_type": "execute_result"
    }
   ],
   "source": [
    "len([word for word in match0 if any(digram in word for digram in match1)])\n",
    "\n",
    "[word for word in match0 if any(digram in word for digram in match1)]\n",
    "\n",
    "#len(match0)"
   ]
  },
  {
   "cell_type": "code",
   "execution_count": null,
   "id": "ff9ddb4d",
   "metadata": {},
   "outputs": [],
   "source": []
  },
  {
   "cell_type": "code",
   "execution_count": 303,
   "id": "a5ee5057",
   "metadata": {},
   "outputs": [
    {
     "data": {
      "text/plain": [
       "1    2751\n",
       "3     180\n",
       "0     154\n",
       "2      47\n",
       "Name: match_flag, dtype: int64"
      ]
     },
     "execution_count": 303,
     "metadata": {},
     "output_type": "execute_result"
    }
   ],
   "source": [
    "df_MW_sel['match_flag'].value_counts()"
   ]
  },
  {
   "cell_type": "code",
   "execution_count": 305,
   "id": "ab547146",
   "metadata": {},
   "outputs": [
    {
     "data": {
      "text/plain": [
       "1    2726\n",
       "3     182\n",
       "0     179\n",
       "2      45\n",
       "Name: match_flag, dtype: int64"
      ]
     },
     "execution_count": 305,
     "metadata": {},
     "output_type": "execute_result"
    }
   ],
   "source": [
    "df_MW_sel['match_flag'].value_counts()"
   ]
  },
  {
   "cell_type": "code",
   "execution_count": null,
   "id": "1d77e46e",
   "metadata": {},
   "outputs": [],
   "source": []
  }
 ],
 "metadata": {
  "kernelspec": {
   "display_name": "Python 3 (ipykernel)",
   "language": "python",
   "name": "python3"
  },
  "language_info": {
   "codemirror_mode": {
    "name": "ipython",
    "version": 3
   },
   "file_extension": ".py",
   "mimetype": "text/x-python",
   "name": "python",
   "nbconvert_exporter": "python",
   "pygments_lexer": "ipython3",
   "version": "3.9.13"
  }
 },
 "nbformat": 4,
 "nbformat_minor": 5
}
